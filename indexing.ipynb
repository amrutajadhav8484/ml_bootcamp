{
 "cells": [
  {
   "cell_type": "markdown",
   "id": "208777a9-4b3f-4e2e-8849-ca3e2f291a86",
   "metadata": {},
   "source": [
    "# Forward indexing\n"
   ]
  },
  {
   "cell_type": "code",
   "execution_count": 1,
   "id": "25eb8857-c164-4c3f-8ec3-97d4c75d8534",
   "metadata": {},
   "outputs": [],
   "source": [
    "a=\"amruta\""
   ]
  },
  {
   "cell_type": "code",
   "execution_count": 2,
   "id": "805be52e-e7af-4a6e-8fc4-a4ab4b1c99e0",
   "metadata": {},
   "outputs": [
    {
     "data": {
      "text/plain": [
       "'m'"
      ]
     },
     "execution_count": 2,
     "metadata": {},
     "output_type": "execute_result"
    }
   ],
   "source": [
    "a[1]"
   ]
  },
  {
   "cell_type": "code",
   "execution_count": 3,
   "id": "04ffe1be-50a6-4767-a252-192d02d83d98",
   "metadata": {},
   "outputs": [
    {
     "data": {
      "text/plain": [
       "'a'"
      ]
     },
     "execution_count": 3,
     "metadata": {},
     "output_type": "execute_result"
    }
   ],
   "source": [
    "a[0]"
   ]
  },
  {
   "cell_type": "markdown",
   "id": "0a667898-46d0-4d5d-bd15-e3bdbcc5124f",
   "metadata": {},
   "source": [
    "# Bakward indexing"
   ]
  },
  {
   "cell_type": "code",
   "execution_count": 5,
   "id": "c18d3665-fa8b-49cb-afc4-594f27765dcb",
   "metadata": {},
   "outputs": [
    {
     "data": {
      "text/plain": [
       "'a'"
      ]
     },
     "execution_count": 5,
     "metadata": {},
     "output_type": "execute_result"
    }
   ],
   "source": [
    "a[-1]"
   ]
  },
  {
   "cell_type": "code",
   "execution_count": 6,
   "id": "e829ffd5-ea04-4e3f-95f7-585c40c1c43d",
   "metadata": {},
   "outputs": [
    {
     "data": {
      "text/plain": [
       "'u'"
      ]
     },
     "execution_count": 6,
     "metadata": {},
     "output_type": "execute_result"
    }
   ],
   "source": [
    "a[-3]"
   ]
  },
  {
   "cell_type": "markdown",
   "id": "8e93eb0e-1c96-43b7-8ef2-ae2cb5098a20",
   "metadata": {},
   "source": [
    "# Total length"
   ]
  },
  {
   "cell_type": "code",
   "execution_count": 8,
   "id": "96b643d0-449e-4e42-be5c-3a864bc1988d",
   "metadata": {},
   "outputs": [
    {
     "data": {
      "text/plain": [
       "6"
      ]
     },
     "execution_count": 8,
     "metadata": {},
     "output_type": "execute_result"
    }
   ],
   "source": [
    "len(a)"
   ]
  },
  {
   "cell_type": "markdown",
   "id": "9d3af825-a0c8-47b8-af45-a8566f6c97b1",
   "metadata": {},
   "source": [
    "# Total Index"
   ]
  },
  {
   "cell_type": "code",
   "execution_count": 9,
   "id": "3ae9ad30-7fb6-4748-9622-96cc27b081c2",
   "metadata": {},
   "outputs": [
    {
     "data": {
      "text/plain": [
       "5"
      ]
     },
     "execution_count": 9,
     "metadata": {},
     "output_type": "execute_result"
    }
   ],
   "source": [
    "len(a)-1"
   ]
  },
  {
   "cell_type": "code",
   "execution_count": null,
   "id": "43b6737e-31f3-4d88-9d86-418325b8d59b",
   "metadata": {},
   "outputs": [],
   "source": []
  }
 ],
 "metadata": {
  "kernelspec": {
   "display_name": "Python 3 (ipykernel)",
   "language": "python",
   "name": "python3"
  },
  "language_info": {
   "codemirror_mode": {
    "name": "ipython",
    "version": 3
   },
   "file_extension": ".py",
   "mimetype": "text/x-python",
   "name": "python",
   "nbconvert_exporter": "python",
   "pygments_lexer": "ipython3",
   "version": "3.10.6"
  }
 },
 "nbformat": 4,
 "nbformat_minor": 5
}
