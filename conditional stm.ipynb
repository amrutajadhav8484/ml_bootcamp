{
 "cells": [
  {
   "cell_type": "markdown",
   "id": "14cce421-5a3c-49f7-b7a2-f5c258ee8682",
   "metadata": {},
   "source": [
    "# Format Specifier\n"
   ]
  },
  {
   "cell_type": "code",
   "execution_count": 1,
   "id": "689e14fe-ba2b-4c57-8055-7d638663244e",
   "metadata": {},
   "outputs": [],
   "source": [
    "a=\" amruta\""
   ]
  },
  {
   "cell_type": "code",
   "execution_count": 2,
   "id": "9e2a3503-b0a4-4109-9c47-3d6dcc796b47",
   "metadata": {},
   "outputs": [
    {
     "name": "stdout",
     "output_type": "stream",
     "text": [
      " amruta\n"
     ]
    }
   ],
   "source": [
    "print(a)"
   ]
  },
  {
   "cell_type": "code",
   "execution_count": 6,
   "id": "518ddf75-167e-4004-9c59-ce4003b09a70",
   "metadata": {},
   "outputs": [
    {
     "name": "stdout",
     "output_type": "stream",
     "text": [
      "hello  amruta\n"
     ]
    }
   ],
   "source": [
    "print(\"hello %s\"%(a))"
   ]
  },
  {
   "cell_type": "code",
   "execution_count": 7,
   "id": "c345ba92-f563-4ef1-a4d1-81ca0e12ea01",
   "metadata": {},
   "outputs": [],
   "source": [
    "b=\"jadhav\""
   ]
  },
  {
   "cell_type": "code",
   "execution_count": 9,
   "id": "153beca9-8072-4be0-be40-b30d20fa20a4",
   "metadata": {},
   "outputs": [
    {
     "name": "stdout",
     "output_type": "stream",
     "text": [
      " hello amruta  amruta how are you jadhav\n"
     ]
    }
   ],
   "source": [
    "print(\" hello amruta %s how are you %s\"%(a,b))"
   ]
  },
  {
   "cell_type": "code",
   "execution_count": 13,
   "id": "ec9ec358-9fab-49fd-b81f-97c4137bb9e1",
   "metadata": {},
   "outputs": [],
   "source": [
    "c=19"
   ]
  },
  {
   "cell_type": "code",
   "execution_count": 14,
   "id": "8590b45d-29ef-460d-a8dd-ed1e6a097f60",
   "metadata": {},
   "outputs": [],
   "source": [
    "h=5.3"
   ]
  },
  {
   "cell_type": "code",
   "execution_count": 17,
   "id": "a8cb295e-0b2e-4e78-840c-9f36c78edb97",
   "metadata": {},
   "outputs": [
    {
     "name": "stdout",
     "output_type": "stream",
     "text": [
      "hello  amruta age is 19 height is 5.300000\n"
     ]
    }
   ],
   "source": [
    "print(\"hello %s age is %d height is %f\"%(a,c,h))"
   ]
  },
  {
   "cell_type": "markdown",
   "id": "5ae688e5-36ca-4c97-bf0a-9f20729548fc",
   "metadata": {},
   "source": [
    "# format  function"
   ]
  },
  {
   "cell_type": "code",
   "execution_count": 21,
   "id": "15c9a501-1eda-4ab8-b4f7-a455a519de7e",
   "metadata": {},
   "outputs": [],
   "source": [
    "b=111"
   ]
  },
  {
   "cell_type": "raw",
   "id": "c435ffec-2f99-4122-ab5f-3885413e401b",
   "metadata": {},
   "source": [
    "print(\"value of a{}\".format(b))"
   ]
  },
  {
   "cell_type": "code",
   "execution_count": 22,
   "id": "69acb782-ef29-4028-960e-627c25a0aecd",
   "metadata": {},
   "outputs": [
    {
     "name": "stdout",
     "output_type": "stream",
     "text": [
      "hello\n"
     ]
    }
   ],
   "source": [
    "print(\"hello\")"
   ]
  },
  {
   "cell_type": "code",
   "execution_count": 23,
   "id": "7204015f-60c4-45e8-bc4b-405decac70b6",
   "metadata": {},
   "outputs": [
    {
     "name": "stdout",
     "output_type": "stream",
     "text": [
      "value of a111\n"
     ]
    }
   ],
   "source": [
    "print(\"value of a{}\".format(b))"
   ]
  },
  {
   "cell_type": "code",
   "execution_count": 24,
   "id": "edd1d940-8423-42f4-b0bf-913074021222",
   "metadata": {},
   "outputs": [],
   "source": [
    "name=\"amruta\"\n",
    "age=22"
   ]
  },
  {
   "cell_type": "code",
   "execution_count": 26,
   "id": "d98a61ba-5632-4889-9b94-5f1802c61cef",
   "metadata": {},
   "outputs": [
    {
     "name": "stdout",
     "output_type": "stream",
     "text": [
      "name is amruta and age 22\n"
     ]
    }
   ],
   "source": [
    "print(\"name is {n} and age {a}\".format(n=name,a=age))"
   ]
  },
  {
   "cell_type": "code",
   "execution_count": 1,
   "id": "8b23fb45-a00d-40c6-9bbd-821639c220db",
   "metadata": {},
   "outputs": [
    {
     "name": "stdin",
     "output_type": "stream",
     "text": [
      "enter the number 23\n"
     ]
    },
    {
     "name": "stdout",
     "output_type": "stream",
     "text": [
      "number is odd\n"
     ]
    }
   ],
   "source": [
    "a=int(input(\"enter the number\"))\n",
    "if a%2==0:\n",
    "    print(\"number is even \")\n",
    "else:\n",
    "    print(\"number is odd\")"
   ]
  },
  {
   "cell_type": "code",
   "execution_count": 2,
   "id": "55ebebd6-160f-4418-82f9-e03a3b263d84",
   "metadata": {},
   "outputs": [
    {
     "data": {
      "text/plain": [
       "83"
      ]
     },
     "execution_count": 2,
     "metadata": {},
     "output_type": "execute_result"
    }
   ],
   "source": [
    "a='S'\n",
    "ord(a)"
   ]
  },
  {
   "cell_type": "code",
   "execution_count": 3,
   "id": "46ab4417-c3df-4bef-8b49-858ec466ca84",
   "metadata": {},
   "outputs": [],
   "source": [
    "# WAP TO ACCEPT a character from the user and check whether it is capital letter or small letter"
   ]
  },
  {
   "cell_type": "code",
   "execution_count": 7,
   "id": "362c4b26-32e6-4312-bf7e-349755a8b910",
   "metadata": {},
   "outputs": [
    {
     "name": "stdin",
     "output_type": "stream",
     "text": [
      "enter the character M\n"
     ]
    },
    {
     "name": "stdout",
     "output_type": "stream",
     "text": [
      "enetered character is capital\n"
     ]
    }
   ],
   "source": [
    "a=input(\"enter the character\")\n",
    "if\"A\"<=a[0]<=\"Z\":\n",
    "    print(\"enetered character is capital\")\n",
    "else:\n",
    "    print(\"small letter\")"
   ]
  },
  {
   "cell_type": "code",
   "execution_count": 11,
   "id": "41451f61-bb86-474b-909a-a34ad8d7f515",
   "metadata": {},
   "outputs": [
    {
     "name": "stdin",
     "output_type": "stream",
     "text": [
      "enter the character Priya\n"
     ]
    },
    {
     "name": "stdout",
     "output_type": "stream",
     "text": [
      "P is capital letter\n"
     ]
    }
   ],
   "source": [
    "charval=input(\"enter the character\")\n",
    "if charval[0]==charval[0].lower():\n",
    "    print(\"{} is small letter\".format(charval[0]))\n",
    "else:\n",
    "    print(\"{} is capital letter\".format(charval[0]))\n"
   ]
  },
  {
   "cell_type": "code",
   "execution_count": 7,
   "id": "8ca3d45d-1f42-4af9-bc5d-0aa2030c62b6",
   "metadata": {},
   "outputs": [
    {
     "name": "stdin",
     "output_type": "stream",
     "text": [
      "enter number 10\n",
      "enter 2nd number 11\n",
      "enter 3rd number 12\n"
     ]
    },
    {
     "name": "stdout",
     "output_type": "stream",
     "text": [
      "c is big\n"
     ]
    }
   ],
   "source": [
    "a=int(input(\"enter number\"))\n",
    "b=int(input(\"enter 2nd number\"))\n",
    "c=int(input(\"enter 3rd number\"))\n",
    "if(a>b):\n",
    "    if(a>c):\n",
    "        print(\"a is big\")\n",
    "    else:\n",
    "        print(\"c is big\")\n",
    "        \n",
    "elif(c>b):\n",
    "    print(\"c is big\")\n",
    "else:\n",
    "    print(\"b is big\")\n",
    "    "
   ]
  },
  {
   "cell_type": "code",
   "execution_count": 1,
   "id": "9617d082-30e5-483d-96e3-99c7ddc606b4",
   "metadata": {},
   "outputs": [
    {
     "name": "stdout",
     "output_type": "stream",
     "text": [
      "amruta\n",
      "amruta\n",
      "amruta\n",
      "amruta\n",
      "amruta\n",
      "amruta\n",
      "amruta\n",
      "amruta\n",
      "amruta\n"
     ]
    }
   ],
   "source": [
    "i=1\n",
    "x=10\n",
    "while i<x:\n",
    "    print(\"amruta\")\n",
    "    i+=1"
   ]
  },
  {
   "cell_type": "code",
   "execution_count": 3,
   "id": "95bfa644-30de-4ee4-9541-d63b52ac0052",
   "metadata": {},
   "outputs": [
    {
     "name": "stdout",
     "output_type": "stream",
     "text": [
      "amruta\n",
      "amruta\n",
      "amruta\n",
      "amruta\n",
      "amruta\n",
      "amruta\n",
      "amruta\n",
      "amruta\n",
      "amruta\n",
      "end of loop\n"
     ]
    }
   ],
   "source": [
    "i=1\n",
    "x=10\n",
    "while i<10:\n",
    "    print(\"amruta\")\n",
    "    i+=1\n",
    "print(\"end of loop\")"
   ]
  },
  {
   "cell_type": "code",
   "execution_count": 12,
   "id": "ebd015a9-323a-4a06-b321-c4d9b701d1db",
   "metadata": {},
   "outputs": [
    {
     "name": "stdin",
     "output_type": "stream",
     "text": [
      "enter the string amruta\n"
     ]
    },
    {
     "name": "stdout",
     "output_type": "stream",
     "text": [
      "m\n",
      "r\n",
      "t\n"
     ]
    }
   ],
   "source": [
    "ch=input(\"enter the string\")\n",
    "i=0\n",
    "while i<len(ch):\n",
    "    if ch[i] not in 'aieuo':\n",
    "        print(ch[i])\n",
    "    i+=1"
   ]
  },
  {
   "cell_type": "code",
   "execution_count": null,
   "id": "9e760074-8794-4476-b2b7-a1e853598f29",
   "metadata": {},
   "outputs": [],
   "source": [
    "i=1\n",
    "while i<=50:\n",
    "    print(i)\n",
    "    if i==40:\n",
    "        continue\n",
    "    i+=1\n",
    "else:\n",
    "    print(\"end of the loop\")"
   ]
  },
  {
   "cell_type": "code",
   "execution_count": null,
   "id": "d993b156-8cca-4d6b-9d98-ae931d2834a4",
   "metadata": {},
   "outputs": [],
   "source": []
  },
  {
   "cell_type": "code",
   "execution_count": null,
   "id": "b2d348b4-b85d-40bc-8445-dbd785027aef",
   "metadata": {},
   "outputs": [],
   "source": []
  }
 ],
 "metadata": {
  "kernelspec": {
   "display_name": "Python 3 (ipykernel)",
   "language": "python",
   "name": "python3"
  },
  "language_info": {
   "codemirror_mode": {
    "name": "ipython",
    "version": 3
   },
   "file_extension": ".py",
   "mimetype": "text/x-python",
   "name": "python",
   "nbconvert_exporter": "python",
   "pygments_lexer": "ipython3",
   "version": "3.10.6"
  }
 },
 "nbformat": 4,
 "nbformat_minor": 5
}
