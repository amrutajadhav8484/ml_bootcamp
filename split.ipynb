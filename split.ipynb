{
 "cells": [
  {
   "cell_type": "code",
   "execution_count": 2,
   "id": "199c0b97-4462-40dd-81e7-4b07a7f3142c",
   "metadata": {},
   "outputs": [
    {
     "data": {
      "text/plain": [
       "['welcome', 'to', 'vpkbiet']"
      ]
     },
     "execution_count": 2,
     "metadata": {},
     "output_type": "execute_result"
    }
   ],
   "source": [
    "a=\"welcome to vpkbiet\"\n",
    "a.split()\n"
   ]
  },
  {
   "cell_type": "code",
   "execution_count": 3,
   "id": "62c9d59f-af51-4310-9deb-dc9339dfbca0",
   "metadata": {},
   "outputs": [],
   "source": [
    "# split(separator,maxsplit)"
   ]
  },
  {
   "cell_type": "code",
   "execution_count": 4,
   "id": "0fcce63d-c894-448c-b666-cd3ae943f70b",
   "metadata": {},
   "outputs": [
    {
     "name": "stdin",
     "output_type": "stream",
     "text": [
      "enter three word string i write code\n"
     ]
    }
   ],
   "source": [
    "x=input(\"enter three word string\")"
   ]
  },
  {
   "cell_type": "code",
   "execution_count": 5,
   "id": "b9f7b8bc-3973-4147-83de-b29133aa7e15",
   "metadata": {},
   "outputs": [
    {
     "data": {
      "text/plain": [
       "'i write code'"
      ]
     },
     "execution_count": 5,
     "metadata": {},
     "output_type": "execute_result"
    }
   ],
   "source": [
    "x"
   ]
  },
  {
   "cell_type": "code",
   "execution_count": 6,
   "id": "9de70464-cdb1-4b7f-930e-5bcecd559d7f",
   "metadata": {},
   "outputs": [],
   "source": [
    "word1,word2,word3=x.split()"
   ]
  },
  {
   "cell_type": "code",
   "execution_count": 8,
   "id": "b78b68ae-5363-4fc9-be39-d21f09b1a7f1",
   "metadata": {},
   "outputs": [
    {
     "name": "stdout",
     "output_type": "stream",
     "text": [
      "i\n"
     ]
    }
   ],
   "source": [
    "print(word1)"
   ]
  },
  {
   "cell_type": "code",
   "execution_count": 9,
   "id": "6ea18b49-9b3d-495d-a07d-316b71f300f2",
   "metadata": {},
   "outputs": [
    {
     "name": "stdout",
     "output_type": "stream",
     "text": [
      "write\n"
     ]
    }
   ],
   "source": [
    "print(word2)\n"
   ]
  },
  {
   "cell_type": "code",
   "execution_count": 10,
   "id": "9cd4eec1-2d91-44ea-9fc2-92938d90ee64",
   "metadata": {},
   "outputs": [
    {
     "name": "stdout",
     "output_type": "stream",
     "text": [
      "code\n"
     ]
    }
   ],
   "source": [
    "print(word3)"
   ]
  },
  {
   "cell_type": "code",
   "execution_count": 1,
   "id": "851cb792-83a7-47b9-a91a-360e05a06b7e",
   "metadata": {},
   "outputs": [
    {
     "name": "stdin",
     "output_type": "stream",
     "text": [
      "enter the two numbers 12 31\n"
     ]
    },
    {
     "name": "stdout",
     "output_type": "stream",
     "text": [
      "43\n"
     ]
    }
   ],
   "source": [
    "number=input(\"enter the two numbers\")\n",
    "num1,num2=number.split()\n",
    "c=int(num1)+ int(num2)\n",
    "print(c)\n"
   ]
  },
  {
   "cell_type": "code",
   "execution_count": 2,
   "id": "70cf81e3-1c84-48af-a6f3-11dbb9d4cc68",
   "metadata": {},
   "outputs": [
    {
     "name": "stdin",
     "output_type": "stream",
     "text": [
      "enter rollno,name and percentage 16 amruta 19.9\n"
     ]
    },
    {
     "name": "stdout",
     "output_type": "stream",
     "text": [
      "rollno 16\n",
      "name= amruta\n",
      "percentage= 19.9\n"
     ]
    }
   ],
   "source": [
    "s=input(\"enter rollno,name and percentage\")\n",
    "rollno,name,perc=s.split()\n",
    "print(\"rollno\",int(rollno))\n",
    "print(\"name=\",name)\n",
    "print(\"percentage=\",float(perc))"
   ]
  },
  {
   "cell_type": "code",
   "execution_count": 4,
   "id": "331e2f7e-90c3-4ffc-a9d4-1b3b69f5deee",
   "metadata": {},
   "outputs": [
    {
     "name": "stdout",
     "output_type": "stream",
     "text": [
      "['', 'A', 'B', 'C D E']\n"
     ]
    },
    {
     "data": {
      "text/plain": [
       "88"
      ]
     },
     "execution_count": 4,
     "metadata": {},
     "output_type": "execute_result"
    }
   ],
   "source": [
    "st=\" A B C D E\"\n",
    "k=st.split(' ',3)\n",
    "print(k)\n",
    "import sys\n",
    "sys.getsizeof(k)\n"
   ]
  },
  {
   "cell_type": "code",
   "execution_count": 5,
   "id": "d2c0322d-851f-4c5f-ba0e-3bd572db0617",
   "metadata": {},
   "outputs": [],
   "source": [
    "a=\"ONE#TWO#THREE#FOUR#FIVE\"\n",
    "P=a.split('#')"
   ]
  },
  {
   "cell_type": "code",
   "execution_count": 6,
   "id": "6d301955-e87b-48f0-bbc2-6ce7dc641aff",
   "metadata": {},
   "outputs": [
    {
     "name": "stdout",
     "output_type": "stream",
     "text": [
      "['ONE', 'TWO', 'THREE', 'FOUR', 'FIVE']\n"
     ]
    }
   ],
   "source": [
    "print(P)"
   ]
  },
  {
   "cell_type": "code",
   "execution_count": 9,
   "id": "5e27ed29-9699-432d-ae5b-77425d2d601f",
   "metadata": {},
   "outputs": [
    {
     "name": "stdout",
     "output_type": "stream",
     "text": [
      "1\n",
      "2\n",
      "3\n",
      "4\n"
     ]
    }
   ],
   "source": [
    "i=1\n",
    "while i<=10:\n",
    "    if i==5:\n",
    "        break\n",
    "    print(i)\n",
    "    i+=1"
   ]
  },
  {
   "cell_type": "code",
   "execution_count": 5,
   "id": "da770dd0-ac6e-4425-b2f2-384063ed23e1",
   "metadata": {},
   "outputs": [
    {
     "name": "stdout",
     "output_type": "stream",
     "text": [
      "1\n",
      "3\n",
      "5\n",
      "7\n",
      "9\n"
     ]
    }
   ],
   "source": [
    "i=1\n",
    "while i<=10:\n",
    "    if(i%2!=0):\n",
    "        print(i)\n",
    "    i+=1\n",
    "        \n",
    "        "
   ]
  },
  {
   "cell_type": "code",
   "execution_count": 4,
   "id": "901f6a36-4881-4ddf-a4a8-78af13fc1483",
   "metadata": {},
   "outputs": [
    {
     "name": "stdout",
     "output_type": "stream",
     "text": [
      "1\n",
      "3\n",
      "5\n",
      "7\n",
      "9\n"
     ]
    }
   ],
   "source": [
    "#continue  skip the current iteration \n",
    "num=0\n",
    "while num <10:\n",
    "    num=num+1\n",
    "    if (num%2==0):\n",
    "        continue\n",
    "    print(num)"
   ]
  },
  {
   "cell_type": "code",
   "execution_count": 4,
   "id": "7602bc57-110d-4e04-b00a-f3a4e771352b",
   "metadata": {},
   "outputs": [
    {
     "name": "stdout",
     "output_type": "stream",
     "text": [
      "2\n",
      "4\n",
      "6\n",
      "8\n",
      "10\n"
     ]
    }
   ],
   "source": [
    "# pass : do nothing\n",
    "num=1\n",
    "while num <10:\n",
    "    num=num+1\n",
    "    if(num%2!=0):\n",
    "        pass\n",
    "    else:\n",
    "        print(num)"
   ]
  },
  {
   "cell_type": "code",
   "execution_count": null,
   "id": "8d0cb7ad-9d23-4061-add0-caa42cb8bf78",
   "metadata": {},
   "outputs": [],
   "source": [
    "my_list=[\"papaya\",\"mango\",\"pineappla\",\"orange\",\"grapes\"]\n",
    "size=len(my_list)\n",
    "print(size)"
   ]
  },
  {
   "cell_type": "code",
   "execution_count": 2,
   "id": "0edda761-cd6a-451a-b1c3-0958e6af17e2",
   "metadata": {},
   "outputs": [
    {
     "name": "stdout",
     "output_type": "stream",
     "text": [
      "mango found\n"
     ]
    }
   ],
   "source": [
    "my_list=[\"papaya\",\"mango\",\"pineappla\",\"orange\",\"grapes\"]\n",
    "size=len(my_list)\n",
    "i=0\n",
    "while i<size:\n",
    "    if my_list[i]==\"mango\":\n",
    "        print(\"mango found\")\n",
    "        break\n",
    "     \n",
    "    i=i+1\n",
    "    \n",
    "else:\n",
    "    print(\"not found\")\n",
    "        "
   ]
  },
  {
   "cell_type": "code",
   "execution_count": 1,
   "id": "cbb1da7a-42b3-47b3-905e-6802972c2fab",
   "metadata": {},
   "outputs": [
    {
     "name": "stdout",
     "output_type": "stream",
     "text": [
      "mango found\n"
     ]
    }
   ],
   "source": [
    "my_list = [\"papaya\", \"mango\", \"pineapple\", \"orange\", \"grapes\"]\n",
    "size = len(my_list)\n",
    "i = 0\n",
    "\n",
    "while i < size:\n",
    "    if my_list[i] == \"mango\":\n",
    "        print(\"mango found\")\n",
    "        break\n",
    "    \n",
    "    i = i + 1\n",
    "else:\n",
    "    print(\"not found\")\n"
   ]
  },
  {
   "cell_type": "code",
   "execution_count": 7,
   "id": "7f95dd86-3703-4380-a8cf-d9ff6a253528",
   "metadata": {},
   "outputs": [
    {
     "name": "stdout",
     "output_type": "stream",
     "text": [
      "1\n",
      "2\n",
      "3\n",
      "4\n"
     ]
    }
   ],
   "source": [
    "x=\"1234\"\n",
    "for i in x:\n",
    "    print(i)"
   ]
  },
  {
   "cell_type": "code",
   "execution_count": null,
   "id": "31ee825e-a5ba-4f39-97b1-55ba5941d5e0",
   "metadata": {},
   "outputs": [],
   "source": [
    "i=1\n",
    "while True:\n",
    "    if(i%2==0):\n",
    "        break\n",
    "    print(i)\n",
    "    i+i+2\n"
   ]
  },
  {
   "cell_type": "code",
   "execution_count": null,
   "id": "dce3fbfd-f9c1-42cb-a064-1ace08373ab4",
   "metadata": {},
   "outputs": [],
   "source": [
    "x=\"abcdef\"\n",
    "i=\"a\"\n",
    "while i in x:\n",
    "    print(i,end=\"\")"
   ]
  },
  {
   "cell_type": "code",
   "execution_count": null,
   "id": "0b36c658-00c4-4af1-8a82-5eb28f13ee41",
   "metadata": {},
   "outputs": [],
   "source": [
    "x=\"abcdef\"\n",
    "i=\"a\"\n",
    "while i in x:\n",
    "    x=x[1:]\n",
    "    print(i,end=\"\")"
   ]
  },
  {
   "cell_type": "code",
   "execution_count": null,
   "id": "b4689f2c-375f-4bdf-a9b0-5558611a09e4",
   "metadata": {},
   "outputs": [],
   "source": []
  }
 ],
 "metadata": {
  "kernelspec": {
   "display_name": "Python 3 (ipykernel)",
   "language": "python",
   "name": "python3"
  },
  "language_info": {
   "codemirror_mode": {
    "name": "ipython",
    "version": 3
   },
   "file_extension": ".py",
   "mimetype": "text/x-python",
   "name": "python",
   "nbconvert_exporter": "python",
   "pygments_lexer": "ipython3",
   "version": "3.10.6"
  }
 },
 "nbformat": 4,
 "nbformat_minor": 5
}
