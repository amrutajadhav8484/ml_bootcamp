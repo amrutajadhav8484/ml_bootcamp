{
  "nbformat": 4,
  "nbformat_minor": 0,
  "metadata": {
    "colab": {
      "provenance": []
    },
    "kernelspec": {
      "name": "python3",
      "display_name": "Python 3"
    },
    "language_info": {
      "name": "python"
    }
  },
  "cells": [
    {
      "cell_type": "code",
      "execution_count": null,
      "metadata": {
        "id": "Upgfmf1DsPrV"
      },
      "outputs": [],
      "source": []
    },
    {
      "cell_type": "markdown",
      "source": [
        "Write a program to create a class called Circle , having an instance member called radius. Provide following instance methods in your class: init_() : This method should initialize radius with the parameter passed\n",
        "\n",
        "cal_area(): This method should calculate and print the radius of the Circle\n",
        "\n",
        "cal_circumference(): This method should calculate and print the circumference of the Circle\n",
        "\n",
        "Finally , in the main script , create a Circle object , initialize radius with user input and calculate and display it’s area and circumference"
      ],
      "metadata": {
        "id": "LjvFPzTgvKMd"
      }
    },
    {
      "cell_type": "code",
      "source": [
        "class circle:\n",
        "  def __init__(self,r):\n",
        "    self.radius=r\n",
        "  def cal_area(self):\n",
        "    area=3.14*self.radius*self.radius\n",
        "    #area=math.pi*self.radius*self.radius\n",
        "    print(area)\n",
        "  def cal_circumference(self):\n",
        "    cir=2*3.14*self.radius\n",
        "    print(cir)"
      ],
      "metadata": {
        "id": "hWuJhM_BvNOQ"
      },
      "execution_count": 2,
      "outputs": []
    },
    {
      "cell_type": "code",
      "source": [
        "p=circle(4)"
      ],
      "metadata": {
        "id": "p3Jv-5_MwS4e"
      },
      "execution_count": 3,
      "outputs": []
    },
    {
      "cell_type": "code",
      "source": [
        "p.cal_area()"
      ],
      "metadata": {
        "colab": {
          "base_uri": "https://localhost:8080/"
        },
        "id": "pGKjcZFTwdPq",
        "outputId": "7145a699-26b2-488a-818f-612c43274287"
      },
      "execution_count": 4,
      "outputs": [
        {
          "output_type": "stream",
          "name": "stdout",
          "text": [
            "50.24\n"
          ]
        }
      ]
    },
    {
      "cell_type": "code",
      "source": [
        "p.cal_circumference()"
      ],
      "metadata": {
        "colab": {
          "base_uri": "https://localhost:8080/"
        },
        "id": "RAgVPLoywijX",
        "outputId": "93e97d65-5841-415b-f525-5386261a4c6d"
      },
      "execution_count": 5,
      "outputs": [
        {
          "output_type": "stream",
          "name": "stdout",
          "text": [
            "25.12\n"
          ]
        }
      ]
    },
    {
      "cell_type": "code",
      "source": [
        "class amruta:\n",
        "  def p(self,a):\n",
        "    self.k=a\n",
        "    print(self.k)\n",
        "  def q(self,z):\n",
        "    self.l=z\n",
        "    print(self.l)\n"
      ],
      "metadata": {
        "id": "tsNACsY0wlnD"
      },
      "execution_count": 10,
      "outputs": []
    },
    {
      "cell_type": "code",
      "source": [
        "d=amruta()"
      ],
      "metadata": {
        "id": "mqdGNXvo1J-4"
      },
      "execution_count": 11,
      "outputs": []
    },
    {
      "cell_type": "code",
      "source": [
        "d.p(10)"
      ],
      "metadata": {
        "colab": {
          "base_uri": "https://localhost:8080/"
        },
        "id": "12uOykq_1MbP",
        "outputId": "ddcdae95-ce63-425e-8178-382a46774187"
      },
      "execution_count": 8,
      "outputs": [
        {
          "output_type": "stream",
          "name": "stdout",
          "text": [
            "10\n"
          ]
        }
      ]
    },
    {
      "cell_type": "code",
      "source": [
        "d.q(20)"
      ],
      "metadata": {
        "colab": {
          "base_uri": "https://localhost:8080/"
        },
        "id": "GEtqaTkH1OsQ",
        "outputId": "7fb992cd-4a6e-4c27-c497-655eb3b968cc"
      },
      "execution_count": 12,
      "outputs": [
        {
          "output_type": "stream",
          "name": "stdout",
          "text": [
            "20\n"
          ]
        }
      ]
    },
    {
      "cell_type": "code",
      "source": [
        "class circle:\n",
        "  pii=3.14\n",
        "  def __init__(self,r):\n",
        "    self.radius=r #class variable\n",
        "  def cal_area(self):\n",
        "    area=circle.pii*self.radius*self.radius\n",
        "    #area=math.pi*self.radius*self.radius\n",
        "    print(area)\n",
        "  def cal_circumference(self):\n",
        "    cir=2*circle.pii*self.radius\n",
        "    print(cir)"
      ],
      "metadata": {
        "id": "HR6atNqO1RvS"
      },
      "execution_count": 13,
      "outputs": []
    },
    {
      "cell_type": "code",
      "source": [
        "p=circle(2)"
      ],
      "metadata": {
        "id": "5JarSn652KL4"
      },
      "execution_count": 15,
      "outputs": []
    },
    {
      "cell_type": "code",
      "source": [
        "p.cal_area()"
      ],
      "metadata": {
        "colab": {
          "base_uri": "https://localhost:8080/"
        },
        "id": "4u2Aohwf2N2D",
        "outputId": "6daeed50-c9fd-4ec8-c23c-b7f7f0649a68"
      },
      "execution_count": 16,
      "outputs": [
        {
          "output_type": "stream",
          "name": "stdout",
          "text": [
            "12.56\n"
          ]
        }
      ]
    },
    {
      "cell_type": "code",
      "source": [
        "p.cal_circumference()"
      ],
      "metadata": {
        "colab": {
          "base_uri": "https://localhost:8080/"
        },
        "id": "55Mvi7vJ2Uf9",
        "outputId": "5b7a4431-2cb4-4095-87d5-f2781546a989"
      },
      "execution_count": 17,
      "outputs": [
        {
          "output_type": "stream",
          "name": "stdout",
          "text": [
            "12.56\n"
          ]
        }
      ]
    },
    {
      "cell_type": "code",
      "source": [
        "class amruta:\n",
        "  def p(self,a):\n",
        "    self.k=a\n",
        "    print(self.k)\n",
        "  def q(self,z):\n",
        "    self.l=z\n",
        "    print(self.l)\n",
        "  def show(self):\n",
        "    print(id(self))"
      ],
      "metadata": {
        "id": "TKCOgxU32Yuo"
      },
      "execution_count": 18,
      "outputs": []
    },
    {
      "cell_type": "code",
      "source": [
        "p=amruta()"
      ],
      "metadata": {
        "id": "kHvKJsjy6j1f"
      },
      "execution_count": 19,
      "outputs": []
    },
    {
      "cell_type": "code",
      "source": [
        "p.show()"
      ],
      "metadata": {
        "colab": {
          "base_uri": "https://localhost:8080/"
        },
        "id": "ceV7n89W6m6b",
        "outputId": "57678137-8f4e-454b-c67e-77af4d2c85ea"
      },
      "execution_count": 20,
      "outputs": [
        {
          "output_type": "stream",
          "name": "stdout",
          "text": [
            "135700602676096\n"
          ]
        }
      ]
    },
    {
      "cell_type": "code",
      "source": [
        "print(id(p))"
      ],
      "metadata": {
        "colab": {
          "base_uri": "https://localhost:8080/"
        },
        "id": "zzZSzU3b6pYJ",
        "outputId": "c58f978c-c482-4cac-a4ce-924f50edcf5f"
      },
      "execution_count": 21,
      "outputs": [
        {
          "output_type": "stream",
          "name": "stdout",
          "text": [
            "135700602676096\n"
          ]
        }
      ]
    },
    {
      "cell_type": "code",
      "source": [],
      "metadata": {
        "id": "aeDV7-tv6tjp"
      },
      "execution_count": null,
      "outputs": []
    },
    {
      "cell_type": "markdown",
      "source": [
        "Write a program to create a class called Emp , having an instance members called name , age and sal . Also declare a class variable called raise_amount to store the increment percentage of sal and set it the value given by the user\n",
        "\n",
        "Now provide following methods in your class init_() : This method should initialize instance members with the parameter passed\n",
        "\n",
        "increase_sal(): This method should calculate the increment in sal and add it to the instance member sal\n",
        "\n",
        "display(): This method should display name , age and sal of the employee\n",
        "\n",
        "Finally , in the main script , create 2 Emp objects , initialize them and increase their salary . Finally display the data"
      ],
      "metadata": {
        "id": "pcS1XKUI69aC"
      }
    },
    {
      "cell_type": "code",
      "source": [
        "\n",
        "class emp:\n",
        "  raise_amount=int(input(\"inter the value for raise amount\"))\n",
        "  def __init__(self,name,age,sal):\n",
        "    self.n=name\n",
        "    self.a=age\n",
        "    self.s=sal\n",
        "  def increase_sal(self):\n",
        "    self.s=self.s+(self.s*(emp.raise_amount/100))\n",
        "  def display(self):\n",
        "    print(\"NAME=\",self.n)\n",
        "    print(\"AGE=\",self.a)\n",
        "    print(\"SALARY=\",self.s)\n",
        "\n"
      ],
      "metadata": {
        "colab": {
          "base_uri": "https://localhost:8080/"
        },
        "id": "NQAeZ0m_6-eG",
        "outputId": "78a68e48-ea70-4cfd-8055-9e6b841f63c9"
      },
      "execution_count": 22,
      "outputs": [
        {
          "name": "stdout",
          "output_type": "stream",
          "text": [
            "inter the value for raise amount20\n"
          ]
        }
      ]
    },
    {
      "cell_type": "code",
      "source": [
        "p=emp(\"amruta\",19,200000)"
      ],
      "metadata": {
        "id": "Rzf6jcbp-qAQ"
      },
      "execution_count": 23,
      "outputs": []
    },
    {
      "cell_type": "code",
      "source": [
        "p.increase_sal()"
      ],
      "metadata": {
        "id": "gJVwXUPz-yc0"
      },
      "execution_count": 25,
      "outputs": []
    },
    {
      "cell_type": "code",
      "source": [
        "p.display()"
      ],
      "metadata": {
        "colab": {
          "base_uri": "https://localhost:8080/"
        },
        "id": "6_bkPYEF-15_",
        "outputId": "86bfd993-54f7-4daa-f8fe-09059f27b588"
      },
      "execution_count": 27,
      "outputs": [
        {
          "output_type": "stream",
          "name": "stdout",
          "text": [
            "NAME= amruta\n",
            "AGE= 19\n",
            "SALARY= 240000.0\n"
          ]
        }
      ]
    },
    {
      "cell_type": "code",
      "source": [
        "\n",
        "class emp:\n",
        "  raise_amount=0\n",
        "  @classmethod\n",
        "  def set_raise_amount(cls):\n",
        "    cls.raise_amount=int(input(\"inter the value for raise amount\"))\n",
        "  def __init__(self,name,age,sal):\n",
        "    self.n=name\n",
        "    self.a=age\n",
        "    self.s=sal\n",
        "  def increase_sal(self):\n",
        "    self.s=self.s+(self.s*(emp.raise_amount/100))\n",
        "  def display(self):\n",
        "    print(\"NAME=\",self.n)\n",
        "    print(\"AGE=\",self.a)\n",
        "    print(\"SALARY=\",self.s)"
      ],
      "metadata": {
        "id": "lq3DE9YA--DX"
      },
      "execution_count": 32,
      "outputs": []
    },
    {
      "cell_type": "code",
      "source": [
        "p=emp(\"amruta\",19,200000)"
      ],
      "metadata": {
        "id": "1zQYrxu3ELtD"
      },
      "execution_count": 33,
      "outputs": []
    },
    {
      "cell_type": "code",
      "source": [
        "p.increase_sal()"
      ],
      "metadata": {
        "id": "ZaTUht9_EOlk"
      },
      "execution_count": 34,
      "outputs": []
    },
    {
      "cell_type": "code",
      "source": [
        "p.display()"
      ],
      "metadata": {
        "colab": {
          "base_uri": "https://localhost:8080/"
        },
        "id": "RRAMeN9jEWwr",
        "outputId": "2cc0394c-550e-4bbf-edda-b82fd772e9f5"
      },
      "execution_count": 35,
      "outputs": [
        {
          "output_type": "stream",
          "name": "stdout",
          "text": [
            "NAME= amruta\n",
            "AGE= 19\n",
            "SALARY= 200000.0\n"
          ]
        }
      ]
    },
    {
      "cell_type": "code",
      "source": [
        "emp.set_raise_amount()"
      ],
      "metadata": {
        "colab": {
          "base_uri": "https://localhost:8080/"
        },
        "id": "ZjlQH1W2EmTh",
        "outputId": "e59a1d56-38b5-412f-dcd3-f0c0268e6256"
      },
      "execution_count": 36,
      "outputs": [
        {
          "name": "stdout",
          "output_type": "stream",
          "text": [
            "inter the value for raise amount20\n"
          ]
        }
      ]
    },
    {
      "cell_type": "code",
      "source": [
        "p.increase_sal()"
      ],
      "metadata": {
        "id": "mqGcKZTgEvcf"
      },
      "execution_count": 37,
      "outputs": []
    },
    {
      "cell_type": "code",
      "source": [
        "p.display()"
      ],
      "metadata": {
        "colab": {
          "base_uri": "https://localhost:8080/"
        },
        "id": "ynAhSzrIEy8Q",
        "outputId": "f0a80d93-8468-42b6-d165-52121bf6df68"
      },
      "execution_count": 38,
      "outputs": [
        {
          "output_type": "stream",
          "name": "stdout",
          "text": [
            "NAME= amruta\n",
            "AGE= 19\n",
            "SALARY= 240000.0\n"
          ]
        }
      ]
    },
    {
      "cell_type": "code",
      "source": [],
      "metadata": {
        "id": "7dWkMozxE1BZ"
      },
      "execution_count": null,
      "outputs": []
    },
    {
      "cell_type": "markdown",
      "source": [
        "static method"
      ],
      "metadata": {
        "id": "2CQTG7-RI3pM"
      }
    },
    {
      "cell_type": "code",
      "source": [
        "class math:\n",
        "  @staticmethod\n",
        "  def add_nums(a,b):\n",
        "    c=a+b\n",
        "    return c\n",
        "  @staticmethod\n",
        "  def multiply(k,l):\n",
        "    p=k*l\n",
        "    return p"
      ],
      "metadata": {
        "id": "akJNS5BzI6DJ"
      },
      "execution_count": 39,
      "outputs": []
    },
    {
      "cell_type": "code",
      "source": [
        "math.add_nums(10,20)"
      ],
      "metadata": {
        "colab": {
          "base_uri": "https://localhost:8080/"
        },
        "id": "TJYsRsGBJWzl",
        "outputId": "dc800dd3-8c5f-48de-f93c-1842d201ede8"
      },
      "execution_count": 40,
      "outputs": [
        {
          "output_type": "execute_result",
          "data": {
            "text/plain": [
              "30"
            ]
          },
          "metadata": {},
          "execution_count": 40
        }
      ]
    },
    {
      "cell_type": "code",
      "source": [
        "math.multiply(10,20)"
      ],
      "metadata": {
        "colab": {
          "base_uri": "https://localhost:8080/"
        },
        "id": "Iy9SEuJsJax8",
        "outputId": "7c410794-069f-4b07-f5e5-0ee075432ea2"
      },
      "execution_count": 41,
      "outputs": [
        {
          "output_type": "execute_result",
          "data": {
            "text/plain": [
              "200"
            ]
          },
          "metadata": {},
          "execution_count": 41
        }
      ]
    },
    {
      "cell_type": "code",
      "source": [],
      "metadata": {
        "id": "2uk1JPPBJeiZ"
      },
      "execution_count": null,
      "outputs": []
    },
    {
      "cell_type": "markdown",
      "source": [
        "Instance Methods: The most common method type. Able to access data and properties unique to each instance(object).\n",
        "\n",
        "Static Methods(utility method): Cannot access anything else in the class. Totally self-contained code.\n",
        "\n",
        "Class Methods: Can access limited methods in the class. Can modify class specific details."
      ],
      "metadata": {
        "id": "MNQuTvfQU9Lw"
      }
    },
    {
      "cell_type": "code",
      "source": [],
      "metadata": {
        "id": "EXCvOhjdU-HB"
      },
      "execution_count": null,
      "outputs": []
    }
  ]
}