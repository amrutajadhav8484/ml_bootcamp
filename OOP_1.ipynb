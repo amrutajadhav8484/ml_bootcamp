{
  "nbformat": 4,
  "nbformat_minor": 0,
  "metadata": {
    "colab": {
      "provenance": []
    },
    "kernelspec": {
      "name": "python3",
      "display_name": "Python 3"
    },
    "language_info": {
      "name": "python"
    }
  },
  "cells": [
    {
      "cell_type": "code",
      "execution_count": null,
      "metadata": {
        "id": "Ul25dIMj8pe-"
      },
      "outputs": [],
      "source": [
        "class emp:\n",
        "  def __init__(self):\n",
        "    print(\"Hello amruta!!\")\n"
      ]
    },
    {
      "cell_type": "code",
      "source": [
        "amru=emp() # object creation"
      ],
      "metadata": {
        "colab": {
          "base_uri": "https://localhost:8080/"
        },
        "id": "XX4ozgt_4vVj",
        "outputId": "18fce310-e0ba-4384-b5af-9517e155292a"
      },
      "execution_count": null,
      "outputs": [
        {
          "output_type": "stream",
          "name": "stdout",
          "text": [
            "Hello amruta!!\n"
          ]
        }
      ]
    },
    {
      "cell_type": "code",
      "source": [
        "class employee:\n",
        "  def __init__(self):\n",
        "    print(\"amruta\")\n",
        "  def test():\n",
        "    print(\"test the code\")\n",
        "  def demo(self):\n",
        "    print(\"TE\")"
      ],
      "metadata": {
        "id": "t65i9_rz4vY5"
      },
      "execution_count": null,
      "outputs": []
    },
    {
      "cell_type": "code",
      "source": [
        "k=employee()"
      ],
      "metadata": {
        "colab": {
          "base_uri": "https://localhost:8080/"
        },
        "id": "cJrgXgzdvAO7",
        "outputId": "f3343394-6434-4c97-e91a-2df78de1c899"
      },
      "execution_count": null,
      "outputs": [
        {
          "output_type": "stream",
          "name": "stdout",
          "text": [
            "amruta\n"
          ]
        }
      ]
    },
    {
      "cell_type": "code",
      "source": [
        "class emp():\n",
        "  def __init__(self):\n",
        "    print(\"object created\")\n",
        "  def test():\n",
        "    print(\"tested\")\n",
        "  def demo(self):\n",
        "    print(\"checking\")\n"
      ],
      "metadata": {
        "id": "CQyRBs8oxkWl"
      },
      "execution_count": null,
      "outputs": []
    },
    {
      "cell_type": "code",
      "source": [
        "a=emp()"
      ],
      "metadata": {
        "colab": {
          "base_uri": "https://localhost:8080/"
        },
        "id": "e403Ri_0BoAI",
        "outputId": "54df7be9-781e-4b67-a91c-6d9ec7a1f0ec"
      },
      "execution_count": null,
      "outputs": [
        {
          "output_type": "stream",
          "name": "stdout",
          "text": [
            "object created\n"
          ]
        }
      ]
    },
    {
      "cell_type": "code",
      "source": [
        "a.test()"
      ],
      "metadata": {
        "colab": {
          "base_uri": "https://localhost:8080/",
          "height": 141
        },
        "id": "OB9iGJBmBrcv",
        "outputId": "3665f757-63dd-48e9-a02f-457a325edb33"
      },
      "execution_count": null,
      "outputs": [
        {
          "output_type": "error",
          "ename": "TypeError",
          "evalue": "emp.test() takes 0 positional arguments but 1 was given",
          "traceback": [
            "\u001b[0;31m---------------------------------------------------------------------------\u001b[0m",
            "\u001b[0;31mTypeError\u001b[0m                                 Traceback (most recent call last)",
            "\u001b[0;32m<ipython-input-6-1b18546e9402>\u001b[0m in \u001b[0;36m<cell line: 1>\u001b[0;34m()\u001b[0m\n\u001b[0;32m----> 1\u001b[0;31m \u001b[0ma\u001b[0m\u001b[0;34m.\u001b[0m\u001b[0mtest\u001b[0m\u001b[0;34m(\u001b[0m\u001b[0;34m)\u001b[0m\u001b[0;34m\u001b[0m\u001b[0;34m\u001b[0m\u001b[0m\n\u001b[0m",
            "\u001b[0;31mTypeError\u001b[0m: emp.test() takes 0 positional arguments but 1 was given"
          ]
        }
      ]
    },
    {
      "cell_type": "code",
      "source": [
        "a.demo()"
      ],
      "metadata": {
        "colab": {
          "base_uri": "https://localhost:8080/"
        },
        "id": "AyYGQ5osCnWo",
        "outputId": "fe52745f-d8e9-4e1b-c553-33e20161f943"
      },
      "execution_count": null,
      "outputs": [
        {
          "output_type": "stream",
          "name": "stdout",
          "text": [
            "checking\n"
          ]
        }
      ]
    },
    {
      "cell_type": "code",
      "source": [
        "class emp():\n",
        "  def __init__(self):\n",
        "    self.age=18\n",
        "    self.name=\"sunny\"\n",
        "    self.salary=19000"
      ],
      "metadata": {
        "id": "8uD1QvOgCqsh"
      },
      "execution_count": null,
      "outputs": []
    },
    {
      "cell_type": "code",
      "source": [
        "k=emp()"
      ],
      "metadata": {
        "id": "zzQhy0aNDVdz"
      },
      "execution_count": null,
      "outputs": []
    },
    {
      "cell_type": "code",
      "source": [
        "k.age"
      ],
      "metadata": {
        "colab": {
          "base_uri": "https://localhost:8080/"
        },
        "id": "gUDEzR2TDXXI",
        "outputId": "232fe777-1a0e-4780-f711-c256be150c9a"
      },
      "execution_count": null,
      "outputs": [
        {
          "output_type": "execute_result",
          "data": {
            "text/plain": [
              "18"
            ]
          },
          "metadata": {},
          "execution_count": 10
        }
      ]
    },
    {
      "cell_type": "code",
      "source": [
        "k.name"
      ],
      "metadata": {
        "colab": {
          "base_uri": "https://localhost:8080/",
          "height": 35
        },
        "id": "LDL7OZ0LDZMn",
        "outputId": "78a5a8f1-1605-48f4-c464-f972d8bd4005"
      },
      "execution_count": null,
      "outputs": [
        {
          "output_type": "execute_result",
          "data": {
            "text/plain": [
              "'sunny'"
            ],
            "application/vnd.google.colaboratory.intrinsic+json": {
              "type": "string"
            }
          },
          "metadata": {},
          "execution_count": 11
        }
      ]
    },
    {
      "cell_type": "code",
      "source": [
        "k.salary"
      ],
      "metadata": {
        "id": "d6-70lZIDa5i",
        "outputId": "f7c3765f-4b73-4b22-947e-3a5966ee9aff",
        "colab": {
          "base_uri": "https://localhost:8080/"
        }
      },
      "execution_count": null,
      "outputs": [
        {
          "output_type": "execute_result",
          "data": {
            "text/plain": [
              "19000"
            ]
          },
          "metadata": {},
          "execution_count": 12
        }
      ]
    },
    {
      "cell_type": "code",
      "source": [
        "class emp():\n",
        "  def __init__(self,a,b,c):\n",
        "    self.age=a #local variables\n",
        "    self.name=b\n",
        "    self.salary=c\n",
        "  def show(self):\n",
        "    print(self.age,self.name,self.salary)"
      ],
      "metadata": {
        "id": "c_U_XdSaDclS"
      },
      "execution_count": null,
      "outputs": []
    },
    {
      "cell_type": "code",
      "source": [
        "p=emp(18,\"amruta\",200000)"
      ],
      "metadata": {
        "id": "lmLMRR02JE93"
      },
      "execution_count": null,
      "outputs": []
    },
    {
      "cell_type": "code",
      "source": [
        "p.age"
      ],
      "metadata": {
        "colab": {
          "base_uri": "https://localhost:8080/"
        },
        "id": "v3ABrneNJLcc",
        "outputId": "fc1e1917-0517-4191-d4f6-57b9154aaf3d"
      },
      "execution_count": null,
      "outputs": [
        {
          "output_type": "execute_result",
          "data": {
            "text/plain": [
              "18"
            ]
          },
          "metadata": {},
          "execution_count": 15
        }
      ]
    },
    {
      "cell_type": "code",
      "source": [
        "p.name"
      ],
      "metadata": {
        "colab": {
          "base_uri": "https://localhost:8080/",
          "height": 35
        },
        "id": "0VANNRYYJNG1",
        "outputId": "3bf9534a-ac30-4a64-ac64-5f4f6fbe672d"
      },
      "execution_count": null,
      "outputs": [
        {
          "output_type": "execute_result",
          "data": {
            "text/plain": [
              "'amruta'"
            ],
            "application/vnd.google.colaboratory.intrinsic+json": {
              "type": "string"
            }
          },
          "metadata": {},
          "execution_count": 16
        }
      ]
    },
    {
      "cell_type": "code",
      "source": [
        "p.show()"
      ],
      "metadata": {
        "colab": {
          "base_uri": "https://localhost:8080/"
        },
        "id": "-YYFB2z2JQPy",
        "outputId": "203c29d7-e3c6-4b40-a9d9-f02722b6c8a0"
      },
      "execution_count": null,
      "outputs": [
        {
          "output_type": "stream",
          "name": "stdout",
          "text": [
            "18 amruta 200000\n"
          ]
        }
      ]
    },
    {
      "cell_type": "code",
      "source": [
        "class car:\n",
        "  def __init__(self,a,b,c):\n",
        "    self.top_speed=a\n",
        "    self.fuel_capacity=b\n",
        "    self.disk_break=c\n",
        "  def show(self):\n",
        "    print(self.top_speed,self.fuel_capacity,self.disk_break)\n",
        "  def drive(self,x):\n",
        "    print(f\"it can drive {x}\")\n"
      ],
      "metadata": {
        "id": "RUPp0vjpKOJt"
      },
      "execution_count": null,
      "outputs": []
    },
    {
      "cell_type": "code",
      "source": [
        "audi=car(350,15,\"yes\")"
      ],
      "metadata": {
        "id": "wC0uCcxXMtdc"
      },
      "execution_count": null,
      "outputs": []
    },
    {
      "cell_type": "code",
      "source": [
        "audi.top_speed"
      ],
      "metadata": {
        "colab": {
          "base_uri": "https://localhost:8080/"
        },
        "id": "zl9IOCRsM7lJ",
        "outputId": "8871af69-687b-4380-f411-54e5a434a619"
      },
      "execution_count": null,
      "outputs": [
        {
          "output_type": "execute_result",
          "data": {
            "text/plain": [
              "350"
            ]
          },
          "metadata": {},
          "execution_count": 38
        }
      ]
    },
    {
      "cell_type": "code",
      "source": [
        "audi.drive(\"very fast\")"
      ],
      "metadata": {
        "colab": {
          "base_uri": "https://localhost:8080/"
        },
        "id": "wirbFJ-gOe2f",
        "outputId": "45fecd5f-d740-41b5-934d-d178bec4d765"
      },
      "execution_count": null,
      "outputs": [
        {
          "output_type": "stream",
          "name": "stdout",
          "text": [
            "it can drive very fast\n"
          ]
        }
      ]
    },
    {
      "cell_type": "code",
      "source": [
        "audi.show()"
      ],
      "metadata": {
        "colab": {
          "base_uri": "https://localhost:8080/"
        },
        "id": "EeGW3o1UNezT",
        "outputId": "878ee014-d7ad-41a3-fedc-34bee47d504f"
      },
      "execution_count": null,
      "outputs": [
        {
          "output_type": "stream",
          "name": "stdout",
          "text": [
            "350 15 yes\n"
          ]
        }
      ]
    },
    {
      "cell_type": "code",
      "source": [],
      "metadata": {
        "id": "aJP8DB4rNhfb"
      },
      "execution_count": null,
      "outputs": []
    }
  ]
}