{
  "nbformat": 4,
  "nbformat_minor": 0,
  "metadata": {
    "colab": {
      "provenance": []
    },
    "kernelspec": {
      "name": "python3",
      "display_name": "Python 3"
    },
    "language_info": {
      "name": "python"
    }
  },
  "cells": [
    {
      "cell_type": "code",
      "execution_count": null,
      "metadata": {
        "id": "9CHpSLsnWQ5r"
      },
      "outputs": [],
      "source": []
    },
    {
      "cell_type": "markdown",
      "source": [
        "# Hirarchical inheritance"
      ],
      "metadata": {
        "id": "tAWYOR_baxfg"
      }
    },
    {
      "cell_type": "code",
      "source": [
        "class schoolmember:\n",
        "  def __init__(self,name,age):\n",
        "    self.name=name\n",
        "    self.age=age\n",
        "  def tell(self):\n",
        "    print(self.name,self.age,end=\" \")\n",
        "class student(schoolmember):\n",
        "  def __init__(self,name,age,rollno,per):\n",
        "    super().__init__(name,age)\n",
        "\n",
        "\n",
        "    self.rollno=rollno\n",
        "    self.per=per\n",
        "  def tell(self):\n",
        "    super().tell()\n",
        "    print(self.rollno,self.per)\n",
        "class teacher(student):\n",
        "  def __init__(self,name,age,rollno,per,sal):\n",
        "    super().__init__(name,age,rollno,per)\n",
        "    self.sal=sal\n",
        "\n",
        "\n"
      ],
      "metadata": {
        "id": "gX2LF76-a1tD"
      },
      "execution_count": null,
      "outputs": []
    },
    {
      "cell_type": "code",
      "source": [
        "amruta=student(\"amruta\",21,61,80)"
      ],
      "metadata": {
        "id": "dUc8eOqQd-f_"
      },
      "execution_count": null,
      "outputs": []
    },
    {
      "cell_type": "code",
      "source": [
        "amruta.tell()"
      ],
      "metadata": {
        "colab": {
          "base_uri": "https://localhost:8080/"
        },
        "id": "C1fjtyyte1-L",
        "outputId": "671026c4-b279-497c-defa-648a79f93d04"
      },
      "execution_count": null,
      "outputs": [
        {
          "output_type": "stream",
          "name": "stdout",
          "text": [
            "amruta 21 61 80\n"
          ]
        }
      ]
    },
    {
      "cell_type": "code",
      "source": [
        "amruta.name"
      ],
      "metadata": {
        "colab": {
          "base_uri": "https://localhost:8080/",
          "height": 35
        },
        "id": "Pi7wrls4e5lk",
        "outputId": "8e4dd69d-aa8c-44b7-8b9a-bcaf0384cbd1"
      },
      "execution_count": null,
      "outputs": [
        {
          "output_type": "execute_result",
          "data": {
            "text/plain": [
              "'amruta'"
            ],
            "application/vnd.google.colaboratory.intrinsic+json": {
              "type": "string"
            }
          },
          "metadata": {},
          "execution_count": 15
        }
      ]
    },
    {
      "cell_type": "markdown",
      "source": [
        "# multiple inheritance"
      ],
      "metadata": {
        "id": "oovLbSLMhAOX"
      }
    },
    {
      "cell_type": "code",
      "source": [
        "class A:\n",
        "  def __init__(self):\n",
        "    print(\"A is called\")\n",
        "class B:\n",
        "  def __init__(self):\n",
        "    print(\"B is called\")\n",
        "class C(A,B):\n",
        "\n",
        "  '''def __init__(self):\n",
        "    print (\"C is called\")'''"
      ],
      "metadata": {
        "id": "r9b0XuyIfKTm"
      },
      "execution_count": null,
      "outputs": []
    },
    {
      "cell_type": "code",
      "source": [
        "p=C()"
      ],
      "metadata": {
        "colab": {
          "base_uri": "https://localhost:8080/"
        },
        "id": "hrodsoILiyAS",
        "outputId": "d821b583-761e-4a82-ab40-7077a479e2cd"
      },
      "execution_count": null,
      "outputs": [
        {
          "output_type": "stream",
          "name": "stdout",
          "text": [
            "A is called\n"
          ]
        }
      ]
    },
    {
      "cell_type": "code",
      "source": [
        "print(C.mro()) # Method Resolution order"
      ],
      "metadata": {
        "colab": {
          "base_uri": "https://localhost:8080/"
        },
        "id": "2R5g95KFi0dq",
        "outputId": "0b513aee-6aff-454e-9601-cd54ce9d4bdc"
      },
      "execution_count": null,
      "outputs": [
        {
          "output_type": "stream",
          "name": "stdout",
          "text": [
            "[<class '__main__.C'>, <class '__main__.A'>, <class '__main__.B'>, <class 'object'>]\n"
          ]
        }
      ]
    },
    {
      "cell_type": "code",
      "source": [
        "class A:\n",
        "  def __init__(self):\n",
        "    print(\"A is called\")\n",
        "class B:\n",
        "  def __init__(self):\n",
        "    print(\"B is called\")\n",
        "class C(B,A):\n",
        "  '''\n",
        "  def __init__(self):\n",
        "    print (\"C is called\")'''"
      ],
      "metadata": {
        "id": "tjQ3j0DsjECq"
      },
      "execution_count": null,
      "outputs": []
    },
    {
      "cell_type": "code",
      "source": [
        "obj=C()"
      ],
      "metadata": {
        "colab": {
          "base_uri": "https://localhost:8080/"
        },
        "id": "p0PF3caMjzVS",
        "outputId": "bac9d28e-c473-4db9-e919-637a8851cc0a"
      },
      "execution_count": null,
      "outputs": [
        {
          "output_type": "stream",
          "name": "stdout",
          "text": [
            "B is called\n"
          ]
        }
      ]
    },
    {
      "cell_type": "code",
      "source": [
        "print(C.mro())"
      ],
      "metadata": {
        "colab": {
          "base_uri": "https://localhost:8080/"
        },
        "id": "Ey_t3cRgj86l",
        "outputId": "39c799b5-9690-4190-a692-8ff836e26dbb"
      },
      "execution_count": null,
      "outputs": [
        {
          "output_type": "stream",
          "name": "stdout",
          "text": [
            "[<class '__main__.C'>, <class '__main__.B'>, <class '__main__.A'>, <class 'object'>]\n"
          ]
        }
      ]
    },
    {
      "cell_type": "code",
      "source": [
        "class person:\n",
        "  def __init__(self,name,age):\n",
        "    self.name=name\n",
        "    self.age=age\n",
        "  def show(self):\n",
        "    print(self.name,self.age)\n",
        "class student:\n",
        "  def __init__(self,roll,per):\n",
        "    self.roll=roll\n",
        "    self.per=per\n",
        "  def show2(self):\n",
        "    print(self.roll,self.per)\n",
        "class sciencestudent(person,student):\n",
        "  def __init__(self,name,age,roll,per,stream):\n",
        "    person.__init__(self,name,age)\n",
        "\n",
        "    student.__init__(self,roll,per)\n",
        "\n",
        "    self.stream=stream\n",
        "  def __repr__(self):\n",
        "    return( f\"name:{self.name},age:{self.age},roll:{self.roll},per:{self.per},stream{self.stream}\")\n"
      ],
      "metadata": {
        "id": "fnrmBzf7kCzV"
      },
      "execution_count": null,
      "outputs": []
    },
    {
      "cell_type": "code",
      "source": [
        "p=sciencestudent(\"amruta\",21,61,80,\"science\")"
      ],
      "metadata": {
        "id": "2J4GKDG7mfrA"
      },
      "execution_count": null,
      "outputs": []
    },
    {
      "cell_type": "code",
      "source": [
        "print(p)"
      ],
      "metadata": {
        "colab": {
          "base_uri": "https://localhost:8080/"
        },
        "id": "TFX0kVVYmohd",
        "outputId": "4ea58c4a-9dde-474d-f9d8-456bc7d13ec4"
      },
      "execution_count": null,
      "outputs": [
        {
          "output_type": "stream",
          "name": "stdout",
          "text": [
            "name:amruta,age:21,roll:61,per:80,streamscience\n"
          ]
        }
      ]
    },
    {
      "cell_type": "code",
      "source": [
        "class A:\n",
        "  def __init__(self):\n",
        "    print(\"a is called\")\n",
        "class B:\n",
        "  def __init__(self):\n",
        "    print(\"b is called\")\n",
        "    super().__init__()\n",
        "\n",
        "class C(B,A):\n",
        "  def __init__(self):\n",
        "    print(\"c is called\")\n",
        "    super().__init__()\n"
      ],
      "metadata": {
        "id": "48whNP1KmrQg"
      },
      "execution_count": null,
      "outputs": []
    },
    {
      "cell_type": "code",
      "source": [
        "p=C()"
      ],
      "metadata": {
        "colab": {
          "base_uri": "https://localhost:8080/"
        },
        "id": "UQ3xaA7CuJWC",
        "outputId": "2c4aee20-37ee-4ece-bb76-4f7b3c1f1eb8"
      },
      "execution_count": null,
      "outputs": [
        {
          "output_type": "stream",
          "name": "stdout",
          "text": [
            "c is called\n",
            "b is called\n",
            "a is called\n"
          ]
        }
      ]
    },
    {
      "cell_type": "code",
      "source": [
        "print(C.mro())"
      ],
      "metadata": {
        "colab": {
          "base_uri": "https://localhost:8080/"
        },
        "id": "VB4Wm07muME9",
        "outputId": "6eee4370-8b95-41a5-ab7a-d6cfd91356da"
      },
      "execution_count": null,
      "outputs": [
        {
          "output_type": "stream",
          "name": "stdout",
          "text": [
            "[<class '__main__.C'>, <class '__main__.B'>, <class '__main__.A'>, <class 'object'>]\n"
          ]
        }
      ]
    },
    {
      "cell_type": "markdown",
      "source": [
        "# Hybrid inheritance"
      ],
      "metadata": {
        "id": "tT95W9pUvM51"
      }
    },
    {
      "cell_type": "code",
      "source": [
        "class A:\n",
        "  def __init__(self):\n",
        "    print(\"a is called\")\n",
        "class B(A):\n",
        "  '''def __init__(self):\n",
        "    print(\"b is called\")   '''\n",
        "class C(A):\n",
        "  def __init__(self):\n",
        "    print(\"c is called\")\n",
        "class D(B,C):\n",
        "  '''def __init__(self):\n",
        "    print(\"d is called\")'''\n"
      ],
      "metadata": {
        "id": "9yYRRK6HvIGn"
      },
      "execution_count": null,
      "outputs": []
    },
    {
      "cell_type": "code",
      "source": [
        "l=D()"
      ],
      "metadata": {
        "colab": {
          "base_uri": "https://localhost:8080/"
        },
        "id": "hzgrmT420oHo",
        "outputId": "62fe5cfd-b3e9-42d6-b43a-6d7989645956"
      },
      "execution_count": null,
      "outputs": [
        {
          "output_type": "stream",
          "name": "stdout",
          "text": [
            "b is called\n"
          ]
        }
      ]
    },
    {
      "cell_type": "code",
      "source": [
        "print(D.mro())"
      ],
      "metadata": {
        "colab": {
          "base_uri": "https://localhost:8080/"
        },
        "id": "ASlFtW2R0rAn",
        "outputId": "3bb2a39b-cd77-47a4-9cf3-acc57f99273f"
      },
      "execution_count": null,
      "outputs": [
        {
          "output_type": "stream",
          "name": "stdout",
          "text": [
            "[<class '__main__.D'>, <class '__main__.B'>, <class '__main__.C'>, <class '__main__.A'>, <class 'object'>]\n"
          ]
        }
      ]
    },
    {
      "cell_type": "code",
      "source": [
        "l=D()"
      ],
      "metadata": {
        "colab": {
          "base_uri": "https://localhost:8080/"
        },
        "id": "xll4cDXg04Ex",
        "outputId": "3b8c9ef3-aeaf-44a5-e446-22ff11ae4666"
      },
      "execution_count": null,
      "outputs": [
        {
          "output_type": "stream",
          "name": "stdout",
          "text": [
            "c is called\n"
          ]
        }
      ]
    },
    {
      "cell_type": "markdown",
      "source": [
        "# Polymorphism"
      ],
      "metadata": {
        "id": "gE4ntIMX7nKs"
      }
    },
    {
      "cell_type": "code",
      "source": [
        "class point:\n",
        "  def __init__(self,x,y):\n",
        "    self.x=x\n",
        "    self.y=y\n"
      ],
      "metadata": {
        "id": "HJlnJ-1-1BAq"
      },
      "execution_count": 1,
      "outputs": []
    },
    {
      "cell_type": "code",
      "source": [
        "p1=point(9,2)"
      ],
      "metadata": {
        "id": "KMG_Qy1w-Zcb"
      },
      "execution_count": 2,
      "outputs": []
    },
    {
      "cell_type": "code",
      "source": [
        "p2=point(4,5)"
      ],
      "metadata": {
        "id": "AZPlcHhS-vB0"
      },
      "execution_count": 3,
      "outputs": []
    },
    {
      "cell_type": "code",
      "source": [
        "p1+p2"
      ],
      "metadata": {
        "colab": {
          "base_uri": "https://localhost:8080/",
          "height": 141
        },
        "id": "-ly7n_ce-yc4",
        "outputId": "6428e98b-122a-4aed-c59b-e7471bb1502d"
      },
      "execution_count": 4,
      "outputs": [
        {
          "output_type": "error",
          "ename": "TypeError",
          "evalue": "unsupported operand type(s) for +: 'point' and 'point'",
          "traceback": [
            "\u001b[0;31m---------------------------------------------------------------------------\u001b[0m",
            "\u001b[0;31mTypeError\u001b[0m                                 Traceback (most recent call last)",
            "\u001b[0;32m<ipython-input-4-e6f8d61aa8ee>\u001b[0m in \u001b[0;36m<cell line: 1>\u001b[0;34m()\u001b[0m\n\u001b[0;32m----> 1\u001b[0;31m \u001b[0mp1\u001b[0m\u001b[0;34m+\u001b[0m\u001b[0mp2\u001b[0m\u001b[0;34m\u001b[0m\u001b[0;34m\u001b[0m\u001b[0m\n\u001b[0m",
            "\u001b[0;31mTypeError\u001b[0m: unsupported operand type(s) for +: 'point' and 'point'"
          ]
        }
      ]
    },
    {
      "cell_type": "code",
      "source": [
        "class point:\n",
        "  def __init__(self,x,y):\n",
        "    self.x=x\n",
        "    self.y=y\n",
        "\n",
        "  def __repr__(self):\n",
        "    return f\"x={self.x},y={self.y}\""
      ],
      "metadata": {
        "id": "cxGHe8GJ-0U5"
      },
      "execution_count": 9,
      "outputs": []
    },
    {
      "cell_type": "code",
      "source": [
        "p1=point(2,4)"
      ],
      "metadata": {
        "id": "1JfzGNS4_fnh"
      },
      "execution_count": 10,
      "outputs": []
    },
    {
      "cell_type": "code",
      "source": [
        "print(p1)"
      ],
      "metadata": {
        "colab": {
          "base_uri": "https://localhost:8080/"
        },
        "id": "TSdMQHyd_jiS",
        "outputId": "f0018762-7ac2-42f6-bfa8-a692666cee31"
      },
      "execution_count": 11,
      "outputs": [
        {
          "output_type": "stream",
          "name": "stdout",
          "text": [
            "x=2,y=4\n"
          ]
        }
      ]
    },
    {
      "cell_type": "code",
      "source": [
        "class point:\n",
        "  def __init__(self,x,y):\n",
        "    self.x=x\n",
        "    self.y=y\n",
        "  def __add__(self,other):\n",
        "    x=self.x+other.x\n",
        "    y=self.y+other.y\n",
        "    p=point(x,y)\n",
        "    return p\n",
        "  def __repr__(self):\n",
        "    return f\"x={self.x},y={self.y}\""
      ],
      "metadata": {
        "id": "CGwaDajjAAZP"
      },
      "execution_count": 12,
      "outputs": []
    },
    {
      "cell_type": "code",
      "source": [
        "p1=point(2,4)\n"
      ],
      "metadata": {
        "id": "7deP7wGWBecF"
      },
      "execution_count": 13,
      "outputs": []
    },
    {
      "cell_type": "code",
      "source": [
        "print(p1)"
      ],
      "metadata": {
        "colab": {
          "base_uri": "https://localhost:8080/"
        },
        "id": "ojUqNctJBi5M",
        "outputId": "45ae8d57-d13b-46a6-a290-4b7a749bb909"
      },
      "execution_count": 14,
      "outputs": [
        {
          "output_type": "stream",
          "name": "stdout",
          "text": [
            "x=2,y=4\n"
          ]
        }
      ]
    },
    {
      "cell_type": "code",
      "source": [
        "p2=point(2,4)"
      ],
      "metadata": {
        "id": "wZrawwxEBlWu"
      },
      "execution_count": 15,
      "outputs": []
    },
    {
      "cell_type": "code",
      "source": [
        "print(p2)"
      ],
      "metadata": {
        "colab": {
          "base_uri": "https://localhost:8080/"
        },
        "id": "XBXyEnt2BpBn",
        "outputId": "1c7becf0-2b06-450b-c8b5-632d3273b0a7"
      },
      "execution_count": 16,
      "outputs": [
        {
          "output_type": "stream",
          "name": "stdout",
          "text": [
            "x=2,y=4\n"
          ]
        }
      ]
    },
    {
      "cell_type": "code",
      "source": [
        "p1+p2"
      ],
      "metadata": {
        "colab": {
          "base_uri": "https://localhost:8080/"
        },
        "id": "1r22LjERBqqq",
        "outputId": "6470d9d2-9c3d-4cf9-df6e-affe697291ee"
      },
      "execution_count": 17,
      "outputs": [
        {
          "output_type": "execute_result",
          "data": {
            "text/plain": [
              "x=4,y=8"
            ]
          },
          "metadata": {},
          "execution_count": 17
        }
      ]
    },
    {
      "cell_type": "code",
      "source": [
        "class point:\n",
        "  def __init__(self,x,y):\n",
        "    self.x=x\n",
        "    self.y=y\n",
        "  def __sub__(self,other):\n",
        "    x=self.x-other.x\n",
        "    y=self.y-other.y\n",
        "    p=point(x,y)\n",
        "    return p\n",
        "  def __repr__(self):\n",
        "    return f\"x={self.x},y={self.y}\""
      ],
      "metadata": {
        "id": "OcF6ZWvaBsKl"
      },
      "execution_count": 18,
      "outputs": []
    },
    {
      "cell_type": "code",
      "source": [
        "p1=point(4,7)"
      ],
      "metadata": {
        "id": "kXZjFv6HCghA"
      },
      "execution_count": 19,
      "outputs": []
    },
    {
      "cell_type": "code",
      "source": [
        "p1"
      ],
      "metadata": {
        "colab": {
          "base_uri": "https://localhost:8080/"
        },
        "id": "qL-dkX8WCjjE",
        "outputId": "9e005d97-3dea-49dd-804f-68b2e930f1b3"
      },
      "execution_count": 20,
      "outputs": [
        {
          "output_type": "execute_result",
          "data": {
            "text/plain": [
              "x=4,y=7"
            ]
          },
          "metadata": {},
          "execution_count": 20
        }
      ]
    },
    {
      "cell_type": "code",
      "source": [
        "p2=point(2,3)"
      ],
      "metadata": {
        "id": "BzvE4NmhCl59"
      },
      "execution_count": 21,
      "outputs": []
    },
    {
      "cell_type": "code",
      "source": [
        "p2"
      ],
      "metadata": {
        "colab": {
          "base_uri": "https://localhost:8080/"
        },
        "id": "MEtTr4p_Cou6",
        "outputId": "3eb9e97f-146d-4e2c-b032-5c7eb4160e5b"
      },
      "execution_count": 22,
      "outputs": [
        {
          "output_type": "execute_result",
          "data": {
            "text/plain": [
              "x=2,y=3"
            ]
          },
          "metadata": {},
          "execution_count": 22
        }
      ]
    },
    {
      "cell_type": "code",
      "source": [
        "p1-p2"
      ],
      "metadata": {
        "colab": {
          "base_uri": "https://localhost:8080/"
        },
        "id": "N4mzd0TSCpfq",
        "outputId": "11ceeb41-747a-4817-f96f-e91ecfb95fec"
      },
      "execution_count": 23,
      "outputs": [
        {
          "output_type": "execute_result",
          "data": {
            "text/plain": [
              "x=2,y=4"
            ]
          },
          "metadata": {},
          "execution_count": 23
        }
      ]
    },
    {
      "cell_type": "code",
      "source": [
        "p3=point(3,4)"
      ],
      "metadata": {
        "id": "jIF2DlnsCrKA"
      },
      "execution_count": 24,
      "outputs": []
    },
    {
      "cell_type": "code",
      "source": [
        "p4=point(4,2)"
      ],
      "metadata": {
        "id": "S1AD92KcCzze"
      },
      "execution_count": 25,
      "outputs": []
    },
    {
      "cell_type": "code",
      "source": [
        "p3-p4"
      ],
      "metadata": {
        "colab": {
          "base_uri": "https://localhost:8080/"
        },
        "id": "6g783iDVC3M9",
        "outputId": "e9bed7d4-f96a-4480-87d6-9201831819e6"
      },
      "execution_count": 26,
      "outputs": [
        {
          "output_type": "execute_result",
          "data": {
            "text/plain": [
              "x=-1,y=2"
            ]
          },
          "metadata": {},
          "execution_count": 26
        }
      ]
    },
    {
      "cell_type": "code",
      "source": [
        "print(point.mro())"
      ],
      "metadata": {
        "colab": {
          "base_uri": "https://localhost:8080/"
        },
        "id": "UwXydvsXC4pq",
        "outputId": "5e496614-325f-4d42-9b50-f2349bf31969"
      },
      "execution_count": 27,
      "outputs": [
        {
          "output_type": "stream",
          "name": "stdout",
          "text": [
            "[<class '__main__.point'>, <class 'object'>]\n"
          ]
        }
      ]
    },
    {
      "cell_type": "code",
      "source": [
        "def a():\n",
        "  b=10\n",
        "  c=20\n",
        "  return b+c"
      ],
      "metadata": {
        "id": "9GgzCvsLD1pk"
      },
      "execution_count": 29,
      "outputs": []
    },
    {
      "cell_type": "code",
      "source": [
        "a()"
      ],
      "metadata": {
        "colab": {
          "base_uri": "https://localhost:8080/"
        },
        "id": "sUMiYaA6ES9q",
        "outputId": "1860c1cb-9367-4ee0-8367-38f7b2533020"
      },
      "execution_count": 30,
      "outputs": [
        {
          "output_type": "execute_result",
          "data": {
            "text/plain": [
              "30"
            ]
          },
          "metadata": {},
          "execution_count": 30
        }
      ]
    },
    {
      "cell_type": "code",
      "source": [],
      "metadata": {
        "id": "iC8F9zy2EW_k"
      },
      "execution_count": null,
      "outputs": []
    }
  ]
}