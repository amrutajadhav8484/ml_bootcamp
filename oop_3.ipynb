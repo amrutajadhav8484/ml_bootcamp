{
  "nbformat": 4,
  "nbformat_minor": 0,
  "metadata": {
    "colab": {
      "provenance": []
    },
    "kernelspec": {
      "name": "python3",
      "display_name": "Python 3"
    },
    "language_info": {
      "name": "python"
    }
  },
  "cells": [
    {
      "cell_type": "code",
      "execution_count": null,
      "metadata": {
        "id": "vMdzHeTcX1E-"
      },
      "outputs": [],
      "source": [
        "class emp:\n"
      ]
    },
    {
      "cell_type": "markdown",
      "source": [
        "**Encapsulation**"
      ],
      "metadata": {
        "id": "UR15InSENhHq"
      }
    },
    {
      "cell_type": "code",
      "source": [
        "class emp:\n",
        "  def __init__(self):\n",
        "    self.name=\"amruta\"\n",
        "    self.age=19\n",
        "    self.__salary=200000 #_ used form make public variable as private\n",
        "  def __display(self): # make public method as private\n",
        "    print(self.name,self.age,self._salary)\n",
        "  def show(self):\n",
        "    self.__display()\n"
      ],
      "metadata": {
        "id": "BZE07bxWNmtB"
      },
      "execution_count": null,
      "outputs": []
    },
    {
      "cell_type": "code",
      "source": [
        "obj=emp()"
      ],
      "metadata": {
        "id": "q_U24KxtOKC8"
      },
      "execution_count": null,
      "outputs": []
    },
    {
      "cell_type": "code",
      "source": [
        "obj.name"
      ],
      "metadata": {
        "colab": {
          "base_uri": "https://localhost:8080/",
          "height": 35
        },
        "id": "z4TBCW1_ON7P",
        "outputId": "f38e1502-7cd9-4986-8574-e1fed4f969d9"
      },
      "execution_count": null,
      "outputs": [
        {
          "output_type": "execute_result",
          "data": {
            "text/plain": [
              "'amruta'"
            ],
            "application/vnd.google.colaboratory.intrinsic+json": {
              "type": "string"
            }
          },
          "metadata": {},
          "execution_count": 7
        }
      ]
    },
    {
      "cell_type": "code",
      "source": [
        "obj.age"
      ],
      "metadata": {
        "colab": {
          "base_uri": "https://localhost:8080/"
        },
        "id": "etZWzYBIOTwa",
        "outputId": "e073dd3b-ee14-4a57-e087-9c184744ea5a"
      },
      "execution_count": null,
      "outputs": [
        {
          "output_type": "execute_result",
          "data": {
            "text/plain": [
              "19"
            ]
          },
          "metadata": {},
          "execution_count": 4
        }
      ]
    },
    {
      "cell_type": "code",
      "source": [
        "obj.salary # can't access because salary is private variable"
      ],
      "metadata": {
        "colab": {
          "base_uri": "https://localhost:8080/",
          "height": 141
        },
        "id": "r4FNO_G8OXHq",
        "outputId": "36604763-c100-4da5-e457-79bb061cf659"
      },
      "execution_count": null,
      "outputs": [
        {
          "output_type": "error",
          "ename": "AttributeError",
          "evalue": "'emp' object has no attribute 'salary'",
          "traceback": [
            "\u001b[0;31m---------------------------------------------------------------------------\u001b[0m",
            "\u001b[0;31mAttributeError\u001b[0m                            Traceback (most recent call last)",
            "\u001b[0;32m<ipython-input-8-02f6c5be6de0>\u001b[0m in \u001b[0;36m<cell line: 1>\u001b[0;34m()\u001b[0m\n\u001b[0;32m----> 1\u001b[0;31m \u001b[0mobj\u001b[0m\u001b[0;34m.\u001b[0m\u001b[0msalary\u001b[0m\u001b[0;34m\u001b[0m\u001b[0;34m\u001b[0m\u001b[0m\n\u001b[0m",
            "\u001b[0;31mAttributeError\u001b[0m: 'emp' object has no attribute 'salary'"
          ]
        }
      ]
    },
    {
      "cell_type": "code",
      "source": [
        "obj.display() #cannot access because display is private method"
      ],
      "metadata": {
        "colab": {
          "base_uri": "https://localhost:8080/",
          "height": 141
        },
        "id": "FwE5L3w1O50F",
        "outputId": "a0d91a2a-9fa3-42e9-ce82-de84bb8754aa"
      },
      "execution_count": null,
      "outputs": [
        {
          "output_type": "error",
          "ename": "AttributeError",
          "evalue": "'emp' object has no attribute 'display'",
          "traceback": [
            "\u001b[0;31m---------------------------------------------------------------------------\u001b[0m",
            "\u001b[0;31mAttributeError\u001b[0m                            Traceback (most recent call last)",
            "\u001b[0;32m<ipython-input-16-e99214d356b4>\u001b[0m in \u001b[0;36m<cell line: 1>\u001b[0;34m()\u001b[0m\n\u001b[0;32m----> 1\u001b[0;31m \u001b[0mobj\u001b[0m\u001b[0;34m.\u001b[0m\u001b[0mdisplay\u001b[0m\u001b[0;34m(\u001b[0m\u001b[0;34m)\u001b[0m \u001b[0;31m#cannot access because display is private method\u001b[0m\u001b[0;34m\u001b[0m\u001b[0;34m\u001b[0m\u001b[0m\n\u001b[0m",
            "\u001b[0;31mAttributeError\u001b[0m: 'emp' object has no attribute 'display'"
          ]
        }
      ]
    },
    {
      "cell_type": "code",
      "source": [
        "obj.show()"
      ],
      "metadata": {
        "colab": {
          "base_uri": "https://localhost:8080/"
        },
        "id": "SUctC4uXPToZ",
        "outputId": "cf620b0c-6613-4b5f-d7f9-ab3e21d5ee52"
      },
      "execution_count": null,
      "outputs": [
        {
          "output_type": "stream",
          "name": "stdout",
          "text": [
            "amruta 19 200000\n"
          ]
        }
      ]
    },
    {
      "cell_type": "markdown",
      "source": [
        "# **inheritance**"
      ],
      "metadata": {
        "id": "QZU6vyM1TIrg"
      }
    },
    {
      "cell_type": "code",
      "source": [
        "class a:\n",
        "  def __init__(self):\n",
        "    print(\"hii\")"
      ],
      "metadata": {
        "id": "WIC_oioVSfHw"
      },
      "execution_count": null,
      "outputs": []
    },
    {
      "cell_type": "code",
      "source": [
        "obj=a()"
      ],
      "metadata": {
        "colab": {
          "base_uri": "https://localhost:8080/"
        },
        "id": "Lri0q0AEcPBD",
        "outputId": "775f18f9-d8ac-4fc8-e005-d53f4426b659"
      },
      "execution_count": null,
      "outputs": [
        {
          "output_type": "stream",
          "name": "stdout",
          "text": [
            "hii\n"
          ]
        }
      ]
    },
    {
      "cell_type": "code",
      "source": [
        "obj2=object()"
      ],
      "metadata": {
        "id": "VKRu3tjmcRAY"
      },
      "execution_count": null,
      "outputs": []
    },
    {
      "cell_type": "code",
      "source": [
        "dir(obj2)"
      ],
      "metadata": {
        "colab": {
          "base_uri": "https://localhost:8080/"
        },
        "id": "2fuSS4iPcU2f",
        "outputId": "aa32b19f-f073-4254-aff5-c970e3ff2805"
      },
      "execution_count": null,
      "outputs": [
        {
          "output_type": "execute_result",
          "data": {
            "text/plain": [
              "['__class__',\n",
              " '__delattr__',\n",
              " '__dir__',\n",
              " '__doc__',\n",
              " '__eq__',\n",
              " '__format__',\n",
              " '__ge__',\n",
              " '__getattribute__',\n",
              " '__gt__',\n",
              " '__hash__',\n",
              " '__init__',\n",
              " '__init_subclass__',\n",
              " '__le__',\n",
              " '__lt__',\n",
              " '__ne__',\n",
              " '__new__',\n",
              " '__reduce__',\n",
              " '__reduce_ex__',\n",
              " '__repr__',\n",
              " '__setattr__',\n",
              " '__sizeof__',\n",
              " '__str__',\n",
              " '__subclasshook__']"
            ]
          },
          "metadata": {},
          "execution_count": 23
        }
      ]
    },
    {
      "cell_type": "code",
      "source": [
        "class a:\n",
        "  def __init__(self):\n",
        "    print(\"hii\")\n",
        "  def __repr__(self):\n",
        "    return \"amruta rajesh jadhav\""
      ],
      "metadata": {
        "id": "gIBoUrVocZSI"
      },
      "execution_count": null,
      "outputs": []
    },
    {
      "cell_type": "code",
      "source": [
        "obj1=a()"
      ],
      "metadata": {
        "colab": {
          "base_uri": "https://localhost:8080/"
        },
        "id": "DbB3gBUsckuF",
        "outputId": "7307a5af-152b-4dd1-bdd6-6058d76b87da"
      },
      "execution_count": null,
      "outputs": [
        {
          "output_type": "stream",
          "name": "stdout",
          "text": [
            "hii\n"
          ]
        }
      ]
    },
    {
      "cell_type": "code",
      "source": [
        "print(obj1)"
      ],
      "metadata": {
        "colab": {
          "base_uri": "https://localhost:8080/"
        },
        "id": "FVUrN5ircnIV",
        "outputId": "b7b5935a-0682-4eda-887d-8b366ba56a47"
      },
      "execution_count": null,
      "outputs": [
        {
          "output_type": "stream",
          "name": "stdout",
          "text": [
            "<__main__.a object at 0x7888d675ea70>\n"
          ]
        }
      ]
    },
    {
      "cell_type": "code",
      "source": [
        "print(obj1)"
      ],
      "metadata": {
        "colab": {
          "base_uri": "https://localhost:8080/"
        },
        "id": "WzrVPh84crn6",
        "outputId": "ee7d709f-3388-47cc-c764-b1f361cd9c56"
      },
      "execution_count": null,
      "outputs": [
        {
          "output_type": "stream",
          "name": "stdout",
          "text": [
            "amruta rajesh jadhav\n"
          ]
        }
      ]
    },
    {
      "cell_type": "code",
      "source": [
        "obj1"
      ],
      "metadata": {
        "colab": {
          "base_uri": "https://localhost:8080/"
        },
        "id": "BIdSZwenc-Wx",
        "outputId": "b3fee7bd-5c46-46ae-bed1-b194b5747b75"
      },
      "execution_count": null,
      "outputs": [
        {
          "output_type": "execute_result",
          "data": {
            "text/plain": [
              "amruta rajesh jadhav"
            ]
          },
          "metadata": {},
          "execution_count": 31
        }
      ]
    },
    {
      "cell_type": "code",
      "source": [
        "class a:\n",
        "  def __init__(self):\n",
        "    print(\"hii\")\n",
        "  def __str__(self):\n",
        "    return \"amruta rajesh jadhav\""
      ],
      "metadata": {
        "id": "ZP_bqnn9d0i9"
      },
      "execution_count": null,
      "outputs": []
    },
    {
      "cell_type": "code",
      "source": [
        "obj1=a()"
      ],
      "metadata": {
        "colab": {
          "base_uri": "https://localhost:8080/"
        },
        "id": "CBV0AXnOd5tv",
        "outputId": "e29b4d2e-84f3-4233-c996-bc2738c77180"
      },
      "execution_count": null,
      "outputs": [
        {
          "output_type": "stream",
          "name": "stdout",
          "text": [
            "hii\n"
          ]
        }
      ]
    },
    {
      "cell_type": "code",
      "source": [
        "obj1"
      ],
      "metadata": {
        "colab": {
          "base_uri": "https://localhost:8080/"
        },
        "id": "IlzB_buzd8cD",
        "outputId": "f91056e4-d96b-42ce-bce7-c5bee4917383"
      },
      "execution_count": null,
      "outputs": [
        {
          "output_type": "execute_result",
          "data": {
            "text/plain": [
              "<__main__.a at 0x7888d675ffd0>"
            ]
          },
          "metadata": {},
          "execution_count": 34
        }
      ]
    },
    {
      "cell_type": "code",
      "source": [
        "print(obj1)"
      ],
      "metadata": {
        "colab": {
          "base_uri": "https://localhost:8080/"
        },
        "id": "PhcTDq0Pd-36",
        "outputId": "6cb02f40-3faf-4098-e610-2c1f9150859b"
      },
      "execution_count": null,
      "outputs": [
        {
          "output_type": "stream",
          "name": "stdout",
          "text": [
            "amruta rajesh jadhav\n"
          ]
        }
      ]
    },
    {
      "cell_type": "markdown",
      "source": [
        "# simple inheritance"
      ],
      "metadata": {
        "id": "8W4LZfBVfv01"
      }
    },
    {
      "cell_type": "code",
      "source": [
        "class animal:\n",
        "  def eat(self):\n",
        "    print(\"yes it eats\")\n",
        "  def sleep(self):\n",
        "    print(\"yes it sleeps\")\n",
        "class bird(animal):\n",
        "  def set_type(self,type):\n",
        "    self.type=type\n",
        "  def fly(self):\n",
        "    print(\"yes it flys\")\n",
        "  def speak(self,sound):\n",
        "    print(f\"it speak:{sound} {sound}\")\n",
        "  def __repr__(self):\n",
        "    return \"this is a \"+self.type\n"
      ],
      "metadata": {
        "id": "akgo6NwzeBzv"
      },
      "execution_count": null,
      "outputs": []
    },
    {
      "cell_type": "code",
      "source": [
        "duck=bird()"
      ],
      "metadata": {
        "id": "mCr0jelbidcz"
      },
      "execution_count": null,
      "outputs": []
    },
    {
      "cell_type": "code",
      "source": [
        "duck.eat()"
      ],
      "metadata": {
        "colab": {
          "base_uri": "https://localhost:8080/"
        },
        "id": "pGXSKuqWi1LZ",
        "outputId": "8080a119-0a36-45b4-d0b3-30fb309e396d"
      },
      "execution_count": null,
      "outputs": [
        {
          "output_type": "stream",
          "name": "stdout",
          "text": [
            "yes it eats\n"
          ]
        }
      ]
    },
    {
      "cell_type": "code",
      "source": [
        "duck.fly()"
      ],
      "metadata": {
        "colab": {
          "base_uri": "https://localhost:8080/"
        },
        "id": "OWDQCWW-i30n",
        "outputId": "6b9e7dee-3d16-4c67-e530-c55afea8ae0d"
      },
      "execution_count": null,
      "outputs": [
        {
          "output_type": "stream",
          "name": "stdout",
          "text": [
            "yes it flys\n"
          ]
        }
      ]
    },
    {
      "cell_type": "code",
      "source": [
        "duck.set_type(\"duck\")"
      ],
      "metadata": {
        "id": "AB1zji8Yi70o"
      },
      "execution_count": null,
      "outputs": []
    },
    {
      "cell_type": "code",
      "source": [
        "print(duck)"
      ],
      "metadata": {
        "colab": {
          "base_uri": "https://localhost:8080/"
        },
        "id": "bMRon3z5jBST",
        "outputId": "52226d63-5914-4a54-eeac-6c3eb3162036"
      },
      "execution_count": null,
      "outputs": [
        {
          "output_type": "stream",
          "name": "stdout",
          "text": [
            "this is aduck\n"
          ]
        }
      ]
    },
    {
      "cell_type": "code",
      "source": [
        "duck.speak(\"quak quak\")"
      ],
      "metadata": {
        "colab": {
          "base_uri": "https://localhost:8080/"
        },
        "id": "e0A-OoQxjGXz",
        "outputId": "e656480a-e784-4a6f-da54-6731e585bd81"
      },
      "execution_count": null,
      "outputs": [
        {
          "output_type": "stream",
          "name": "stdout",
          "text": [
            "it speak:quak quak quak quak\n"
          ]
        }
      ]
    },
    {
      "cell_type": "markdown",
      "source": [
        "# multilevel inheritance"
      ],
      "metadata": {
        "id": "LVKGwvIoUEnL"
      }
    },
    {
      "cell_type": "code",
      "source": [
        "# real time sceniro\n",
        "# code reusability\n",
        "class person:\n",
        "  def __init__(self,name,age):\n",
        "    self.name=name\n",
        "    self.age=age\n",
        "    print(\"person constructor called\")\n",
        "class emp(person):\n",
        "  def __init__(self,age,name,id,sal):\n",
        "    person.__init__(self,name,age)\n",
        "    self.id=id\n",
        "    self.sal=sal\n",
        "    print(\"employee constructor called\")\n",
        "class manger(emp):\n",
        "  def __init__(self,age,name,id,sal,bonus):\n",
        "    emp.__init__(self,name,age,id,sal)\n",
        "    self.bonus=bonus\n",
        "    print(\"manger constructor called\")\n",
        "\n"
      ],
      "metadata": {
        "id": "eqgI3LwxjS5U"
      },
      "execution_count": null,
      "outputs": []
    },
    {
      "cell_type": "code",
      "source": [
        "m=manger(\"amruta\",21,12,200000,2000)"
      ],
      "metadata": {
        "colab": {
          "base_uri": "https://localhost:8080/"
        },
        "id": "sF7W-7wHV6_8",
        "outputId": "81050224-a734-497d-af54-2e58880036bc"
      },
      "execution_count": null,
      "outputs": [
        {
          "output_type": "stream",
          "name": "stdout",
          "text": [
            "person constructor called\n",
            "employee constructor called\n",
            "manger constructor called\n"
          ]
        }
      ]
    },
    {
      "cell_type": "code",
      "source": [
        "m.age"
      ],
      "metadata": {
        "colab": {
          "base_uri": "https://localhost:8080/"
        },
        "id": "F4F2Bcs4YZGk",
        "outputId": "8e589ff5-2b81-400b-a178-3b9710626136"
      },
      "execution_count": null,
      "outputs": [
        {
          "output_type": "execute_result",
          "data": {
            "text/plain": [
              "21"
            ]
          },
          "metadata": {},
          "execution_count": 9
        }
      ]
    },
    {
      "cell_type": "markdown",
      "source": [
        "## using super() method"
      ],
      "metadata": {
        "id": "1d1qL0WfZH0o"
      }
    },
    {
      "cell_type": "code",
      "source": [
        "# real time sceniro\n",
        "# code reusability\n",
        "class person:\n",
        "  def __init__(self,name,age):\n",
        "    self.name=name\n",
        "    self.age=age\n",
        "    print(\"person constructor called\")\n",
        "class emp(person):\n",
        "  def __init__(self,age,name,id,sal):\n",
        "    super().__init__(name,age)\n",
        "    self.id=id\n",
        "    self.sal=sal\n",
        "    print(\"employee constructor called\")\n",
        "class manger(emp):\n",
        "  def __init__(self,age,name,id,sal,bonus):\n",
        "    super().__init__(name,age,id,sal)\n",
        "    self.bonus=bonus\n",
        "    print(\"manger constructor called\")\n",
        "\n",
        "\n"
      ],
      "metadata": {
        "id": "hI_uvT4iYjsE"
      },
      "execution_count": null,
      "outputs": []
    },
    {
      "cell_type": "code",
      "source": [
        "k=manger(\"shweta\",21,11,2000000,3000)"
      ],
      "metadata": {
        "colab": {
          "base_uri": "https://localhost:8080/"
        },
        "id": "O-XkAsQQZfik",
        "outputId": "accb5f03-d26d-4c1b-ab45-a1f25e26e177"
      },
      "execution_count": null,
      "outputs": [
        {
          "output_type": "stream",
          "name": "stdout",
          "text": [
            "person constructor called\n",
            "employee constructor called\n",
            "manger constructor called\n"
          ]
        }
      ]
    },
    {
      "cell_type": "code",
      "source": [
        "print(k)"
      ],
      "metadata": {
        "colab": {
          "base_uri": "https://localhost:8080/"
        },
        "id": "DpqoGxNIZnk7",
        "outputId": "544b4880-8f07-47eb-ba5d-75a307657632"
      },
      "execution_count": null,
      "outputs": [
        {
          "output_type": "stream",
          "name": "stdout",
          "text": [
            "<__main__.manger object at 0x7b26df2a36a0>\n"
          ]
        }
      ]
    },
    {
      "cell_type": "code",
      "source": [],
      "metadata": {
        "id": "JDwwLyf1ZrzO"
      },
      "execution_count": null,
      "outputs": []
    },
    {
      "cell_type": "markdown",
      "source": [
        "# method overloading\n",
        "python does not support to method overloading\n",
        "solution is variable  length argument"
      ],
      "metadata": {
        "id": "YXgQh65Oc8Fo"
      }
    },
    {
      "cell_type": "code",
      "source": [
        "def test(a,b):\n",
        "  print(\"done\")\n",
        "def test(a,b,c):\n",
        "  print(\"done dana done\")"
      ],
      "metadata": {
        "id": "IMBUVJE4dHK2"
      },
      "execution_count": null,
      "outputs": []
    },
    {
      "cell_type": "code",
      "source": [
        "test(20,30)"
      ],
      "metadata": {
        "colab": {
          "base_uri": "https://localhost:8080/",
          "height": 141
        },
        "id": "SBT1nUMgdTO4",
        "outputId": "67bcfba5-89be-4c8f-8c95-9eaf25b1dca0"
      },
      "execution_count": null,
      "outputs": [
        {
          "output_type": "error",
          "ename": "TypeError",
          "evalue": "test() missing 1 required positional argument: 'c'",
          "traceback": [
            "\u001b[0;31m---------------------------------------------------------------------------\u001b[0m",
            "\u001b[0;31mTypeError\u001b[0m                                 Traceback (most recent call last)",
            "\u001b[0;32m<ipython-input-14-483f08dfbf94>\u001b[0m in \u001b[0;36m<cell line: 1>\u001b[0;34m()\u001b[0m\n\u001b[0;32m----> 1\u001b[0;31m \u001b[0mtest\u001b[0m\u001b[0;34m(\u001b[0m\u001b[0;36m20\u001b[0m\u001b[0;34m,\u001b[0m\u001b[0;36m30\u001b[0m\u001b[0;34m)\u001b[0m\u001b[0;34m\u001b[0m\u001b[0;34m\u001b[0m\u001b[0m\n\u001b[0m",
            "\u001b[0;31mTypeError\u001b[0m: test() missing 1 required positional argument: 'c'"
          ]
        }
      ]
    },
    {
      "cell_type": "code",
      "source": [],
      "metadata": {
        "id": "FkYiu3DndVhE"
      },
      "execution_count": null,
      "outputs": []
    }
  ]
}