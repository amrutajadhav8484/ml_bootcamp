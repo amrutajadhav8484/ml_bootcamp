{
  "nbformat": 4,
  "nbformat_minor": 0,
  "metadata": {
    "colab": {
      "provenance": []
    },
    "kernelspec": {
      "name": "python3",
      "display_name": "Python 3"
    },
    "language_info": {
      "name": "python"
    }
  },
  "cells": [
    {
      "cell_type": "markdown",
      "source": [
        "1. what is function?\n",
        "2. how to write function in python?\n",
        "3. argumnet vs parameter in function\n",
        "------------------------------------------\n",
        "for thursday\n",
        "4. local and global variable in function\n",
        "5. lambda function\n",
        "6. map and filter function"
      ],
      "metadata": {
        "id": "haXkkVIyulen"
      }
    },
    {
      "cell_type": "code",
      "source": [
        "a=10\n",
        "b=20\n",
        "c=a+b\n",
        "print(c)"
      ],
      "metadata": {
        "colab": {
          "base_uri": "https://localhost:8080/"
        },
        "id": "7ClTP0_gtzzT",
        "outputId": "d19f080d-69a2-40d5-912d-030a0100e32b"
      },
      "execution_count": null,
      "outputs": [
        {
          "output_type": "stream",
          "name": "stdout",
          "text": [
            "30\n"
          ]
        }
      ]
    },
    {
      "cell_type": "code",
      "source": [
        "a=10\n",
        "b=20\n",
        "c=a-b\n",
        "print(c)"
      ],
      "metadata": {
        "colab": {
          "base_uri": "https://localhost:8080/"
        },
        "id": "FGNw4ppztz10",
        "outputId": "befd5b09-9f4a-475c-bacf-646219208ba2"
      },
      "execution_count": null,
      "outputs": [
        {
          "output_type": "stream",
          "name": "stdout",
          "text": [
            "-10\n"
          ]
        }
      ]
    },
    {
      "cell_type": "code",
      "source": [
        "def addition(a,b):\n",
        "  c=a+b\n",
        "  print(c)\n",
        "addition(10,20)"
      ],
      "metadata": {
        "colab": {
          "base_uri": "https://localhost:8080/"
        },
        "id": "AGhiyBmltz6A",
        "outputId": "1a11365f-34e9-447c-e605-98163373753d"
      },
      "execution_count": null,
      "outputs": [
        {
          "output_type": "stream",
          "name": "stdout",
          "text": [
            "30\n"
          ]
        }
      ]
    },
    {
      "cell_type": "code",
      "source": [
        "# function defination\n",
        "def addition1():\n",
        "  a=100\n",
        "  b=200\n",
        "  c=a+b\n",
        "  print(c)\n"
      ],
      "metadata": {
        "id": "A-4JS5Getz8H"
      },
      "execution_count": null,
      "outputs": []
    },
    {
      "cell_type": "code",
      "source": [
        "# this is function call\n",
        "addition1()"
      ],
      "metadata": {
        "colab": {
          "base_uri": "https://localhost:8080/"
        },
        "id": "1HK-ket8tz-K",
        "outputId": "46291361-58f3-4ce2-b051-d4cc0c0e1a9a"
      },
      "execution_count": null,
      "outputs": [
        {
          "output_type": "stream",
          "name": "stdout",
          "text": [
            "300\n"
          ]
        }
      ]
    },
    {
      "cell_type": "code",
      "source": [
        "def absolute(a,b):\n",
        "  k=abs(a)\n",
        "  p=abs(b)\n",
        "  print(k)\n",
        "  print(p)\n"
      ],
      "metadata": {
        "id": "Y4HzyHL5tz_8"
      },
      "execution_count": null,
      "outputs": []
    },
    {
      "cell_type": "code",
      "source": [
        "absolute(-7,9)"
      ],
      "metadata": {
        "id": "aIm-_iPTt0Cx",
        "colab": {
          "base_uri": "https://localhost:8080/"
        },
        "outputId": "7a925fec-abda-4201-b629-1a46271447fd"
      },
      "execution_count": null,
      "outputs": [
        {
          "output_type": "stream",
          "name": "stdout",
          "text": [
            "7\n",
            "9\n"
          ]
        }
      ]
    },
    {
      "cell_type": "code",
      "source": [
        "def addition():\n",
        "  a=100\n",
        "  b=200\n",
        "  c=a+b\n",
        "  #print(c)\n",
        "  return a,b,c"
      ],
      "metadata": {
        "id": "JxD-oYUWt0WX"
      },
      "execution_count": null,
      "outputs": []
    },
    {
      "cell_type": "code",
      "source": [
        "value=addition()"
      ],
      "metadata": {
        "id": "DlX92b9gt0Ys"
      },
      "execution_count": null,
      "outputs": []
    },
    {
      "cell_type": "code",
      "source": [
        "print(value)"
      ],
      "metadata": {
        "id": "Vcn_jtt_t0cH",
        "colab": {
          "base_uri": "https://localhost:8080/"
        },
        "outputId": "c2058773-4eb7-46cf-e670-37949333a48d"
      },
      "execution_count": null,
      "outputs": [
        {
          "output_type": "stream",
          "name": "stdout",
          "text": [
            "(100, 200, 300)\n"
          ]
        }
      ]
    },
    {
      "cell_type": "code",
      "source": [
        "def factorial(n):\n",
        "  factorial=1\n",
        "  if n>=1:\n",
        "    for i in range(1,n+1):\n",
        "      factorial=factorial*i\n",
        "    return factorial\n"
      ],
      "metadata": {
        "id": "xGCgphE7SUTG"
      },
      "execution_count": null,
      "outputs": []
    },
    {
      "cell_type": "code",
      "source": [
        "k=int(input(\"enter the number\"))\n",
        "factorial(k)"
      ],
      "metadata": {
        "colab": {
          "base_uri": "https://localhost:8080/"
        },
        "id": "L9Rg0ktZVkYL",
        "outputId": "3a47bdf3-660b-431d-f690-e7d176cd3738"
      },
      "execution_count": null,
      "outputs": [
        {
          "name": "stdout",
          "output_type": "stream",
          "text": [
            "enter the number5\n"
          ]
        },
        {
          "output_type": "execute_result",
          "data": {
            "text/plain": [
              "120"
            ]
          },
          "metadata": {},
          "execution_count": 19
        }
      ]
    },
    {
      "cell_type": "code",
      "source": [
        "factorial(k)"
      ],
      "metadata": {
        "colab": {
          "base_uri": "https://localhost:8080/"
        },
        "id": "_aDnzs22Voi0",
        "outputId": "2e7b006d-d4a6-4ea8-92fd-be3428a9e3d0"
      },
      "execution_count": null,
      "outputs": [
        {
          "output_type": "execute_result",
          "data": {
            "text/plain": [
              "1307674368000"
            ]
          },
          "metadata": {},
          "execution_count": 18
        }
      ]
    },
    {
      "cell_type": "code",
      "source": [
        "def factorial(n):\n",
        "  f=1\n",
        "  while(n>1):\n",
        "    f=f*n\n",
        "    n=n-1\n",
        "  return f\n",
        "\n"
      ],
      "metadata": {
        "id": "WbGaNNGBVtDX"
      },
      "execution_count": null,
      "outputs": []
    },
    {
      "cell_type": "code",
      "source": [
        "factorial(5)"
      ],
      "metadata": {
        "colab": {
          "base_uri": "https://localhost:8080/"
        },
        "id": "BMo3gIyWdDIV",
        "outputId": "bf3061da-0ade-43fc-89af-83b525126ea0"
      },
      "execution_count": null,
      "outputs": [
        {
          "output_type": "execute_result",
          "data": {
            "text/plain": [
              "120"
            ]
          },
          "metadata": {},
          "execution_count": 2
        }
      ]
    },
    {
      "cell_type": "code",
      "source": [
        "#positional argument\n",
        "def multiplication(a,b,c):\n",
        "  return a*b*c"
      ],
      "metadata": {
        "id": "v2-5P8jYdDLA"
      },
      "execution_count": null,
      "outputs": []
    },
    {
      "cell_type": "code",
      "source": [
        "multiplication(10)"
      ],
      "metadata": {
        "colab": {
          "base_uri": "https://localhost:8080/",
          "height": 141
        },
        "id": "TlW_-1gTdDOb",
        "outputId": "c6730c6b-9fcc-4bb3-a3c1-ad3afcf4a8e2"
      },
      "execution_count": null,
      "outputs": [
        {
          "output_type": "error",
          "ename": "TypeError",
          "evalue": "multiplication() missing 2 required positional arguments: 'b' and 'c'",
          "traceback": [
            "\u001b[0;31m---------------------------------------------------------------------------\u001b[0m",
            "\u001b[0;31mTypeError\u001b[0m                                 Traceback (most recent call last)",
            "\u001b[0;32m<ipython-input-4-ae302d53c6f6>\u001b[0m in \u001b[0;36m<cell line: 1>\u001b[0;34m()\u001b[0m\n\u001b[0;32m----> 1\u001b[0;31m \u001b[0mmultiplication\u001b[0m\u001b[0;34m(\u001b[0m\u001b[0;36m10\u001b[0m\u001b[0;34m)\u001b[0m\u001b[0;34m\u001b[0m\u001b[0;34m\u001b[0m\u001b[0m\n\u001b[0m",
            "\u001b[0;31mTypeError\u001b[0m: multiplication() missing 2 required positional arguments: 'b' and 'c'"
          ]
        }
      ]
    },
    {
      "cell_type": "code",
      "source": [
        "\n",
        "multiplication(10,20,30)"
      ],
      "metadata": {
        "colab": {
          "base_uri": "https://localhost:8080/"
        },
        "id": "Okwa1lC8gN42",
        "outputId": "03ccf0de-bbc3-479e-d420-156200a8004f"
      },
      "execution_count": null,
      "outputs": [
        {
          "output_type": "execute_result",
          "data": {
            "text/plain": [
              "6000"
            ]
          },
          "metadata": {},
          "execution_count": 5
        }
      ]
    },
    {
      "cell_type": "code",
      "source": [
        "# KEyword Argument\n",
        "def multiplication(a,b,c):\n",
        "  return a*b*c\n"
      ],
      "metadata": {
        "id": "bd8HHUKzgYjO"
      },
      "execution_count": null,
      "outputs": []
    },
    {
      "cell_type": "code",
      "source": [
        "multiplication(a=10,c=70,b=30)"
      ],
      "metadata": {
        "colab": {
          "base_uri": "https://localhost:8080/"
        },
        "id": "ix-O0o9HhCcu",
        "outputId": "85b0b1a7-a3d8-4aba-ca35-b75d7f0b73d3"
      },
      "execution_count": null,
      "outputs": [
        {
          "output_type": "execute_result",
          "data": {
            "text/plain": [
              "21000"
            ]
          },
          "metadata": {},
          "execution_count": 7
        }
      ]
    },
    {
      "cell_type": "code",
      "source": [
        "#default argument, default argument always at last\n",
        "def multiplication(a,b,c=2):\n",
        "  return a*b*c\n"
      ],
      "metadata": {
        "id": "NmuEASoUhImB"
      },
      "execution_count": null,
      "outputs": []
    },
    {
      "cell_type": "code",
      "source": [
        "multiplication(2,3)"
      ],
      "metadata": {
        "colab": {
          "base_uri": "https://localhost:8080/"
        },
        "id": "Ch7grSethp8p",
        "outputId": "fd6c418c-4e07-40e1-b835-fafc8511a6fa"
      },
      "execution_count": null,
      "outputs": [
        {
          "output_type": "execute_result",
          "data": {
            "text/plain": [
              "12"
            ]
          },
          "metadata": {},
          "execution_count": 10
        }
      ]
    },
    {
      "cell_type": "code",
      "source": [],
      "metadata": {
        "id": "3Nvqmyk1htdZ"
      },
      "execution_count": null,
      "outputs": []
    },
    {
      "cell_type": "markdown",
      "source": [
        "Variable length Argument"
      ],
      "metadata": {
        "id": "L0poAYDLh0Kj"
      }
    },
    {
      "cell_type": "code",
      "source": [
        "def fun1(*a):\n",
        "  mul=1\n",
        "  for i in a:\n",
        "    mul=i*mul\n",
        "  return mul\n"
      ],
      "metadata": {
        "id": "FunsqX7ih3t-"
      },
      "execution_count": null,
      "outputs": []
    },
    {
      "cell_type": "code",
      "source": [
        "fun1(20,10,30,40)"
      ],
      "metadata": {
        "colab": {
          "base_uri": "https://localhost:8080/"
        },
        "id": "F-vyAbadkdkL",
        "outputId": "d8cc1d0a-6896-4cfe-a549-3679bcca0ca1"
      },
      "execution_count": null,
      "outputs": [
        {
          "output_type": "execute_result",
          "data": {
            "text/plain": [
              "240000"
            ]
          },
          "metadata": {},
          "execution_count": 12
        }
      ]
    },
    {
      "cell_type": "markdown",
      "source": [
        "Python does not support overloading ,python takes recent defination"
      ],
      "metadata": {
        "id": "tc0arWggi9VM"
      }
    },
    {
      "cell_type": "code",
      "source": [
        "def attach(s1,s2):\n",
        "  s3=s1+s2\n",
        "  print(\"joined strig is\",s3)\n",
        "attach(\"good\",\"night\")"
      ],
      "metadata": {
        "colab": {
          "base_uri": "https://localhost:8080/"
        },
        "id": "5B2Pfw_ujKfH",
        "outputId": "e8565b46-b922-4b38-c933-ed0a3c438780"
      },
      "execution_count": null,
      "outputs": [
        {
          "output_type": "stream",
          "name": "stdout",
          "text": [
            "joined strig is goodnight\n"
          ]
        }
      ]
    },
    {
      "cell_type": "code",
      "source": [
        "def cal_area(radius,pi=3.14):\n",
        "  area=pi*radius*radius\n",
        "  print(area)\n",
        "p=float(input(\"enter the radius\"))\n",
        "cal_area(p)"
      ],
      "metadata": {
        "id": "8rw6lIiAleXG",
        "colab": {
          "base_uri": "https://localhost:8080/"
        },
        "outputId": "b0009daa-1857-4b5a-a338-a927a2cb9f6b"
      },
      "execution_count": null,
      "outputs": [
        {
          "output_type": "stream",
          "name": "stdout",
          "text": [
            "enter the radius2\n",
            "12.56\n"
          ]
        }
      ]
    },
    {
      "cell_type": "code",
      "source": [
        "def addnos(a,b):\n",
        "  c=a+b\n",
        "  return c\n",
        "def addnos(a,b,c):\n",
        "  d=a+b+c\n",
        "  return d\n",
        "print(addnos(10,20))\n",
        "print(addnos(10,20,30))"
      ],
      "metadata": {
        "id": "9iaJnYxVTG-E",
        "colab": {
          "base_uri": "https://localhost:8080/",
          "height": 193
        },
        "outputId": "baf754af-648a-4e64-8ac9-7e45ebf105c8"
      },
      "execution_count": null,
      "outputs": [
        {
          "output_type": "error",
          "ename": "TypeError",
          "evalue": "addnos() missing 1 required positional argument: 'c'",
          "traceback": [
            "\u001b[0;31m---------------------------------------------------------------------------\u001b[0m",
            "\u001b[0;31mTypeError\u001b[0m                                 Traceback (most recent call last)",
            "\u001b[0;32m<ipython-input-3-f7ce33ebc2db>\u001b[0m in \u001b[0;36m<cell line: 7>\u001b[0;34m()\u001b[0m\n\u001b[1;32m      5\u001b[0m   \u001b[0md\u001b[0m\u001b[0;34m=\u001b[0m\u001b[0ma\u001b[0m\u001b[0;34m+\u001b[0m\u001b[0mb\u001b[0m\u001b[0;34m+\u001b[0m\u001b[0mc\u001b[0m\u001b[0;34m\u001b[0m\u001b[0;34m\u001b[0m\u001b[0m\n\u001b[1;32m      6\u001b[0m   \u001b[0;32mreturn\u001b[0m \u001b[0md\u001b[0m\u001b[0;34m\u001b[0m\u001b[0;34m\u001b[0m\u001b[0m\n\u001b[0;32m----> 7\u001b[0;31m \u001b[0mprint\u001b[0m\u001b[0;34m(\u001b[0m\u001b[0maddnos\u001b[0m\u001b[0;34m(\u001b[0m\u001b[0;36m10\u001b[0m\u001b[0;34m,\u001b[0m\u001b[0;36m20\u001b[0m\u001b[0;34m)\u001b[0m\u001b[0;34m)\u001b[0m\u001b[0;34m\u001b[0m\u001b[0;34m\u001b[0m\u001b[0m\n\u001b[0m\u001b[1;32m      8\u001b[0m \u001b[0mprint\u001b[0m\u001b[0;34m(\u001b[0m\u001b[0maddnos\u001b[0m\u001b[0;34m(\u001b[0m\u001b[0;36m10\u001b[0m\u001b[0;34m,\u001b[0m\u001b[0;36m20\u001b[0m\u001b[0;34m,\u001b[0m\u001b[0;36m30\u001b[0m\u001b[0;34m)\u001b[0m\u001b[0;34m)\u001b[0m\u001b[0;34m\u001b[0m\u001b[0;34m\u001b[0m\u001b[0m\n",
            "\u001b[0;31mTypeError\u001b[0m: addnos() missing 1 required positional argument: 'c'"
          ]
        }
      ]
    },
    {
      "cell_type": "code",
      "source": [
        "print(addnos(10,20,30))"
      ],
      "metadata": {
        "colab": {
          "base_uri": "https://localhost:8080/"
        },
        "id": "AsM_f5uOU7Kw",
        "outputId": "5da491c3-0cd0-44d6-92cf-c3aa5b500951"
      },
      "execution_count": null,
      "outputs": [
        {
          "output_type": "stream",
          "name": "stdout",
          "text": [
            "60\n"
          ]
        }
      ]
    },
    {
      "cell_type": "code",
      "source": [
        "def find_largest(*s):\n",
        "  largest=\" \"\n",
        "  for i in s:\n",
        "    if len(i)> len(largest):\n",
        "      largest=i\n",
        "  return len(largest)\n",
        "\n",
        "\n"
      ],
      "metadata": {
        "id": "lvnGGRSDVOrJ"
      },
      "execution_count": null,
      "outputs": []
    },
    {
      "cell_type": "code",
      "source": [
        "find_largest(\"amruta\",\"shweata\",\"shivaraj\")"
      ],
      "metadata": {
        "colab": {
          "base_uri": "https://localhost:8080/"
        },
        "id": "oL3TKKCvWgZv",
        "outputId": "87e64551-6ee3-48c6-eab3-ac38a49ddea6"
      },
      "execution_count": null,
      "outputs": [
        {
          "output_type": "execute_result",
          "data": {
            "text/plain": [
              "8"
            ]
          },
          "metadata": {},
          "execution_count": 21
        }
      ]
    },
    {
      "cell_type": "code",
      "source": [],
      "metadata": {
        "id": "rhXPtTPpW7W7"
      },
      "execution_count": null,
      "outputs": []
    }
  ]
}