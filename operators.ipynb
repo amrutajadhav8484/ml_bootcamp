{
 "cells": [
  {
   "cell_type": "code",
   "execution_count": 3,
   "id": "c28f5111-cb3f-4abc-8b09-213b40382ce3",
   "metadata": {},
   "outputs": [],
   "source": [
    "x=15\n",
    "y=3"
   ]
  },
  {
   "cell_type": "code",
   "execution_count": 4,
   "id": "ec2bd31a-0df1-42b0-8f8b-cfaae3e1178f",
   "metadata": {},
   "outputs": [
    {
     "name": "stdout",
     "output_type": "stream",
     "text": [
      "18\n",
      "12\n",
      "45\n"
     ]
    }
   ],
   "source": [
    "print(x+y)\n",
    "print(x-y)\n",
    "print(x*y)"
   ]
  },
  {
   "cell_type": "code",
   "execution_count": 5,
   "id": "5d1d24db-a834-4a4e-8fa2-34b705b2a2db",
   "metadata": {},
   "outputs": [
    {
     "name": "stdout",
     "output_type": "stream",
     "text": [
      "0\n"
     ]
    }
   ],
   "source": [
    "print(x%y) # use for get remainder"
   ]
  },
  {
   "cell_type": "code",
   "execution_count": 6,
   "id": "cf39b42c-ecb8-4f47-92d0-ef3518ad9795",
   "metadata": {},
   "outputs": [
    {
     "name": "stdout",
     "output_type": "stream",
     "text": [
      "3375\n"
     ]
    }
   ],
   "source": [
    "print(x**y) # for the exponential "
   ]
  },
  {
   "cell_type": "code",
   "execution_count": 8,
   "id": "66b6cbaa-4e64-404d-8151-653356241796",
   "metadata": {},
   "outputs": [
    {
     "name": "stdout",
     "output_type": "stream",
     "text": [
      "4\n"
     ]
    }
   ],
   "source": [
    "print(14//3) #floor division , round the value"
   ]
  },
  {
   "cell_type": "code",
   "execution_count": 9,
   "id": "ae579b2c-997f-402b-bac1-860bb75fb177",
   "metadata": {},
   "outputs": [
    {
     "name": "stdout",
     "output_type": "stream",
     "text": [
      "True\n"
     ]
    }
   ],
   "source": [
    "print(14>7)"
   ]
  },
  {
   "cell_type": "code",
   "execution_count": 10,
   "id": "d795dd35-55e4-4098-9c85-82b6b79c8c87",
   "metadata": {},
   "outputs": [
    {
     "name": "stdout",
     "output_type": "stream",
     "text": [
      "False\n"
     ]
    }
   ],
   "source": [
    "print(14<7)"
   ]
  },
  {
   "cell_type": "code",
   "execution_count": 11,
   "id": "1e23f1f4-0591-4e38-88f9-ca121aaa5231",
   "metadata": {},
   "outputs": [
    {
     "name": "stdout",
     "output_type": "stream",
     "text": [
      "True\n"
     ]
    }
   ],
   "source": [
    "print(14!=7)"
   ]
  },
  {
   "cell_type": "code",
   "execution_count": 1,
   "id": "a671adef-067f-4a61-96d9-3e5a5ccb93d3",
   "metadata": {},
   "outputs": [
    {
     "data": {
      "text/plain": [
       "False"
      ]
     },
     "execution_count": 1,
     "metadata": {},
     "output_type": "execute_result"
    }
   ],
   "source": [
    "14!=14"
   ]
  },
  {
   "cell_type": "code",
   "execution_count": 2,
   "id": "b55f18f5-3d87-4f77-b040-3c8854e115e8",
   "metadata": {},
   "outputs": [],
   "source": [
    "x=4"
   ]
  },
  {
   "cell_type": "code",
   "execution_count": 3,
   "id": "8802ef12-54c7-4611-9f91-6c701a027d2b",
   "metadata": {},
   "outputs": [
    {
     "data": {
      "text/plain": [
       "6"
      ]
     },
     "execution_count": 3,
     "metadata": {},
     "output_type": "execute_result"
    }
   ],
   "source": [
    "x^2"
   ]
  },
  {
   "cell_type": "code",
   "execution_count": 4,
   "id": "558f9803-19af-40cc-ae6a-9e458f6e8859",
   "metadata": {},
   "outputs": [],
   "source": [
    "x=10"
   ]
  },
  {
   "cell_type": "code",
   "execution_count": 5,
   "id": "e1d2c7eb-016d-422c-b1b3-5fe7edbf0ed7",
   "metadata": {},
   "outputs": [],
   "source": [
    "y=20"
   ]
  },
  {
   "cell_type": "code",
   "execution_count": 6,
   "id": "eb7136ee-dce4-4b29-bc95-4fa2903598e2",
   "metadata": {},
   "outputs": [
    {
     "data": {
      "text/plain": [
       "139750882755088"
      ]
     },
     "execution_count": 6,
     "metadata": {},
     "output_type": "execute_result"
    }
   ],
   "source": [
    "id(x)"
   ]
  },
  {
   "cell_type": "code",
   "execution_count": 7,
   "id": "4239992e-ad08-4807-96c6-74f9daede1cb",
   "metadata": {},
   "outputs": [
    {
     "data": {
      "text/plain": [
       "139750882755408"
      ]
     },
     "execution_count": 7,
     "metadata": {},
     "output_type": "execute_result"
    }
   ],
   "source": [
    "id(y)\n"
   ]
  },
  {
   "cell_type": "code",
   "execution_count": 10,
   "id": "a30a6f9b-e791-4308-8489-5e76c6429f29",
   "metadata": {},
   "outputs": [
    {
     "data": {
      "text/plain": [
       "False"
      ]
     },
     "execution_count": 10,
     "metadata": {},
     "output_type": "execute_result"
    }
   ],
   "source": [
    "x is y"
   ]
  },
  {
   "cell_type": "code",
   "execution_count": 14,
   "id": "d873f95d-a7c3-49cf-a7a5-98246b9437d9",
   "metadata": {},
   "outputs": [
    {
     "data": {
      "text/plain": [
       "True"
      ]
     },
     "execution_count": 14,
     "metadata": {},
     "output_type": "execute_result"
    }
   ],
   "source": [
    "\"y\" not in \"amruta\""
   ]
  },
  {
   "cell_type": "code",
   "execution_count": 1,
   "id": "7354e78f-2be2-4047-8302-c50fdf2aaaaf",
   "metadata": {},
   "outputs": [
    {
     "name": "stdin",
     "output_type": "stream",
     "text": [
      "enter the name amruta\n",
      "enter the age 21\n"
     ]
    },
    {
     "name": "stdout",
     "output_type": "stream",
     "text": [
      "name is amruta and year 2103\n"
     ]
    }
   ],
   "source": [
    "a=input(\"enter the name\")\n",
    "b=int (input(\"enter the age\"))\n",
    "c=(2024-b)+100\n",
    "print(\"name is\",a,\"and year\",c)"
   ]
  },
  {
   "cell_type": "code",
   "execution_count": 2,
   "id": "25344174-6cbc-427a-9093-976f7f3166cd",
   "metadata": {},
   "outputs": [
    {
     "name": "stdin",
     "output_type": "stream",
     "text": [
      "ente the first name amruta\n",
      "enter the last name jadhav\n"
     ]
    },
    {
     "name": "stdout",
     "output_type": "stream",
     "text": [
      "aturmavahdaj\n"
     ]
    }
   ],
   "source": [
    "a=input(\"ente the first name\")\n",
    "b=input(\"enter the last name\")\n",
    "c=a[::-1]+b[::-1]\n",
    "print(c)"
   ]
  },
  {
   "cell_type": "code",
   "execution_count": null,
   "id": "9e9118e9-db7b-46a9-9c2a-c43ac9271eac",
   "metadata": {},
   "outputs": [],
   "source": [
    "a=input(\"ente the first name\")\n",
    "b=input(\"enter the last name\")\n",
    "print(a[::-1]+\" \"+b[::-1])"
   ]
  },
  {
   "cell_type": "code",
   "execution_count": null,
   "id": "39fc8776-9d12-4473-b984-c28ac47d2489",
   "metadata": {},
   "outputs": [],
   "source": [
    "a=input(\"ente the first name\")\n",
    "b=input(\"enter the last name\")\n",
    "print(b[::-1]+\" \"+a[::-1])"
   ]
  },
  {
   "cell_type": "code",
   "execution_count": null,
   "id": "6628db7d-c080-49cb-a607-c2a3150b9a77",
   "metadata": {},
   "outputs": [],
   "source": []
  }
 ],
 "metadata": {
  "kernelspec": {
   "display_name": "Python 3 (ipykernel)",
   "language": "python",
   "name": "python3"
  },
  "language_info": {
   "codemirror_mode": {
    "name": "ipython",
    "version": 3
   },
   "file_extension": ".py",
   "mimetype": "text/x-python",
   "name": "python",
   "nbconvert_exporter": "python",
   "pygments_lexer": "ipython3",
   "version": "3.10.6"
  }
 },
 "nbformat": 4,
 "nbformat_minor": 5
}
