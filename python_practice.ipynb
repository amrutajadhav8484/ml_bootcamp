{
 "cells": [
  {
   "cell_type": "code",
   "execution_count": 1,
   "id": "1a42ffba-6ccd-45f0-8929-a1add0ba0afd",
   "metadata": {},
   "outputs": [
    {
     "name": "stdout",
     "output_type": "stream",
     "text": [
      "30\n"
     ]
    }
   ],
   "source": [
    "a=10\n",
    "b=20\n",
    "c=a+b\n",
    "print(c)"
   ]
  },
  {
   "cell_type": "code",
   "execution_count": 2,
   "id": "00df4d3e-5ef0-4eaf-a226-b4b5ad1aa88c",
   "metadata": {},
   "outputs": [
    {
     "name": "stdout",
     "output_type": "stream",
     "text": [
      "30\n"
     ]
    }
   ],
   "source": [
    "def addition():\n",
    "    a=10\n",
    "    b=20\n",
    "    c=a+b\n",
    "    print(c)\n",
    "addition()\n",
    "    "
   ]
  },
  {
   "cell_type": "code",
   "execution_count": 6,
   "id": "a0bd6fc3-d098-465a-a4f4-0011df81973f",
   "metadata": {},
   "outputs": [
    {
     "name": "stdout",
     "output_type": "stream",
     "text": [
      "20\n"
     ]
    }
   ],
   "source": [
    "x=20\n",
    "y=30\n",
    "c=min(x,y)\n",
    "print(c)"
   ]
  },
  {
   "cell_type": "code",
   "execution_count": 8,
   "id": "7dc552f6-b0d2-4963-8c0c-00faec9eebad",
   "metadata": {},
   "outputs": [
    {
     "name": "stdout",
     "output_type": "stream",
     "text": [
      "2030\n"
     ]
    }
   ],
   "source": [
    "print(x, end=\"\")\n",
    "print(y)"
   ]
  },
  {
   "cell_type": "code",
   "execution_count": 10,
   "id": "df915afa-08a7-410d-b9ca-d37f9959b8ee",
   "metadata": {},
   "outputs": [],
   "source": [
    "z=40"
   ]
  },
  {
   "cell_type": "code",
   "execution_count": 11,
   "id": "2cdd770d-2964-419f-8a70-a661f3922d06",
   "metadata": {},
   "outputs": [
    {
     "name": "stdout",
     "output_type": "stream",
     "text": [
      "2030\n",
      "40\n"
     ]
    }
   ],
   "source": [
    "print(x, end=\"\")\n",
    "print(y)\n",
    "print(z)"
   ]
  },
  {
   "cell_type": "code",
   "execution_count": 15,
   "id": "2475c1c0-f6e1-44a9-98a7-6651b7dfe6f7",
   "metadata": {},
   "outputs": [],
   "source": [
    "## \\b for backward space \n",
    "## \\t for the tab or 4 whitespaces"
   ]
  },
  {
   "cell_type": "code",
   "execution_count": 13,
   "id": "ef7982fb-75cf-4400-aec2-037c226320e0",
   "metadata": {},
   "outputs": [
    {
     "name": "stdout",
     "output_type": "stream",
     "text": [
      "20\t340\n"
     ]
    }
   ],
   "source": [
    "print(x, end=\"\\t\")\n",
    "print(y,end=\"\\b\")\n",
    "print(z)"
   ]
  },
  {
   "cell_type": "markdown",
   "id": "a22b7492-f7e4-4e33-96a4-3bab72f93438",
   "metadata": {},
   "source": [
    "# sep"
   ]
  },
  {
   "cell_type": "code",
   "execution_count": 14,
   "id": "16e040f4-5fe2-4f0c-b965-98c1e71b5696",
   "metadata": {},
   "outputs": [
    {
     "name": "stdout",
     "output_type": "stream",
     "text": [
      "20#30#40\n"
     ]
    }
   ],
   "source": [
    "print(x,y,z,sep=\"#\") # default value of \"sep\" is 1 whitespaces"
   ]
  },
  {
   "cell_type": "markdown",
   "id": "efd366d5-1f04-4c86-a677-9aac13a2e9f9",
   "metadata": {
    "tags": []
   },
   "source": [
    "# input function\n",
    "# it is responsible for taking input from user"
   ]
  },
  {
   "cell_type": "code",
   "execution_count": 16,
   "id": "b84e079b-816b-430c-8fa0-f2c2b6d627ea",
   "metadata": {},
   "outputs": [
    {
     "name": "stdin",
     "output_type": "stream",
     "text": [
      " 10\n"
     ]
    },
    {
     "data": {
      "text/plain": [
       "'10'"
      ]
     },
     "execution_count": 16,
     "metadata": {},
     "output_type": "execute_result"
    }
   ],
   "source": [
    "input()\n"
   ]
  },
  {
   "cell_type": "code",
   "execution_count": 17,
   "id": "b2559d83-352c-4175-9fe4-6d2fe763e20b",
   "metadata": {},
   "outputs": [
    {
     "name": "stdin",
     "output_type": "stream",
     "text": [
      "enter the any number 1003865\n"
     ]
    }
   ],
   "source": [
    "a=input(\"enter the any number\")"
   ]
  },
  {
   "cell_type": "code",
   "execution_count": 18,
   "id": "f1ba9250-9f8a-4a4c-8729-50fa1946c077",
   "metadata": {},
   "outputs": [
    {
     "name": "stdout",
     "output_type": "stream",
     "text": [
      "1003865\n"
     ]
    }
   ],
   "source": [
    "print(a)"
   ]
  },
  {
   "cell_type": "code",
   "execution_count": 19,
   "id": "ee0fde13-33c9-483a-a59a-e6e4e882a2ef",
   "metadata": {
    "tags": []
   },
   "outputs": [
    {
     "data": {
      "text/plain": [
       "str"
      ]
     },
     "execution_count": 19,
     "metadata": {},
     "output_type": "execute_result"
    }
   ],
   "source": [
    "type(a)"
   ]
  },
  {
   "cell_type": "markdown",
   "id": "9ff89024-c1f8-40c1-8a40-a931216896de",
   "metadata": {},
   "source": [
    "# ERRORS"
   ]
  },
  {
   "cell_type": "code",
   "execution_count": 20,
   "id": "5d75ac24-4864-47ac-aaa7-9a91fb4b021e",
   "metadata": {},
   "outputs": [],
   "source": [
    "a=100\n",
    "b=200"
   ]
  },
  {
   "cell_type": "code",
   "execution_count": 22,
   "id": "a0f4f678-a09e-4028-9008-e01de112cb20",
   "metadata": {},
   "outputs": [
    {
     "data": {
      "text/plain": [
       "300"
      ]
     },
     "execution_count": 22,
     "metadata": {},
     "output_type": "execute_result"
    }
   ],
   "source": [
    "a+b"
   ]
  },
  {
   "cell_type": "code",
   "execution_count": 23,
   "id": "02a4bbdf-165e-4cc7-87a5-a53432378769",
   "metadata": {},
   "outputs": [
    {
     "ename": "SyntaxError",
     "evalue": "invalid syntax (3757477467.py, line 1)",
     "output_type": "error",
     "traceback": [
      "\u001b[0;36m  Cell \u001b[0;32mIn [23], line 1\u001b[0;36m\u001b[0m\n\u001b[0;31m    a+\u001b[0m\n\u001b[0m      ^\u001b[0m\n\u001b[0;31mSyntaxError\u001b[0m\u001b[0;31m:\u001b[0m invalid syntax\n"
     ]
    }
   ],
   "source": [
    "a+"
   ]
  },
  {
   "cell_type": "code",
   "execution_count": 24,
   "id": "ca162de0-2045-4167-a35f-a84dbd2d5fde",
   "metadata": {},
   "outputs": [
    {
     "name": "stdout",
     "output_type": "stream",
     "text": [
      "0.5\n"
     ]
    }
   ],
   "source": [
    "a=10\n",
    "b=20\n",
    "c=a/b\n",
    "print(c)"
   ]
  },
  {
   "cell_type": "code",
   "execution_count": 25,
   "id": "cc7595aa-a424-4fa9-8c8d-0e5e9be8f545",
   "metadata": {},
   "outputs": [
    {
     "ename": "ZeroDivisionError",
     "evalue": "division by zero",
     "output_type": "error",
     "traceback": [
      "\u001b[0;31m---------------------------------------------------------------------------\u001b[0m",
      "\u001b[0;31mZeroDivisionError\u001b[0m                         Traceback (most recent call last)",
      "Cell \u001b[0;32mIn [25], line 3\u001b[0m\n\u001b[1;32m      1\u001b[0m a\u001b[38;5;241m=\u001b[39m\u001b[38;5;241m10\u001b[39m\n\u001b[1;32m      2\u001b[0m b\u001b[38;5;241m=\u001b[39m\u001b[38;5;241m0\u001b[39m\n\u001b[0;32m----> 3\u001b[0m c\u001b[38;5;241m=\u001b[39m\u001b[43ma\u001b[49m\u001b[38;5;241;43m/\u001b[39;49m\u001b[43mb\u001b[49m\n\u001b[1;32m      4\u001b[0m \u001b[38;5;28mprint\u001b[39m(c)\n",
      "\u001b[0;31mZeroDivisionError\u001b[0m: division by zero"
     ]
    }
   ],
   "source": [
    "a=10\n",
    "b=0\n",
    "c=a/b\n",
    "print(c)"
   ]
  },
  {
   "cell_type": "markdown",
   "id": "80e08e0a-4a10-4802-8d3a-7e5df76037aa",
   "metadata": {},
   "source": [
    "# IDENTIFIER"
   ]
  },
  {
   "cell_type": "code",
   "execution_count": 27,
   "id": "c300207f-4775-4381-a675-c982f959082d",
   "metadata": {},
   "outputs": [],
   "source": [
    "a=10"
   ]
  },
  {
   "cell_type": "code",
   "execution_count": 28,
   "id": "6f03d907-1eed-4d28-8047-969bc38fc6b8",
   "metadata": {},
   "outputs": [],
   "source": [
    "b=20"
   ]
  },
  {
   "cell_type": "code",
   "execution_count": 29,
   "id": "27d7e539-73ed-4462-986e-8f9f782bf9df",
   "metadata": {},
   "outputs": [
    {
     "ename": "SyntaxError",
     "evalue": "cannot assign to literal here. Maybe you meant '==' instead of '='? (91397640.py, line 1)",
     "output_type": "error",
     "traceback": [
      "\u001b[0;36m  Cell \u001b[0;32mIn [29], line 1\u001b[0;36m\u001b[0m\n\u001b[0;31m    3=100\u001b[0m\n\u001b[0m    ^\u001b[0m\n\u001b[0;31mSyntaxError\u001b[0m\u001b[0;31m:\u001b[0m cannot assign to literal here. Maybe you meant '==' instead of '='?\n"
     ]
    }
   ],
   "source": [
    "3=100"
   ]
  },
  {
   "cell_type": "code",
   "execution_count": 30,
   "id": "34d5217f-05dc-4c2c-91e3-27796aefceeb",
   "metadata": {},
   "outputs": [],
   "source": [
    "_=30"
   ]
  },
  {
   "cell_type": "code",
   "execution_count": 31,
   "id": "c39fa9e2-57b7-4967-9907-9daa2c0e6df7",
   "metadata": {},
   "outputs": [],
   "source": [
    "_3=50"
   ]
  },
  {
   "cell_type": "code",
   "execution_count": 32,
   "id": "4b144328-02c7-4e5b-96ed-829f329607e0",
   "metadata": {},
   "outputs": [
    {
     "name": "stdout",
     "output_type": "stream",
     "text": [
      "50\n"
     ]
    }
   ],
   "source": [
    "print(_3)"
   ]
  },
  {
   "cell_type": "code",
   "execution_count": 33,
   "id": "a014ee92-7007-4c68-bee5-3921b21ccfff",
   "metadata": {},
   "outputs": [
    {
     "ename": "SyntaxError",
     "evalue": "invalid decimal literal (315270000.py, line 1)",
     "output_type": "error",
     "traceback": [
      "\u001b[0;36m  Cell \u001b[0;32mIn [33], line 1\u001b[0;36m\u001b[0m\n\u001b[0;31m    3_=200\u001b[0m\n\u001b[0m     ^\u001b[0m\n\u001b[0;31mSyntaxError\u001b[0m\u001b[0;31m:\u001b[0m invalid decimal literal\n"
     ]
    }
   ],
   "source": [
    "3_=200"
   ]
  },
  {
   "cell_type": "code",
   "execution_count": 34,
   "id": "8841b0d6-fa43-486e-a4f8-20bcaf73a186",
   "metadata": {},
   "outputs": [],
   "source": [
    "a1=20"
   ]
  },
  {
   "cell_type": "code",
   "execution_count": 35,
   "id": "67a4679b-6fec-41c0-8d70-ac107e0d3593",
   "metadata": {},
   "outputs": [],
   "source": [
    "a_4=4000"
   ]
  },
  {
   "cell_type": "code",
   "execution_count": 36,
   "id": "70f9ae5d-b2cc-4155-aa05-ff9f12f8fdbf",
   "metadata": {},
   "outputs": [],
   "source": [
    "_a=2000"
   ]
  },
  {
   "cell_type": "code",
   "execution_count": null,
   "id": "ae80d7bc-666e-46c0-a427-ccfa702c79d5",
   "metadata": {},
   "outputs": [
    {
     "name": "stdout",
     "output_type": "stream",
     "text": [
      "\n",
      "Welcome to Python 3.10's help utility!\n",
      "\n",
      "If this is your first time using Python, you should definitely check out\n",
      "the tutorial on the internet at https://docs.python.org/3.10/tutorial/.\n",
      "\n",
      "Enter the name of any module, keyword, or topic to get help on writing\n",
      "Python programs and using Python modules.  To quit this help utility and\n",
      "return to the interpreter, just type \"quit\".\n",
      "\n",
      "To get a list of available modules, keywords, symbols, or topics, type\n",
      "\"modules\", \"keywords\", \"symbols\", or \"topics\".  Each module also comes\n",
      "with a one-line summary of what it does; to list the modules whose name\n",
      "or summary contain a given string such as \"spam\", type \"modules spam\".\n",
      "\n"
     ]
    }
   ],
   "source": [
    "help()"
   ]
  },
  {
   "cell_type": "code",
   "execution_count": null,
   "id": "50aba066-c48a-4799-a429-8eb7c4a0f558",
   "metadata": {},
   "outputs": [],
   "source": []
  }
 ],
 "metadata": {
  "kernelspec": {
   "display_name": "Python 3 (ipykernel)",
   "language": "python",
   "name": "python3"
  },
  "language_info": {
   "codemirror_mode": {
    "name": "ipython",
    "version": 3
   },
   "file_extension": ".py",
   "mimetype": "text/x-python",
   "name": "python",
   "nbconvert_exporter": "python",
   "pygments_lexer": "ipython3",
   "version": "3.10.6"
  }
 },
 "nbformat": 4,
 "nbformat_minor": 5
}
