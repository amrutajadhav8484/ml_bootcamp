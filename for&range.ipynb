{
 "cells": [
  {
   "cell_type": "code",
   "execution_count": 3,
   "id": "d664565e-9717-4651-9e09-f4f84270fea7",
   "metadata": {},
   "outputs": [
    {
     "name": "stdout",
     "output_type": "stream",
     "text": [
      "a\n",
      "m\n",
      "r\n",
      "u\n",
      "t\n",
      "a\n"
     ]
    }
   ],
   "source": [
    "word=\"amruta\"\n",
    "for na in word:\n",
    "    print(na)"
   ]
  },
  {
   "cell_type": "code",
   "execution_count": 4,
   "id": "1e288c90-382f-4672-8c89-3351f09704c7",
   "metadata": {},
   "outputs": [
    {
     "data": {
      "text/plain": [
       "list"
      ]
     },
     "execution_count": 4,
     "metadata": {},
     "output_type": "execute_result"
    }
   ],
   "source": [
    "x=[1,2,3,\"a\"]\n",
    "type(x)"
   ]
  },
  {
   "cell_type": "code",
   "execution_count": 6,
   "id": "2e924757-43a4-4726-8b75-5c8357d3956c",
   "metadata": {},
   "outputs": [
    {
     "name": "stdout",
     "output_type": "stream",
     "text": [
      "1\n",
      "2\n",
      "3\n",
      "a\n"
     ]
    }
   ],
   "source": [
    "for i in x:\n",
    "    print(i)"
   ]
  },
  {
   "cell_type": "code",
   "execution_count": 3,
   "id": "95ac8ed2-b196-4632-a6d5-23c3524f669c",
   "metadata": {},
   "outputs": [
    {
     "name": "stdout",
     "output_type": "stream",
     "text": [
      "grapes is not found in the list\n"
     ]
    }
   ],
   "source": [
    "fruits=[\"apple\",\"mango\",\"banana\",\"papaya\"]\n",
    "is_grapes=False\n",
    "for i in fruits:\n",
    "    if i==\"grapes\":\n",
    "        is_grapes=True\n",
    "        print(\"grapes is found in the list\")\n",
    "        break\n",
    "is_grapes=False\n",
    "print(\"grapes is not found in the list\")\n",
    "        \n",
    "        \n",
    "        "
   ]
  },
  {
   "cell_type": "code",
   "execution_count": 8,
   "id": "64b1a19a-8e18-4b92-af96-a2e3798e8eb1",
   "metadata": {},
   "outputs": [
    {
     "name": "stdout",
     "output_type": "stream",
     "text": [
      "grapes is found in the list\n"
     ]
    }
   ],
   "source": [
    "fruits=[\"apple\",\"mango\",\"banana\",\"papaya\",\"grapes\"]\n",
    "is_grapes=False\n",
    "for i in fruits:\n",
    "    if i==\"grapes\":\n",
    "        is_grapes=True\n",
    "        print(\"grapes is found in the list\")\n",
    "        break\n",
    "if is_grapes==False:\n",
    "    print(\"grapes is not found in the list\")\n",
    "        \n",
    "        \n",
    "        "
   ]
  },
  {
   "cell_type": "code",
   "execution_count": 13,
   "id": "21dc2bf9-65d1-45e1-bba4-e8dfadd54c7e",
   "metadata": {},
   "outputs": [
    {
     "name": "stdout",
     "output_type": "stream",
     "text": [
      "all elements are in the limit\n"
     ]
    }
   ],
   "source": [
    "my_list=[14,10,15,23,20]\n",
    "lower_bound=10\n",
    "upper_bound=30\n",
    "for i in my_list:\n",
    "    if i<lower_bound or i>upper_bound:\n",
    "        print(\"all elements are not in the limit\")\n",
    "        break\n",
    "else:\n",
    "    print(\"all elements are in the limit\")"
   ]
  },
  {
   "cell_type": "markdown",
   "id": "b7f9c986-cffe-48d5-bca7-1948453babf7",
   "metadata": {},
   "source": [
    "# range() function: \n",
    "used for give the specific range to the numbers,\n",
    "range() function is working toward the forward direction only\n",
    "range (start,stop,step)\n"
   ]
  },
  {
   "cell_type": "code",
   "execution_count": null,
   "id": "8ee13e83-6413-4b1c-a848-696f86291562",
   "metadata": {},
   "outputs": [],
   "source": [
    "c=range(1,10,2)\n",
    "d=list(c)"
   ]
  },
  {
   "cell_type": "code",
   "execution_count": 12,
   "id": "9a53e73d-5dd7-4106-80ec-4c114f522617",
   "metadata": {},
   "outputs": [
    {
     "name": "stdout",
     "output_type": "stream",
     "text": [
      "0\n",
      "1\n",
      "2\n",
      "3\n",
      "4\n",
      "5\n",
      "6\n",
      "7\n",
      "8\n",
      "9\n",
      "10\n",
      "11\n",
      "12\n",
      "13\n",
      "14\n"
     ]
    }
   ],
   "source": [
    "for i in d:\n",
    "    print(i)"
   ]
  },
  {
   "cell_type": "code",
   "execution_count": 15,
   "id": "a1044e84-b2a5-4dd5-8a57-2160f054a69e",
   "metadata": {},
   "outputs": [
    {
     "name": "stdout",
     "output_type": "stream",
     "text": [
      "1\n",
      "3\n",
      "5\n",
      "7\n",
      "9\n"
     ]
    }
   ],
   "source": [
    "for i in c:\n",
    "    print(i)"
   ]
  },
  {
   "cell_type": "code",
   "execution_count": 2,
   "id": "1c267d15-a199-4a77-8945-13d03f45ad68",
   "metadata": {},
   "outputs": [],
   "source": [
    "a=range(10,1)\n"
   ]
  },
  {
   "cell_type": "code",
   "execution_count": 3,
   "id": "fef45cbb-2fa9-4cd4-b401-03203a2e4af2",
   "metadata": {},
   "outputs": [
    {
     "data": {
      "text/plain": [
       "[]"
      ]
     },
     "execution_count": 3,
     "metadata": {},
     "output_type": "execute_result"
    }
   ],
   "source": [
    "list(a)"
   ]
  },
  {
   "cell_type": "code",
   "execution_count": 4,
   "id": "9e9c926e-ff8c-4354-9ff9-29ac6d124e5f",
   "metadata": {},
   "outputs": [
    {
     "data": {
      "text/plain": [
       "[-10, -9, -8, -7, -6, -5, -4, -3, -2, -1, 0, 1, 2]"
      ]
     },
     "execution_count": 4,
     "metadata": {},
     "output_type": "execute_result"
    }
   ],
   "source": [
    "a=range(-10,3)\n",
    "list(a)"
   ]
  },
  {
   "cell_type": "code",
   "execution_count": 5,
   "id": "38dc4141-042e-40db-8f29-6002ace6bb0b",
   "metadata": {},
   "outputs": [
    {
     "data": {
      "text/plain": [
       "[7, 5, 3]"
      ]
     },
     "execution_count": 5,
     "metadata": {},
     "output_type": "execute_result"
    }
   ],
   "source": [
    "a=range(7,1,-2)\n",
    "list(a)"
   ]
  },
  {
   "cell_type": "code",
   "execution_count": 6,
   "id": "0d323d69-613f-4600-a693-855c83f18137",
   "metadata": {},
   "outputs": [
    {
     "data": {
      "text/plain": [
       "[5]"
      ]
     },
     "execution_count": 6,
     "metadata": {},
     "output_type": "execute_result"
    }
   ],
   "source": [
    "b=range(5,10,10)\n",
    "list(b)"
   ]
  },
  {
   "cell_type": "code",
   "execution_count": 8,
   "id": "06e9d457-60c3-478c-a4c1-cb3b3fb20205",
   "metadata": {},
   "outputs": [
    {
     "data": {
      "text/plain": [
       "[10, 8, 6, 4, 2]"
      ]
     },
     "execution_count": 8,
     "metadata": {},
     "output_type": "execute_result"
    }
   ],
   "source": [
    "a=range(10,1,-2)\n",
    "list(a)"
   ]
  },
  {
   "cell_type": "code",
   "execution_count": 1,
   "id": "8edd85e4-e109-4041-9c86-cdf00d18cc70",
   "metadata": {},
   "outputs": [
    {
     "name": "stdout",
     "output_type": "stream",
     "text": [
      "1\n",
      "2\n",
      "3\n",
      "4\n",
      "5\n",
      "6\n",
      "7\n",
      "8\n",
      "9\n",
      "10\n"
     ]
    }
   ],
   "source": [
    "for i in range(1,11):\n",
    "    print(i)"
   ]
  },
  {
   "cell_type": "code",
   "execution_count": 4,
   "id": "40ac08a6-1f8d-4ce7-866e-22bd4e113938",
   "metadata": {},
   "outputs": [
    {
     "name": "stdin",
     "output_type": "stream",
     "text": [
      "enter the number 5\n"
     ]
    },
    {
     "name": "stdout",
     "output_type": "stream",
     "text": [
      "sum of the 1 to 5 is 15\n"
     ]
    }
   ],
   "source": [
    "num=int(input(\"enter the number\"))\n",
    "total=0\n",
    "for i in range(1,num+1):\n",
    "    total=total+i\n",
    "print(\"sum of the 1 to {} is {}\".format(num,total))\n"
   ]
  },
  {
   "cell_type": "code",
   "execution_count": 5,
   "id": "0d9b4ce5-b735-451e-82ca-334d031fc84f",
   "metadata": {},
   "outputs": [
    {
     "name": "stdout",
     "output_type": "stream",
     "text": [
      "100\n",
      "90\n",
      "80\n",
      "70\n",
      "60\n",
      "50\n",
      "40\n",
      "30\n",
      "20\n",
      "10\n"
     ]
    }
   ],
   "source": [
    "for i in range(100,0,-10):\n",
    "    print(i)"
   ]
  },
  {
   "cell_type": "code",
   "execution_count": 6,
   "id": "84d2c063-2f70-42f8-b829-b23730f4c9a7",
   "metadata": {},
   "outputs": [
    {
     "name": "stdout",
     "output_type": "stream",
     "text": [
      "0\n",
      "1\n",
      "2\n",
      "3\n",
      "4\n",
      "5\n",
      "6\n",
      "7\n",
      "8\n",
      "9\n",
      "loop terminated\n"
     ]
    }
   ],
   "source": [
    "for i in range(10):\n",
    "    print(i)\n",
    "else:\n",
    "    print(\"loop terminated\")"
   ]
  },
  {
   "cell_type": "code",
   "execution_count": 8,
   "id": "dd995544-7d4f-4b27-bbb1-3d01bed1edc6",
   "metadata": {},
   "outputs": [
    {
     "name": "stdout",
     "output_type": "stream",
     "text": [
      "0 number is even\n",
      "1 number is odd\n",
      "2 number is even\n",
      "3 number is odd\n",
      "4 number is even\n",
      "5 number is odd\n",
      "6 number is even\n",
      "7 number is odd\n",
      "8 number is even\n",
      "9 number is odd\n"
     ]
    }
   ],
   "source": [
    "for i in range(10):\n",
    "    if i%2==0:\n",
    "        print(\"{} number is even\".format(i))\n",
    "    else:\n",
    "        print(\"{} number is odd\".format(i))\n",
    "        "
   ]
  },
  {
   "cell_type": "code",
   "execution_count": 9,
   "id": "5fc4e70a-2f57-4ac6-8449-8315a5e70521",
   "metadata": {},
   "outputs": [
    {
     "name": "stdout",
     "output_type": "stream",
     "text": [
      "1\n",
      "a\n",
      "b\n",
      "c\n",
      "2\n",
      "a\n",
      "b\n",
      "c\n",
      "3\n",
      "a\n",
      "b\n",
      "c\n"
     ]
    }
   ],
   "source": [
    "numbers=[1,2,3]\n",
    "alpha=[\"a\",\"b\",\"c\"]\n",
    "for i in numbers:\n",
    "    print(i)\n",
    "    for j in alpha:\n",
    "        print(j)"
   ]
  },
  {
   "cell_type": "code",
   "execution_count": 6,
   "id": "f92beb27-f7a0-4162-a343-624a71cc51c4",
   "metadata": {},
   "outputs": [
    {
     "name": "stdout",
     "output_type": "stream",
     "text": [
      "* * * \n",
      "* * * \n",
      "* * * \n"
     ]
    }
   ],
   "source": [
    "for i in range(3):\n",
    "   \n",
    "    for j in range(3):\n",
    "         print(\"*\",end=\" \")\n",
    "    print()\n",
    "   "
   ]
  },
  {
   "cell_type": "code",
   "execution_count": 8,
   "id": "feddd557-596a-47ad-9786-4d4a9df9e5de",
   "metadata": {},
   "outputs": [
    {
     "name": "stdout",
     "output_type": "stream",
     "text": [
      " *  *  * \n",
      " *  *  * \n",
      " *  *  * \n"
     ]
    }
   ],
   "source": [
    "for i in range(1,4):\n",
    "    print(\" * \"*3)\n",
    "\n"
   ]
  },
  {
   "cell_type": "code",
   "execution_count": 10,
   "id": "6d00ec7d-f6ce-4bd5-8c04-cbb1bd3c605a",
   "metadata": {},
   "outputs": [
    {
     "name": "stdout",
     "output_type": "stream",
     "text": [
      " A  A  A \n",
      " A  A  A \n",
      " A  A  A \n"
     ]
    }
   ],
   "source": [
    "for i in range(3):\n",
    "    for j in range(3):\n",
    "        print(\" A \",end=\"\")\n",
    "    print()"
   ]
  },
  {
   "cell_type": "code",
   "execution_count": 12,
   "id": "af6f383f-3ed4-4cab-acc8-2099ce23d8fe",
   "metadata": {},
   "outputs": [
    {
     "name": "stdout",
     "output_type": "stream",
     "text": [
      " * \n",
      " *  * \n",
      " *  *  * \n",
      " *  *  *  * \n"
     ]
    }
   ],
   "source": [
    "for i in range(4):\n",
    "    for j in range(i+1):\n",
    "        print(\" * \",end=\"\")\n",
    "    print()"
   ]
  },
  {
   "cell_type": "code",
   "execution_count": 23,
   "id": "2fedead9-faa5-4edf-951a-4b0c750006b8",
   "metadata": {},
   "outputs": [
    {
     "name": "stdin",
     "output_type": "stream",
     "text": [
      "enter the any number 7\n"
     ]
    },
    {
     "name": "stdout",
     "output_type": "stream",
     "text": [
      "1\n",
      "2\n",
      "3\n",
      "4\n",
      "5\n",
      "6\n",
      "6\n"
     ]
    }
   ],
   "source": [
    "num=int(input(\"enter the any number\"))\n",
    "for i in range(1,num):\n",
    "    print(i)\n",
    "    if num==0:\n",
    "        break\n",
    "else:\n",
    "    print(i)\n",
    "   "
   ]
  },
  {
   "cell_type": "code",
   "execution_count": 30,
   "id": "b5586da5-742b-4d9e-a00d-c3ca0ea6f185",
   "metadata": {},
   "outputs": [
    {
     "name": "stdin",
     "output_type": "stream",
     "text": [
      "entered number 5\n"
     ]
    },
    {
     "name": "stdout",
     "output_type": "stream",
     "text": [
      "1\n",
      "2\n",
      "3\n",
      "4\n",
      "5\n"
     ]
    },
    {
     "name": "stdin",
     "output_type": "stream",
     "text": [
      "enter the number 0\n"
     ]
    },
    {
     "name": "stdout",
     "output_type": "stream",
     "text": [
      "hi\n"
     ]
    }
   ],
   "source": [
    "#in this program if user entered '0' then while loop is considered as false so while nothing do\n",
    "num=int(input(\"entered number\"))\n",
    "while(num):\n",
    "    for i in range(1,num+1):\n",
    "        print(i)\n",
    "    num=int(input(\"enter the number\"))\n"
   ]
  },
  {
   "cell_type": "code",
   "execution_count": null,
   "id": "00b7df89-f270-4cb7-99e4-40ff21d6fe80",
   "metadata": {},
   "outputs": [
    {
     "name": "stdin",
     "output_type": "stream",
     "text": [
      "enter the number 4\n"
     ]
    },
    {
     "name": "stdout",
     "output_type": "stream",
     "text": [
      "1\n",
      "2\n",
      "3\n",
      "4\n"
     ]
    },
    {
     "name": "stdin",
     "output_type": "stream",
     "text": [
      "enter the number 8\n"
     ]
    },
    {
     "name": "stdout",
     "output_type": "stream",
     "text": [
      "1\n",
      "2\n",
      "3\n",
      "4\n",
      "5\n",
      "6\n",
      "7\n",
      "8\n"
     ]
    }
   ],
   "source": [
    "d=1\n",
    "while(d!=0):\n",
    "    d=int(input(\"enter the number\"))\n",
    "    for i in range(1,d+1):\n",
    "        print(i)\n",
    "    "
   ]
  },
  {
   "cell_type": "code",
   "execution_count": null,
   "id": "63f1fe1f-2240-42bf-8874-312c0d58c4ba",
   "metadata": {},
   "outputs": [],
   "source": []
  }
 ],
 "metadata": {
  "kernelspec": {
   "display_name": "Python 3 (ipykernel)",
   "language": "python",
   "name": "python3"
  },
  "language_info": {
   "codemirror_mode": {
    "name": "ipython",
    "version": 3
   },
   "file_extension": ".py",
   "mimetype": "text/x-python",
   "name": "python",
   "nbconvert_exporter": "python",
   "pygments_lexer": "ipython3",
   "version": "3.10.6"
  }
 },
 "nbformat": 4,
 "nbformat_minor": 5
}
