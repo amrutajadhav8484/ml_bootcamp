{
 "cells": [
  {
   "cell_type": "code",
   "execution_count": 1,
   "id": "3e142b45-fff5-418b-b19b-b4d370761019",
   "metadata": {},
   "outputs": [
    {
     "data": {
      "text/plain": [
       "'amrutajadhav'"
      ]
     },
     "execution_count": 1,
     "metadata": {},
     "output_type": "execute_result"
    }
   ],
   "source": [
    "a=\"amruta\"\n",
    "b=\"jadhav\"\n",
    "a+b\n"
   ]
  },
  {
   "cell_type": "code",
   "execution_count": 3,
   "id": "909d16fe-8a0b-4cb3-b79e-5edd9893e3fe",
   "metadata": {},
   "outputs": [
    {
     "data": {
      "text/plain": [
       "'amruta jadhav'"
      ]
     },
     "execution_count": 3,
     "metadata": {},
     "output_type": "execute_result"
    }
   ],
   "source": [
    "a+\" \"+b"
   ]
  },
  {
   "cell_type": "code",
   "execution_count": 6,
   "id": "bc9968e2-26cd-4b8d-96a0-fdb0c4400e71",
   "metadata": {},
   "outputs": [],
   "source": [
    "a=\"shubham\"\n",
    "#0123456"
   ]
  },
  {
   "cell_type": "code",
   "execution_count": 7,
   "id": "60f03da7-d94a-47e2-bab1-b9a8cd35e81d",
   "metadata": {},
   "outputs": [
    {
     "data": {
      "text/plain": [
       "6"
      ]
     },
     "execution_count": 7,
     "metadata": {},
     "output_type": "execute_result"
    }
   ],
   "source": [
    "len(a)-1 # last index"
   ]
  },
  {
   "cell_type": "code",
   "execution_count": 8,
   "id": "7be93b97-feb8-4bc1-954b-dbde9568c9b4",
   "metadata": {},
   "outputs": [
    {
     "data": {
      "text/plain": [
       "'ubh'"
      ]
     },
     "execution_count": 8,
     "metadata": {},
     "output_type": "execute_result"
    }
   ],
   "source": [
    "a[2:5]"
   ]
  },
  {
   "cell_type": "code",
   "execution_count": 9,
   "id": "aeff9a45-4711-46c7-9b47-ae03486d21f8",
   "metadata": {},
   "outputs": [
    {
     "data": {
      "text/plain": [
       "'ham'"
      ]
     },
     "execution_count": 9,
     "metadata": {},
     "output_type": "execute_result"
    }
   ],
   "source": [
    "a[4:]"
   ]
  },
  {
   "cell_type": "code",
   "execution_count": 10,
   "id": "888e2316-43c4-4d77-b6fa-90bbb2840d68",
   "metadata": {},
   "outputs": [
    {
     "data": {
      "text/plain": [
       "'ham'"
      ]
     },
     "execution_count": 10,
     "metadata": {},
     "output_type": "execute_result"
    }
   ],
   "source": [
    "a[4:7]"
   ]
  },
  {
   "cell_type": "code",
   "execution_count": 11,
   "id": "7e89b7c4-3146-4d31-8796-9b8797ba29fc",
   "metadata": {},
   "outputs": [
    {
     "data": {
      "text/plain": [
       "'shubham'"
      ]
     },
     "execution_count": 11,
     "metadata": {},
     "output_type": "execute_result"
    }
   ],
   "source": [
    "a[:]"
   ]
  },
  {
   "cell_type": "code",
   "execution_count": 12,
   "id": "6f8bca24-1005-4541-ad3e-e273b83e1daf",
   "metadata": {},
   "outputs": [
    {
     "data": {
      "text/plain": [
       "'shubha'"
      ]
     },
     "execution_count": 12,
     "metadata": {},
     "output_type": "execute_result"
    }
   ],
   "source": [
    "a[:-1]"
   ]
  },
  {
   "cell_type": "code",
   "execution_count": 13,
   "id": "c6954f27-c5a9-437a-aa00-d71a17479bc9",
   "metadata": {},
   "outputs": [
    {
     "data": {
      "text/plain": [
       "'m'"
      ]
     },
     "execution_count": 13,
     "metadata": {},
     "output_type": "execute_result"
    }
   ],
   "source": [
    "a[-1:]"
   ]
  },
  {
   "cell_type": "code",
   "execution_count": 14,
   "id": "f77ed3a9-e6bb-426b-a70d-240c672d0f65",
   "metadata": {},
   "outputs": [
    {
     "data": {
      "text/plain": [
       "''"
      ]
     },
     "execution_count": 14,
     "metadata": {},
     "output_type": "execute_result"
    }
   ],
   "source": [
    "a[2:2]"
   ]
  },
  {
   "cell_type": "code",
   "execution_count": 15,
   "id": "f5da17a7-3dcf-4a97-aeb4-4c5da3d37c18",
   "metadata": {},
   "outputs": [
    {
     "data": {
      "text/plain": [
       "'sh'"
      ]
     },
     "execution_count": 15,
     "metadata": {},
     "output_type": "execute_result"
    }
   ],
   "source": [
    "a[:2]"
   ]
  },
  {
   "cell_type": "code",
   "execution_count": 17,
   "id": "6fbb86e9-9331-43ef-98f5-f497dd30468c",
   "metadata": {},
   "outputs": [
    {
     "data": {
      "text/plain": [
       "'bha'"
      ]
     },
     "execution_count": 17,
     "metadata": {},
     "output_type": "execute_result"
    }
   ],
   "source": [
    "a[-4:-1]"
   ]
  },
  {
   "cell_type": "code",
   "execution_count": 18,
   "id": "12303ef3-2107-4957-8464-1c0b7bc7f2f6",
   "metadata": {},
   "outputs": [
    {
     "data": {
      "text/plain": [
       "''"
      ]
     },
     "execution_count": 18,
     "metadata": {},
     "output_type": "execute_result"
    }
   ],
   "source": [
    "a[-1:-4]"
   ]
  },
  {
   "cell_type": "code",
   "execution_count": 1,
   "id": "28874949-a8a9-4fc3-bd0c-474cc82ea74a",
   "metadata": {},
   "outputs": [],
   "source": [
    "a=\"amrutajadhav\""
   ]
  },
  {
   "cell_type": "code",
   "execution_count": 2,
   "id": "8cf10ce2-62c1-4bb8-a72d-0b0ad89ba85e",
   "metadata": {},
   "outputs": [
    {
     "data": {
      "text/plain": [
       "11"
      ]
     },
     "execution_count": 2,
     "metadata": {},
     "output_type": "execute_result"
    }
   ],
   "source": [
    "len(a)-1"
   ]
  },
  {
   "cell_type": "code",
   "execution_count": 3,
   "id": "381c40f4-0c18-43dd-bafd-678b7ed1f651",
   "metadata": {},
   "outputs": [
    {
     "data": {
      "text/plain": [
       "'artjda'"
      ]
     },
     "execution_count": 3,
     "metadata": {},
     "output_type": "execute_result"
    }
   ],
   "source": [
    "a[0:11:2] # step value"
   ]
  },
  {
   "cell_type": "code",
   "execution_count": 5,
   "id": "413f8910-fc1e-4819-b997-4aeca4c81889",
   "metadata": {},
   "outputs": [
    {
     "data": {
      "text/plain": [
       "'vah'"
      ]
     },
     "execution_count": 5,
     "metadata": {},
     "output_type": "execute_result"
    }
   ],
   "source": [
    "a[-1:-4:-1]"
   ]
  },
  {
   "cell_type": "code",
   "execution_count": 6,
   "id": "665f5c53-f7a1-48eb-9573-8bfb9a956b4b",
   "metadata": {},
   "outputs": [
    {
     "data": {
      "text/plain": [
       "'vahdajaturma'"
      ]
     },
     "execution_count": 6,
     "metadata": {},
     "output_type": "execute_result"
    }
   ],
   "source": [
    "a[::-1]"
   ]
  },
  {
   "cell_type": "code",
   "execution_count": 7,
   "id": "12bf3af2-9544-46ed-8545-b33b9cfcce72",
   "metadata": {},
   "outputs": [],
   "source": [
    "a= \"we are here for learning data science\" "
   ]
  },
  {
   "cell_type": "code",
   "execution_count": 7,
   "id": "8e9b5acf-622f-4f5f-9017-069ff0a0690e",
   "metadata": {},
   "outputs": [],
   "source": [
    "# learning data science\"   reverse string"
   ]
  },
  {
   "cell_type": "code",
   "execution_count": 20,
   "id": "3a4c531f-af7a-4b4b-81f0-db71921c4f20",
   "metadata": {},
   "outputs": [
    {
     "data": {
      "text/plain": [
       "' learning data scienc'"
      ]
     },
     "execution_count": 20,
     "metadata": {},
     "output_type": "execute_result"
    }
   ],
   "source": [
    "a[-22:-1:1]"
   ]
  },
  {
   "cell_type": "code",
   "execution_count": null,
   "id": "61e859f9-d50f-4be4-8434-dec267457dc0",
   "metadata": {},
   "outputs": [],
   "source": []
  },
  {
   "cell_type": "code",
   "execution_count": null,
   "id": "2b8a52a2-ae05-407f-a97c-ca220ef58440",
   "metadata": {},
   "outputs": [],
   "source": []
  }
 ],
 "metadata": {
  "kernelspec": {
   "display_name": "Python 3 (ipykernel)",
   "language": "python",
   "name": "python3"
  },
  "language_info": {
   "codemirror_mode": {
    "name": "ipython",
    "version": 3
   },
   "file_extension": ".py",
   "mimetype": "text/x-python",
   "name": "python",
   "nbconvert_exporter": "python",
   "pygments_lexer": "ipython3",
   "version": "3.10.6"
  }
 },
 "nbformat": 4,
 "nbformat_minor": 5
}
