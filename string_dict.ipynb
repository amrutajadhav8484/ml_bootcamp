{
  "nbformat": 4,
  "nbformat_minor": 0,
  "metadata": {
    "colab": {
      "provenance": []
    },
    "kernelspec": {
      "name": "python3",
      "display_name": "Python 3"
    },
    "language_info": {
      "name": "python"
    }
  },
  "cells": [
    {
      "cell_type": "code",
      "execution_count": null,
      "metadata": {
        "id": "Yl958Te8T698"
      },
      "outputs": [],
      "source": [
        "a=''' amruta'''"
      ]
    },
    {
      "cell_type": "code",
      "source": [
        "a"
      ],
      "metadata": {
        "colab": {
          "base_uri": "https://localhost:8080/",
          "height": 35
        },
        "id": "AE4pE0eHU3Mx",
        "outputId": "2918f1b5-58b3-4486-cf3b-d44a29785a68"
      },
      "execution_count": null,
      "outputs": [
        {
          "output_type": "execute_result",
          "data": {
            "text/plain": [
              "' amruta'"
            ],
            "application/vnd.google.colaboratory.intrinsic+json": {
              "type": "string"
            }
          },
          "metadata": {},
          "execution_count": 2
        }
      ]
    },
    {
      "cell_type": "code",
      "source": [
        "a=\"amruta\""
      ],
      "metadata": {
        "id": "NaaSN2udVDJB"
      },
      "execution_count": null,
      "outputs": []
    },
    {
      "cell_type": "code",
      "source": [
        "a"
      ],
      "metadata": {
        "colab": {
          "base_uri": "https://localhost:8080/",
          "height": 35
        },
        "id": "T3A7CCujVISV",
        "outputId": "bd3145bc-3b9c-4511-86df-0f9b273ce793"
      },
      "execution_count": null,
      "outputs": [
        {
          "output_type": "execute_result",
          "data": {
            "text/plain": [
              "'amruta'"
            ],
            "application/vnd.google.colaboratory.intrinsic+json": {
              "type": "string"
            }
          },
          "metadata": {},
          "execution_count": 4
        }
      ]
    },
    {
      "cell_type": "code",
      "source": [
        "a='amruta'"
      ],
      "metadata": {
        "id": "QOzzfxzEVJfx"
      },
      "execution_count": null,
      "outputs": []
    },
    {
      "cell_type": "code",
      "source": [
        "a"
      ],
      "metadata": {
        "colab": {
          "base_uri": "https://localhost:8080/",
          "height": 35
        },
        "id": "yTzYWMl9VNva",
        "outputId": "bd6952ad-5152-4cef-a88d-f7c20595b8b0"
      },
      "execution_count": null,
      "outputs": [
        {
          "output_type": "execute_result",
          "data": {
            "text/plain": [
              "'amruta'"
            ],
            "application/vnd.google.colaboratory.intrinsic+json": {
              "type": "string"
            }
          },
          "metadata": {},
          "execution_count": 6
        }
      ]
    },
    {
      "cell_type": "code",
      "source": [
        "p=''' amruta\n",
        "jadhav\n",
        "rohit\n",
        "jadhav'''"
      ],
      "metadata": {
        "id": "bBMqpEK9VO1S"
      },
      "execution_count": null,
      "outputs": []
    },
    {
      "cell_type": "code",
      "source": [
        "p"
      ],
      "metadata": {
        "colab": {
          "base_uri": "https://localhost:8080/",
          "height": 35
        },
        "id": "dv358YG9VWHA",
        "outputId": "e3c21ad1-3368-4b79-b655-8ae27abd9337"
      },
      "execution_count": null,
      "outputs": [
        {
          "output_type": "execute_result",
          "data": {
            "text/plain": [
              "' amruta\\njadhav\\nrohit\\njadhav'"
            ],
            "application/vnd.google.colaboratory.intrinsic+json": {
              "type": "string"
            }
          },
          "metadata": {},
          "execution_count": 9
        }
      ]
    },
    {
      "cell_type": "code",
      "source": [
        "print(p)"
      ],
      "metadata": {
        "colab": {
          "base_uri": "https://localhost:8080/"
        },
        "id": "BVVrV4dEVpC4",
        "outputId": "438daeaf-db3c-4ffd-808f-8a0ae5e5fd54"
      },
      "execution_count": null,
      "outputs": [
        {
          "output_type": "stream",
          "name": "stdout",
          "text": [
            " amruta\n",
            "jadhav\n",
            "rohit\n",
            "jadhav\n"
          ]
        }
      ]
    },
    {
      "cell_type": "code",
      "source": [
        "k=\"i love coding\""
      ],
      "metadata": {
        "id": "GGrLtwJ_Vs7i"
      },
      "execution_count": null,
      "outputs": []
    },
    {
      "cell_type": "code",
      "source": [
        "k[2:6]"
      ],
      "metadata": {
        "colab": {
          "base_uri": "https://localhost:8080/",
          "height": 35
        },
        "id": "zzKy-0_oYGOn",
        "outputId": "ba2d828e-530c-4f19-aac1-08fa5f83135c"
      },
      "execution_count": null,
      "outputs": [
        {
          "output_type": "execute_result",
          "data": {
            "text/plain": [
              "'love'"
            ],
            "application/vnd.google.colaboratory.intrinsic+json": {
              "type": "string"
            }
          },
          "metadata": {},
          "execution_count": 13
        }
      ]
    },
    {
      "cell_type": "code",
      "source": [
        "k[::-1]"
      ],
      "metadata": {
        "colab": {
          "base_uri": "https://localhost:8080/",
          "height": 35
        },
        "id": "ImVqzj_aYK2d",
        "outputId": "69cda1aa-563f-4da7-d65c-3c1659e0118a"
      },
      "execution_count": null,
      "outputs": [
        {
          "output_type": "execute_result",
          "data": {
            "text/plain": [
              "'gnidoc evol i'"
            ],
            "application/vnd.google.colaboratory.intrinsic+json": {
              "type": "string"
            }
          },
          "metadata": {},
          "execution_count": 14
        }
      ]
    },
    {
      "cell_type": "code",
      "source": [
        "name=input(\"enter the name\")\n",
        "for i in range (len(name)-1,-1,-1):\n",
        "  print(name[i])\n",
        "\n"
      ],
      "metadata": {
        "colab": {
          "base_uri": "https://localhost:8080/"
        },
        "id": "evhy-TruYSFz",
        "outputId": "f167381f-f5fc-4a39-9b75-9df5d6dd6b10"
      },
      "execution_count": null,
      "outputs": [
        {
          "output_type": "stream",
          "name": "stdout",
          "text": [
            "enter the nameamruta\n",
            "a\n",
            "t\n",
            "u\n",
            "r\n",
            "m\n",
            "a\n"
          ]
        }
      ]
    },
    {
      "cell_type": "code",
      "source": [
        "list(range(10,1,-1))"
      ],
      "metadata": {
        "colab": {
          "base_uri": "https://localhost:8080/"
        },
        "id": "mptH_YWvYio8",
        "outputId": "7e3f29c4-029e-4f5b-b8f7-97e3ac71b416"
      },
      "execution_count": null,
      "outputs": [
        {
          "output_type": "execute_result",
          "data": {
            "text/plain": [
              "[10, 9, 8, 7, 6, 5, 4, 3, 2]"
            ]
          },
          "metadata": {},
          "execution_count": 23
        }
      ]
    },
    {
      "cell_type": "code",
      "source": [],
      "metadata": {
        "id": "_Cdm_4PybRe1"
      },
      "execution_count": null,
      "outputs": []
    },
    {
      "cell_type": "markdown",
      "source": [
        "**concatination**"
      ],
      "metadata": {
        "id": "94PgqnQjbbgZ"
      }
    },
    {
      "cell_type": "code",
      "source": [
        "\"Amruta\"+ \"  \"+\"Jadhav\""
      ],
      "metadata": {
        "colab": {
          "base_uri": "https://localhost:8080/",
          "height": 35
        },
        "id": "mBgY_YeObg1t",
        "outputId": "072e3882-75f7-4772-d87f-45cf6e6fa076"
      },
      "execution_count": null,
      "outputs": [
        {
          "output_type": "execute_result",
          "data": {
            "text/plain": [
              "'Amruta  Jadhav'"
            ],
            "application/vnd.google.colaboratory.intrinsic+json": {
              "type": "string"
            }
          },
          "metadata": {},
          "execution_count": 26
        }
      ]
    },
    {
      "cell_type": "code",
      "source": [
        "\"bye\"*2"
      ],
      "metadata": {
        "colab": {
          "base_uri": "https://localhost:8080/",
          "height": 35
        },
        "id": "hBNHknFNbqVd",
        "outputId": "b08b9292-774f-43b0-8746-18f6b9e10feb"
      },
      "execution_count": null,
      "outputs": [
        {
          "output_type": "execute_result",
          "data": {
            "text/plain": [
              "'byebye'"
            ],
            "application/vnd.google.colaboratory.intrinsic+json": {
              "type": "string"
            }
          },
          "metadata": {},
          "execution_count": 27
        }
      ]
    },
    {
      "cell_type": "code",
      "source": [
        "\"ba\"+\"na\"*2"
      ],
      "metadata": {
        "colab": {
          "base_uri": "https://localhost:8080/",
          "height": 35
        },
        "id": "qlsBU2sEb6Bd",
        "outputId": "546e8b71-c927-4200-a65f-3fc87546e098"
      },
      "execution_count": null,
      "outputs": [
        {
          "output_type": "execute_result",
          "data": {
            "text/plain": [
              "'banana'"
            ],
            "application/vnd.google.colaboratory.intrinsic+json": {
              "type": "string"
            }
          },
          "metadata": {},
          "execution_count": 28
        }
      ]
    },
    {
      "cell_type": "code",
      "source": [
        "mystring=\"i love india\""
      ],
      "metadata": {
        "id": "x-3fCJtBb91A"
      },
      "execution_count": null,
      "outputs": []
    },
    {
      "cell_type": "code",
      "source": [
        "\"love \" in mystring"
      ],
      "metadata": {
        "colab": {
          "base_uri": "https://localhost:8080/"
        },
        "id": "Gswi6uOacOEh",
        "outputId": "8c531e47-13d1-4c0f-e520-14832cbe6a46"
      },
      "execution_count": null,
      "outputs": [
        {
          "output_type": "execute_result",
          "data": {
            "text/plain": [
              "True"
            ]
          },
          "metadata": {},
          "execution_count": 30
        }
      ]
    },
    {
      "cell_type": "code",
      "source": [
        "\"u\" in mystring"
      ],
      "metadata": {
        "colab": {
          "base_uri": "https://localhost:8080/"
        },
        "id": "_Vw7AuQxcRwz",
        "outputId": "37785491-45c4-4106-d194-5ba7c54a8c93"
      },
      "execution_count": null,
      "outputs": [
        {
          "output_type": "execute_result",
          "data": {
            "text/plain": [
              "False"
            ]
          },
          "metadata": {},
          "execution_count": 31
        }
      ]
    },
    {
      "cell_type": "code",
      "source": [
        "\"i\" not in mystring"
      ],
      "metadata": {
        "colab": {
          "base_uri": "https://localhost:8080/"
        },
        "id": "xSCQvvZfcU5h",
        "outputId": "2ee66f7a-e9dd-432f-eb15-ce32606b63d8"
      },
      "execution_count": null,
      "outputs": [
        {
          "output_type": "execute_result",
          "data": {
            "text/plain": [
              "False"
            ]
          },
          "metadata": {},
          "execution_count": 32
        }
      ]
    },
    {
      "cell_type": "code",
      "source": [
        "\"hindustan\" not in mystring"
      ],
      "metadata": {
        "colab": {
          "base_uri": "https://localhost:8080/"
        },
        "id": "xXqZmC5kcbik",
        "outputId": "a9554034-4f28-4105-c838-09b90227d26a"
      },
      "execution_count": null,
      "outputs": [
        {
          "output_type": "execute_result",
          "data": {
            "text/plain": [
              "True"
            ]
          },
          "metadata": {},
          "execution_count": 33
        }
      ]
    },
    {
      "cell_type": "code",
      "source": [],
      "metadata": {
        "id": "mE5ArR2bcjST"
      },
      "execution_count": null,
      "outputs": []
    },
    {
      "cell_type": "markdown",
      "source": [
        "**identical** **operators**\n",
        "\n",
        "\n",
        "1.   is\n",
        "2.   is not\n",
        "\n"
      ],
      "metadata": {
        "id": "ivvhJv2UdVWR"
      }
    },
    {
      "cell_type": "code",
      "source": [
        "a=\"amruta\"\n",
        "b=\"amruta\""
      ],
      "metadata": {
        "id": "2UsEemHVdf7X"
      },
      "execution_count": null,
      "outputs": []
    },
    {
      "cell_type": "code",
      "source": [
        "a is b"
      ],
      "metadata": {
        "colab": {
          "base_uri": "https://localhost:8080/"
        },
        "id": "T7pp88tvdtNM",
        "outputId": "a935e530-2d27-4598-f875-8db32ad87ac0"
      },
      "execution_count": null,
      "outputs": [
        {
          "output_type": "execute_result",
          "data": {
            "text/plain": [
              "True"
            ]
          },
          "metadata": {},
          "execution_count": 35
        }
      ]
    },
    {
      "cell_type": "code",
      "source": [
        "c=\"jadhav\""
      ],
      "metadata": {
        "id": "ek4IUNDtdvXN"
      },
      "execution_count": null,
      "outputs": []
    },
    {
      "cell_type": "code",
      "source": [
        "a is c"
      ],
      "metadata": {
        "colab": {
          "base_uri": "https://localhost:8080/"
        },
        "id": "aDy4OJJ0dziH",
        "outputId": "9d291ebc-ac4f-4f8c-e4e6-3aa145a6fcb7"
      },
      "execution_count": null,
      "outputs": [
        {
          "output_type": "execute_result",
          "data": {
            "text/plain": [
              "False"
            ]
          },
          "metadata": {},
          "execution_count": 37
        }
      ]
    },
    {
      "cell_type": "code",
      "source": [
        "id(a)"
      ],
      "metadata": {
        "colab": {
          "base_uri": "https://localhost:8080/"
        },
        "id": "1BFfk3F2d1SN",
        "outputId": "132a663b-656b-41e0-ddbe-f4544348f41b"
      },
      "execution_count": null,
      "outputs": [
        {
          "output_type": "execute_result",
          "data": {
            "text/plain": [
              "137960128475952"
            ]
          },
          "metadata": {},
          "execution_count": 38
        }
      ]
    },
    {
      "cell_type": "code",
      "source": [
        "id(b)"
      ],
      "metadata": {
        "colab": {
          "base_uri": "https://localhost:8080/"
        },
        "id": "0KT9XuSwd4fr",
        "outputId": "8086410e-4bb7-41df-faa0-2044e6b1b991"
      },
      "execution_count": null,
      "outputs": [
        {
          "output_type": "execute_result",
          "data": {
            "text/plain": [
              "137960128475952"
            ]
          },
          "metadata": {},
          "execution_count": 39
        }
      ]
    },
    {
      "cell_type": "code",
      "source": [],
      "metadata": {
        "id": "SVs9W0Ukd6dp"
      },
      "execution_count": null,
      "outputs": []
    },
    {
      "cell_type": "markdown",
      "source": [
        "**function in string**\n",
        "\n",
        "\n",
        "\n",
        "\n",
        "1.   len()\n",
        "\n",
        "2.   max()\n",
        "\n",
        "\n",
        "1.   min()\n",
        "2.   chr()\n",
        "\n",
        "1.   ord()\n",
        "2.   List item\n",
        "\n",
        "\n",
        "\n",
        "\n",
        "\n",
        "\n",
        "\n",
        "\n",
        "\n"
      ],
      "metadata": {
        "id": "SZrogcDoeBRE"
      }
    },
    {
      "cell_type": "code",
      "source": [
        "mystring=\"amruta jadhav\""
      ],
      "metadata": {
        "id": "QlkqKYatelEZ"
      },
      "execution_count": null,
      "outputs": []
    },
    {
      "cell_type": "code",
      "source": [
        "len(mystring)"
      ],
      "metadata": {
        "colab": {
          "base_uri": "https://localhost:8080/"
        },
        "id": "vAP-7kYDepV-",
        "outputId": "c90610e3-5d92-4ae3-eb01-92a778d28e6b"
      },
      "execution_count": null,
      "outputs": [
        {
          "output_type": "execute_result",
          "data": {
            "text/plain": [
              "13"
            ]
          },
          "metadata": {},
          "execution_count": 41
        }
      ]
    },
    {
      "cell_type": "code",
      "source": [
        "max(mystring)"
      ],
      "metadata": {
        "colab": {
          "base_uri": "https://localhost:8080/",
          "height": 35
        },
        "id": "26SjWMU1erHN",
        "outputId": "009d6cb9-fe67-468d-ec59-c97bcc0580be"
      },
      "execution_count": null,
      "outputs": [
        {
          "output_type": "execute_result",
          "data": {
            "text/plain": [
              "'v'"
            ],
            "application/vnd.google.colaboratory.intrinsic+json": {
              "type": "string"
            }
          },
          "metadata": {},
          "execution_count": 42
        }
      ]
    },
    {
      "cell_type": "code",
      "source": [
        "min(mystring)"
      ],
      "metadata": {
        "colab": {
          "base_uri": "https://localhost:8080/",
          "height": 35
        },
        "id": "dpGDDFA6euUd",
        "outputId": "6a08c26a-3634-4fa2-f5d0-dd9979c3b468"
      },
      "execution_count": null,
      "outputs": [
        {
          "output_type": "execute_result",
          "data": {
            "text/plain": [
              "' '"
            ],
            "application/vnd.google.colaboratory.intrinsic+json": {
              "type": "string"
            }
          },
          "metadata": {},
          "execution_count": 43
        }
      ]
    },
    {
      "cell_type": "code",
      "source": [
        "chr(43)"
      ],
      "metadata": {
        "colab": {
          "base_uri": "https://localhost:8080/",
          "height": 35
        },
        "id": "QoqyCHsRexnR",
        "outputId": "58208fcb-723b-4222-d483-434e1bcd28ff"
      },
      "execution_count": null,
      "outputs": [
        {
          "output_type": "execute_result",
          "data": {
            "text/plain": [
              "'+'"
            ],
            "application/vnd.google.colaboratory.intrinsic+json": {
              "type": "string"
            }
          },
          "metadata": {},
          "execution_count": 49
        }
      ]
    },
    {
      "cell_type": "code",
      "source": [
        "ord(\"a\")"
      ],
      "metadata": {
        "colab": {
          "base_uri": "https://localhost:8080/"
        },
        "id": "XU6J0TSme1pO",
        "outputId": "7bd92bf3-5a4b-4fb2-8f55-d3cb0d7729d1"
      },
      "execution_count": null,
      "outputs": [
        {
          "output_type": "execute_result",
          "data": {
            "text/plain": [
              "97"
            ]
          },
          "metadata": {},
          "execution_count": 47
        }
      ]
    },
    {
      "cell_type": "code",
      "source": [
        "chr(67)"
      ],
      "metadata": {
        "colab": {
          "base_uri": "https://localhost:8080/",
          "height": 35
        },
        "id": "eJfsSQeHfMeK",
        "outputId": "e6b0ab5c-644f-4d1d-9d3a-88003b3eabc1"
      },
      "execution_count": null,
      "outputs": [
        {
          "output_type": "execute_result",
          "data": {
            "text/plain": [
              "'C'"
            ],
            "application/vnd.google.colaboratory.intrinsic+json": {
              "type": "string"
            }
          },
          "metadata": {},
          "execution_count": 50
        }
      ]
    },
    {
      "cell_type": "code",
      "source": [
        "chr(97)"
      ],
      "metadata": {
        "colab": {
          "base_uri": "https://localhost:8080/",
          "height": 35
        },
        "id": "lnS6ArYDf051",
        "outputId": "d126b7a3-df21-48fa-cbcb-00ed0f7e1219"
      },
      "execution_count": null,
      "outputs": [
        {
          "output_type": "execute_result",
          "data": {
            "text/plain": [
              "'a'"
            ],
            "application/vnd.google.colaboratory.intrinsic+json": {
              "type": "string"
            }
          },
          "metadata": {},
          "execution_count": 51
        }
      ]
    },
    {
      "cell_type": "code",
      "source": [
        "chr(110)"
      ],
      "metadata": {
        "colab": {
          "base_uri": "https://localhost:8080/",
          "height": 35
        },
        "id": "IxbTOetvf4ha",
        "outputId": "a75a1ded-5e6b-4c9d-da6c-02aa387b2596"
      },
      "execution_count": null,
      "outputs": [
        {
          "output_type": "execute_result",
          "data": {
            "text/plain": [
              "'n'"
            ],
            "application/vnd.google.colaboratory.intrinsic+json": {
              "type": "string"
            }
          },
          "metadata": {},
          "execution_count": 52
        }
      ]
    },
    {
      "cell_type": "code",
      "source": [],
      "metadata": {
        "id": "5fJsf3h4gDXo"
      },
      "execution_count": null,
      "outputs": []
    },
    {
      "cell_type": "markdown",
      "source": [
        "**methods of string**\n",
        "\n",
        "\n",
        "1.   capitalize()\n",
        "\n",
        "\n",
        "\n"
      ],
      "metadata": {
        "id": "74ze2qUGtcSR"
      }
    },
    {
      "cell_type": "code",
      "source": [
        "name=\"amruta jadhav\"\n",
        "a=name.capitalize()\n",
        "a"
      ],
      "metadata": {
        "colab": {
          "base_uri": "https://localhost:8080/",
          "height": 35
        },
        "id": "aToVeEK5t0-P",
        "outputId": "2d656e19-1ee7-4b6a-cd82-05c29e6223fe"
      },
      "execution_count": null,
      "outputs": [
        {
          "output_type": "execute_result",
          "data": {
            "text/plain": [
              "'Amruta jadhav'"
            ],
            "application/vnd.google.colaboratory.intrinsic+json": {
              "type": "string"
            }
          },
          "metadata": {},
          "execution_count": 53
        }
      ]
    },
    {
      "cell_type": "code",
      "source": [],
      "metadata": {
        "id": "Rhs0y75Dt7ap"
      },
      "execution_count": null,
      "outputs": []
    },
    {
      "cell_type": "markdown",
      "source": [
        "\n",
        "\n",
        "1.   lower()\n",
        "2.   upper()\n",
        "\n"
      ],
      "metadata": {
        "id": "ZCYgd3Njt-lN"
      }
    },
    {
      "cell_type": "code",
      "source": [
        "a=\"amruta Rajesh Jadhav\"\n",
        "k=a.lower()\n",
        "k"
      ],
      "metadata": {
        "colab": {
          "base_uri": "https://localhost:8080/",
          "height": 35
        },
        "id": "CCLbyKxFuCze",
        "outputId": "bab826bb-62a9-449d-bc6c-d556d82c9dd2"
      },
      "execution_count": null,
      "outputs": [
        {
          "output_type": "execute_result",
          "data": {
            "text/plain": [
              "'amruta rajesh jadhav'"
            ],
            "application/vnd.google.colaboratory.intrinsic+json": {
              "type": "string"
            }
          },
          "metadata": {},
          "execution_count": 54
        }
      ]
    },
    {
      "cell_type": "code",
      "source": [
        "k=a.upper()\n",
        "k"
      ],
      "metadata": {
        "colab": {
          "base_uri": "https://localhost:8080/",
          "height": 35
        },
        "id": "IC7MgUpnuJlg",
        "outputId": "49677f59-cd83-4673-856e-4529ffeab976"
      },
      "execution_count": null,
      "outputs": [
        {
          "output_type": "execute_result",
          "data": {
            "text/plain": [
              "'AMRUTA RAJESH JADHAV'"
            ],
            "application/vnd.google.colaboratory.intrinsic+json": {
              "type": "string"
            }
          },
          "metadata": {},
          "execution_count": 55
        }
      ]
    },
    {
      "cell_type": "code",
      "source": [],
      "metadata": {
        "id": "N6mtxzN4uODD"
      },
      "execution_count": null,
      "outputs": []
    },
    {
      "cell_type": "markdown",
      "source": [
        "\n",
        "\n",
        "1.   swapcase\n",
        "\n"
      ],
      "metadata": {
        "id": "HD0cgV8ouQL5"
      }
    },
    {
      "cell_type": "code",
      "source": [
        "k=\"Amruta\"\n",
        "p=k.swapcase()\n",
        "p"
      ],
      "metadata": {
        "colab": {
          "base_uri": "https://localhost:8080/",
          "height": 35
        },
        "id": "7uuL3NyauVo8",
        "outputId": "68155388-eedc-4f7b-a3ac-708db9bc89b6"
      },
      "execution_count": null,
      "outputs": [
        {
          "output_type": "execute_result",
          "data": {
            "text/plain": [
              "'aMRUTA'"
            ],
            "application/vnd.google.colaboratory.intrinsic+json": {
              "type": "string"
            }
          },
          "metadata": {},
          "execution_count": 56
        }
      ]
    },
    {
      "cell_type": "code",
      "source": [],
      "metadata": {
        "id": "X9opPz3Juat2"
      },
      "execution_count": null,
      "outputs": []
    },
    {
      "cell_type": "markdown",
      "source": [
        "\n",
        "\n",
        "1.   Title()\n",
        "\n",
        "\n"
      ],
      "metadata": {
        "id": "VSYiSdjsulER"
      }
    },
    {
      "cell_type": "code",
      "source": [
        "k=\"amruta rajesh jadhav\"\n",
        "p=k.title()\n",
        "p"
      ],
      "metadata": {
        "colab": {
          "base_uri": "https://localhost:8080/",
          "height": 35
        },
        "id": "jZGyGAaEuook",
        "outputId": "6be3b482-3294-43b2-df07-e16537b71ea8"
      },
      "execution_count": null,
      "outputs": [
        {
          "output_type": "execute_result",
          "data": {
            "text/plain": [
              "'Amruta Rajesh Jadhav'"
            ],
            "application/vnd.google.colaboratory.intrinsic+json": {
              "type": "string"
            }
          },
          "metadata": {},
          "execution_count": 57
        }
      ]
    },
    {
      "cell_type": "code",
      "source": [],
      "metadata": {
        "id": "RZLgetqIu2z0"
      },
      "execution_count": null,
      "outputs": []
    },
    {
      "cell_type": "markdown",
      "source": [
        "\n",
        "\n",
        "1.   islower()\n",
        "2.   isupper()\n",
        "\n"
      ],
      "metadata": {
        "id": "zoJkBJPhu-s_"
      }
    },
    {
      "cell_type": "code",
      "source": [
        "k.islower()"
      ],
      "metadata": {
        "colab": {
          "base_uri": "https://localhost:8080/"
        },
        "id": "AkSB_wNqvDd6",
        "outputId": "8d19d8be-318f-4d13-bdd7-205627f49344"
      },
      "execution_count": null,
      "outputs": [
        {
          "output_type": "execute_result",
          "data": {
            "text/plain": [
              "True"
            ]
          },
          "metadata": {},
          "execution_count": 58
        }
      ]
    },
    {
      "cell_type": "code",
      "source": [
        "k.isupper()"
      ],
      "metadata": {
        "colab": {
          "base_uri": "https://localhost:8080/"
        },
        "id": "uezodojVvHaN",
        "outputId": "50e116cf-babd-4941-fe6b-7a74876f942c"
      },
      "execution_count": null,
      "outputs": [
        {
          "output_type": "execute_result",
          "data": {
            "text/plain": [
              "False"
            ]
          },
          "metadata": {},
          "execution_count": 59
        }
      ]
    },
    {
      "cell_type": "code",
      "source": [
        "p.isupper()"
      ],
      "metadata": {
        "colab": {
          "base_uri": "https://localhost:8080/"
        },
        "id": "y7NxQ71qvKRP",
        "outputId": "47038ff6-a69e-4a6a-96a2-00e7493aeba9"
      },
      "execution_count": null,
      "outputs": [
        {
          "output_type": "execute_result",
          "data": {
            "text/plain": [
              "False"
            ]
          },
          "metadata": {},
          "execution_count": 60
        }
      ]
    },
    {
      "cell_type": "code",
      "source": [],
      "metadata": {
        "id": "Ro17NbravNSH"
      },
      "execution_count": null,
      "outputs": []
    },
    {
      "cell_type": "markdown",
      "source": [
        "**isalpha** : does not contain whitespace"
      ],
      "metadata": {
        "id": "06-bZNnPvr55"
      }
    },
    {
      "cell_type": "code",
      "source": [
        "a=\"amruta\""
      ],
      "metadata": {
        "id": "1lfZRMxLvtLr"
      },
      "execution_count": null,
      "outputs": []
    },
    {
      "cell_type": "code",
      "source": [
        "a.isalpha()"
      ],
      "metadata": {
        "colab": {
          "base_uri": "https://localhost:8080/"
        },
        "id": "NM8t-KOHv-00",
        "outputId": "0a9627c9-f4f1-4524-9cf8-1f0f154c34b3"
      },
      "execution_count": null,
      "outputs": [
        {
          "output_type": "execute_result",
          "data": {
            "text/plain": [
              "True"
            ]
          },
          "metadata": {},
          "execution_count": 62
        }
      ]
    },
    {
      "cell_type": "code",
      "source": [
        "a=\"amruta14\""
      ],
      "metadata": {
        "id": "pd9bz6ElwBTl"
      },
      "execution_count": null,
      "outputs": []
    },
    {
      "cell_type": "code",
      "source": [
        "a.isalpha()"
      ],
      "metadata": {
        "colab": {
          "base_uri": "https://localhost:8080/"
        },
        "id": "2sfryYbywEcB",
        "outputId": "4053a3dd-3c04-4525-d3d1-4b913ed40c71"
      },
      "execution_count": null,
      "outputs": [
        {
          "output_type": "execute_result",
          "data": {
            "text/plain": [
              "False"
            ]
          },
          "metadata": {},
          "execution_count": 64
        }
      ]
    },
    {
      "cell_type": "code",
      "source": [],
      "metadata": {
        "id": "NYplEaeJwGrK"
      },
      "execution_count": null,
      "outputs": []
    },
    {
      "cell_type": "markdown",
      "source": [
        "isdigit()"
      ],
      "metadata": {
        "id": "bsFYRVkfwlwq"
      }
    },
    {
      "cell_type": "code",
      "source": [
        "a=\"12345\"\n"
      ],
      "metadata": {
        "id": "VHjs7rE4wnNv"
      },
      "execution_count": null,
      "outputs": []
    },
    {
      "cell_type": "code",
      "source": [
        "a.isdigit()"
      ],
      "metadata": {
        "colab": {
          "base_uri": "https://localhost:8080/"
        },
        "id": "nY92ADRPwphY",
        "outputId": "b4b2f0b3-ab34-430b-ce8b-823694e5b728"
      },
      "execution_count": null,
      "outputs": [
        {
          "output_type": "execute_result",
          "data": {
            "text/plain": [
              "True"
            ]
          },
          "metadata": {},
          "execution_count": 66
        }
      ]
    },
    {
      "cell_type": "code",
      "source": [],
      "metadata": {
        "id": "q_bGqUMnwrcU"
      },
      "execution_count": null,
      "outputs": []
    },
    {
      "cell_type": "markdown",
      "source": [
        "isalnum()"
      ],
      "metadata": {
        "id": "G6HVAANWwwJV"
      }
    },
    {
      "cell_type": "code",
      "source": [
        "a=\"amruta84\""
      ],
      "metadata": {
        "id": "B7j9-8pUwzIY"
      },
      "execution_count": null,
      "outputs": []
    },
    {
      "cell_type": "code",
      "source": [
        "a.isalnum()"
      ],
      "metadata": {
        "colab": {
          "base_uri": "https://localhost:8080/"
        },
        "id": "ujnS0Ie5w1vS",
        "outputId": "638f9644-1cdc-43ca-bcb8-af77574e404b"
      },
      "execution_count": null,
      "outputs": [
        {
          "output_type": "execute_result",
          "data": {
            "text/plain": [
              "True"
            ]
          },
          "metadata": {},
          "execution_count": 68
        }
      ]
    },
    {
      "cell_type": "code",
      "source": [],
      "metadata": {
        "id": "DceIwCQ0w4RC"
      },
      "execution_count": null,
      "outputs": []
    },
    {
      "cell_type": "markdown",
      "source": [
        "isspace()"
      ],
      "metadata": {
        "id": "estDbdctxqVl"
      }
    },
    {
      "cell_type": "code",
      "source": [
        "a=\"amruta jadhav\""
      ],
      "metadata": {
        "id": "Lqs4Q8E4xsb8"
      },
      "execution_count": null,
      "outputs": []
    },
    {
      "cell_type": "code",
      "source": [
        "a.isspace()"
      ],
      "metadata": {
        "colab": {
          "base_uri": "https://localhost:8080/"
        },
        "id": "kuYb0RykxuEC",
        "outputId": "26a48010-abdc-484a-a329-00c7fe34e972"
      },
      "execution_count": null,
      "outputs": [
        {
          "output_type": "execute_result",
          "data": {
            "text/plain": [
              "False"
            ]
          },
          "metadata": {},
          "execution_count": 70
        }
      ]
    },
    {
      "cell_type": "code",
      "source": [
        "a=\" \""
      ],
      "metadata": {
        "id": "0IwH84XlxwEf"
      },
      "execution_count": null,
      "outputs": []
    },
    {
      "cell_type": "code",
      "source": [
        "a.isspace()"
      ],
      "metadata": {
        "colab": {
          "base_uri": "https://localhost:8080/"
        },
        "id": "eVHummL1x-7E",
        "outputId": "6cb8b9a5-7d51-4d15-9b6b-e80792aa7e5e"
      },
      "execution_count": null,
      "outputs": [
        {
          "output_type": "execute_result",
          "data": {
            "text/plain": [
              "True"
            ]
          },
          "metadata": {},
          "execution_count": 72
        }
      ]
    },
    {
      "cell_type": "code",
      "source": [],
      "metadata": {
        "id": "u3jmvjDAyAoK"
      },
      "execution_count": null,
      "outputs": []
    },
    {
      "cell_type": "markdown",
      "source": [
        "\n",
        "\n",
        "1.   startwith()\n",
        "2.   endwith()\n",
        "\n"
      ],
      "metadata": {
        "id": "XTdWVs8SyR6U"
      }
    },
    {
      "cell_type": "code",
      "source": [
        "text=\"i love python\""
      ],
      "metadata": {
        "id": "XX9u2n1yyXLZ"
      },
      "execution_count": null,
      "outputs": []
    },
    {
      "cell_type": "code",
      "source": [
        "text.startswith(\"love\")"
      ],
      "metadata": {
        "colab": {
          "base_uri": "https://localhost:8080/"
        },
        "id": "3Vz6f_DGycqq",
        "outputId": "d3c67660-a127-4ec8-d5bf-fa531b7dab25"
      },
      "execution_count": null,
      "outputs": [
        {
          "output_type": "execute_result",
          "data": {
            "text/plain": [
              "False"
            ]
          },
          "metadata": {},
          "execution_count": 75
        }
      ]
    },
    {
      "cell_type": "code",
      "source": [
        "text.startswith(\"i\")"
      ],
      "metadata": {
        "colab": {
          "base_uri": "https://localhost:8080/"
        },
        "id": "AQkpK67wygam",
        "outputId": "914798de-0ba0-4ce4-f989-3813d4579ac7"
      },
      "execution_count": null,
      "outputs": [
        {
          "output_type": "execute_result",
          "data": {
            "text/plain": [
              "True"
            ]
          },
          "metadata": {},
          "execution_count": 77
        }
      ]
    },
    {
      "cell_type": "code",
      "source": [
        "text.endswith(\"python\")"
      ],
      "metadata": {
        "colab": {
          "base_uri": "https://localhost:8080/"
        },
        "id": "Hvy8JIzAyngY",
        "outputId": "52c56d1a-a3dc-4fa0-a5f0-98524a2f5829"
      },
      "execution_count": null,
      "outputs": [
        {
          "output_type": "execute_result",
          "data": {
            "text/plain": [
              "True"
            ]
          },
          "metadata": {},
          "execution_count": 78
        }
      ]
    },
    {
      "cell_type": "markdown",
      "source": [
        "**Count**"
      ],
      "metadata": {
        "id": "0BAsD3fCbzc2"
      }
    },
    {
      "cell_type": "code",
      "source": [
        "k=\"amruta jadhav\""
      ],
      "metadata": {
        "id": "XKV0NAtBytBu"
      },
      "execution_count": null,
      "outputs": []
    },
    {
      "cell_type": "code",
      "source": [
        "k.count(\"a\")"
      ],
      "metadata": {
        "colab": {
          "base_uri": "https://localhost:8080/"
        },
        "id": "HnNO72Unbmsd",
        "outputId": "1506ac1d-8ed7-40a3-c0b6-a2227a9c4b33"
      },
      "execution_count": null,
      "outputs": [
        {
          "output_type": "execute_result",
          "data": {
            "text/plain": [
              "4"
            ]
          },
          "metadata": {},
          "execution_count": 3
        }
      ]
    },
    {
      "cell_type": "code",
      "source": [],
      "metadata": {
        "id": "oDPIIi7WbrW5"
      },
      "execution_count": null,
      "outputs": []
    },
    {
      "cell_type": "markdown",
      "source": [
        "**Split**"
      ],
      "metadata": {
        "id": "QWtp8BZwb5aB"
      }
    },
    {
      "cell_type": "code",
      "source": [
        "l=\"i love india\""
      ],
      "metadata": {
        "id": "xpcekaVcb7up"
      },
      "execution_count": null,
      "outputs": []
    },
    {
      "cell_type": "code",
      "source": [
        "l.split()"
      ],
      "metadata": {
        "colab": {
          "base_uri": "https://localhost:8080/"
        },
        "id": "Xn1NFr76cF49",
        "outputId": "488b14e5-6c0d-4b60-80a4-115e702fb577"
      },
      "execution_count": null,
      "outputs": [
        {
          "output_type": "execute_result",
          "data": {
            "text/plain": [
              "['i', 'love', 'india']"
            ]
          },
          "metadata": {},
          "execution_count": 5
        }
      ]
    },
    {
      "cell_type": "code",
      "source": [],
      "metadata": {
        "id": "q1fpTTo4cIwf"
      },
      "execution_count": null,
      "outputs": []
    },
    {
      "cell_type": "markdown",
      "source": [
        "**join**"
      ],
      "metadata": {
        "id": "uLWd9heucKRW"
      }
    },
    {
      "cell_type": "code",
      "source": [
        "\"@\".join(['a','m','r'])"
      ],
      "metadata": {
        "colab": {
          "base_uri": "https://localhost:8080/",
          "height": 35
        },
        "id": "nSfD07J8cL4d",
        "outputId": "8276fe38-6961-4a43-82df-772984384b83"
      },
      "execution_count": null,
      "outputs": [
        {
          "output_type": "execute_result",
          "data": {
            "text/plain": [
              "'a@m@r'"
            ],
            "application/vnd.google.colaboratory.intrinsic+json": {
              "type": "string"
            }
          },
          "metadata": {},
          "execution_count": 10
        }
      ]
    },
    {
      "cell_type": "code",
      "source": [
        "name=\"Amruta\"\n",
        "age=27"
      ],
      "metadata": {
        "id": "FGhf0AETcSMK"
      },
      "execution_count": null,
      "outputs": []
    },
    {
      "cell_type": "code",
      "source": [
        "print(\"my name is\",name,\"and my age is\",age)"
      ],
      "metadata": {
        "colab": {
          "base_uri": "https://localhost:8080/"
        },
        "id": "QaXS__KvdjuN",
        "outputId": "5f122045-b477-4afe-db0e-65e582007983"
      },
      "execution_count": null,
      "outputs": [
        {
          "output_type": "stream",
          "name": "stdout",
          "text": [
            "my name is Amruta and my age is 27\n"
          ]
        }
      ]
    },
    {
      "cell_type": "code",
      "source": [
        "print(\"my name is {0} and my age is {1}\".format(name,age))"
      ],
      "metadata": {
        "id": "LJn-VYh3dt4U"
      },
      "execution_count": null,
      "outputs": []
    },
    {
      "cell_type": "code",
      "source": [
        "print(\"my name is %s and my age is%d\"%(name,age))"
      ],
      "metadata": {
        "id": "gOxQIa7Zd6KJ",
        "colab": {
          "base_uri": "https://localhost:8080/"
        },
        "outputId": "dcb0d133-dcbf-4808-c82a-10bd9b2cf392"
      },
      "execution_count": null,
      "outputs": [
        {
          "output_type": "stream",
          "name": "stdout",
          "text": [
            "my name is Amruta and my age is27\n"
          ]
        }
      ]
    },
    {
      "cell_type": "code",
      "source": [],
      "metadata": {
        "id": "_qZZqFMVebUB"
      },
      "execution_count": null,
      "outputs": []
    },
    {
      "cell_type": "markdown",
      "source": [
        "\n",
        "**String** interpolation\n",
        "\n",
        "1.   F-String\n",
        "2.   **String** interpolation\n",
        "\n"
      ],
      "metadata": {
        "id": "yvW8gRZCeh_R"
      }
    },
    {
      "cell_type": "code",
      "source": [
        "print(f\"my name is {name} and my age is {age}\")"
      ],
      "metadata": {
        "colab": {
          "base_uri": "https://localhost:8080/"
        },
        "id": "lw8Nl7ewe0LC",
        "outputId": "e0ef778a-f6d5-46b8-8642-3973e53e7906"
      },
      "execution_count": null,
      "outputs": [
        {
          "output_type": "stream",
          "name": "stdout",
          "text": [
            "my name is Amruta and my age is 27\n"
          ]
        }
      ]
    },
    {
      "cell_type": "code",
      "source": [
        "a=20\n",
        "b=10"
      ],
      "metadata": {
        "id": "g1NC-zMWfHnG"
      },
      "execution_count": null,
      "outputs": []
    },
    {
      "cell_type": "code",
      "source": [
        "print(f\"maximum number{max(a,b)}\")"
      ],
      "metadata": {
        "colab": {
          "base_uri": "https://localhost:8080/"
        },
        "id": "WyF-M-jafa5-",
        "outputId": "8d94b8d1-a3f1-410f-a9b3-45fb2c959e50"
      },
      "execution_count": null,
      "outputs": [
        {
          "output_type": "stream",
          "name": "stdout",
          "text": [
            "maximum number20\n"
          ]
        }
      ]
    },
    {
      "cell_type": "code",
      "source": [],
      "metadata": {
        "id": "oR_8gl0Ffn4B"
      },
      "execution_count": null,
      "outputs": []
    },
    {
      "cell_type": "markdown",
      "source": [
        "**dictionary**"
      ],
      "metadata": {
        "id": "3jmcGgcQgRr1"
      }
    },
    {
      "cell_type": "code",
      "source": [],
      "metadata": {
        "id": "RvZ_hWhdgXTm"
      },
      "execution_count": null,
      "outputs": []
    },
    {
      "cell_type": "markdown",
      "source": [
        "key value pair\n",
        "if i want to connect one piece of info with other piece of info so we always use dict."
      ],
      "metadata": {
        "id": "o4JRIOnshyfY"
      }
    },
    {
      "cell_type": "code",
      "source": [
        "mydict1={1:\"amruta\",\"A\":\"shubham\"}"
      ],
      "metadata": {
        "id": "ddiUP0tYiHw4"
      },
      "execution_count": null,
      "outputs": []
    },
    {
      "cell_type": "code",
      "source": [
        "mydict1"
      ],
      "metadata": {
        "colab": {
          "base_uri": "https://localhost:8080/"
        },
        "id": "y5Bhq8fvjmPL",
        "outputId": "93b25bab-5d61-4c85-9c33-84426cac8e8c"
      },
      "execution_count": null,
      "outputs": [
        {
          "output_type": "execute_result",
          "data": {
            "text/plain": [
              "{1: 'amruta', 'A': 'shubham'}"
            ]
          },
          "metadata": {},
          "execution_count": 23
        }
      ]
    },
    {
      "cell_type": "code",
      "source": [
        "mydict={1:[\"amruta\",\"shweta\"],2:[\"rohit\",\"shubham\"]}"
      ],
      "metadata": {
        "id": "nb-7uaPyjp5N"
      },
      "execution_count": null,
      "outputs": []
    },
    {
      "cell_type": "code",
      "source": [
        "mydict[2]"
      ],
      "metadata": {
        "colab": {
          "base_uri": "https://localhost:8080/"
        },
        "id": "ydA8Nds3j84V",
        "outputId": "fab68185-cdbb-4707-b893-8328107d6ab5"
      },
      "execution_count": null,
      "outputs": [
        {
          "output_type": "execute_result",
          "data": {
            "text/plain": [
              "['rohit', 'shubham']"
            ]
          },
          "metadata": {},
          "execution_count": 25
        }
      ]
    },
    {
      "cell_type": "code",
      "source": [
        "mydict.get(1)"
      ],
      "metadata": {
        "id": "L2jWI61WkEWb",
        "outputId": "ed5c9965-57d5-48ab-ced8-cdf65289bbaa",
        "colab": {
          "base_uri": "https://localhost:8080/"
        }
      },
      "execution_count": null,
      "outputs": [
        {
          "output_type": "execute_result",
          "data": {
            "text/plain": [
              "['amruta', 'shweta']"
            ]
          },
          "metadata": {},
          "execution_count": 26
        }
      ]
    },
    {
      "cell_type": "code",
      "source": [
        "student_data={1:\"amit\",2:\"rajesh\",3:\"sanjay\",4:\"vijay\"}"
      ],
      "metadata": {
        "id": "7hZv7lRdkH2a"
      },
      "execution_count": null,
      "outputs": []
    },
    {
      "cell_type": "code",
      "source": [
        "for x in student_data.values():\n",
        "  print(x)"
      ],
      "metadata": {
        "colab": {
          "base_uri": "https://localhost:8080/"
        },
        "id": "-FoV0LUhWAid",
        "outputId": "f40bd2a8-263b-4907-d89c-76b0979c2fe3"
      },
      "execution_count": null,
      "outputs": [
        {
          "output_type": "stream",
          "name": "stdout",
          "text": [
            "amit\n",
            "rajesh\n",
            "sanjay\n",
            "vijay\n"
          ]
        }
      ]
    },
    {
      "cell_type": "code",
      "source": [
        "student_data[2]"
      ],
      "metadata": {
        "colab": {
          "base_uri": "https://localhost:8080/",
          "height": 35
        },
        "id": "0tceoLV9WK6N",
        "outputId": "5425271f-9b70-4f88-aa33-7a58fc26d38a"
      },
      "execution_count": null,
      "outputs": [
        {
          "output_type": "execute_result",
          "data": {
            "text/plain": [
              "'rajesh'"
            ],
            "application/vnd.google.colaboratory.intrinsic+json": {
              "type": "string"
            }
          },
          "metadata": {},
          "execution_count": 4
        }
      ]
    },
    {
      "cell_type": "code",
      "source": [
        "for x in student_data.items():\n",
        "  print(x)"
      ],
      "metadata": {
        "colab": {
          "base_uri": "https://localhost:8080/"
        },
        "id": "Jar9zc-fWSQH",
        "outputId": "28ebf63d-b565-4aa5-acb5-4d957d8dc62c"
      },
      "execution_count": null,
      "outputs": [
        {
          "output_type": "stream",
          "name": "stdout",
          "text": [
            "(1, 'amit')\n",
            "(2, 'rajesh')\n",
            "(3, 'sanjay')\n",
            "(4, 'vijay')\n"
          ]
        }
      ]
    },
    {
      "cell_type": "code",
      "source": [
        "for x in student_data.keys():\n",
        "  print(x)\n"
      ],
      "metadata": {
        "colab": {
          "base_uri": "https://localhost:8080/"
        },
        "id": "m9cfJ0dOWaml",
        "outputId": "bf58820e-0ef1-4f78-bcaf-59ddda56fb10"
      },
      "execution_count": null,
      "outputs": [
        {
          "output_type": "stream",
          "name": "stdout",
          "text": [
            "1\n",
            "2\n",
            "3\n",
            "4\n"
          ]
        }
      ]
    },
    {
      "cell_type": "code",
      "source": [
        "for x,y in student_data.items():\n",
        "  print(f\"my key is {x} and my value is {y}\")"
      ],
      "metadata": {
        "colab": {
          "base_uri": "https://localhost:8080/"
        },
        "id": "HMGAV51qWpGL",
        "outputId": "1ee64414-cd44-475b-e727-4f06a68a6400"
      },
      "execution_count": null,
      "outputs": [
        {
          "output_type": "stream",
          "name": "stdout",
          "text": [
            "my key is 1 and my value is amit\n",
            "my key is 2 and my value is rajesh\n",
            "my key is 3 and my value is sanjay\n",
            "my key is 4 and my value is vijay\n"
          ]
        }
      ]
    },
    {
      "cell_type": "code",
      "source": [],
      "metadata": {
        "id": "fxIh2hW6XFWU"
      },
      "execution_count": null,
      "outputs": []
    },
    {
      "cell_type": "markdown",
      "source": [
        "**Subscript** : if we want upadate any value in dict"
      ],
      "metadata": {
        "id": "I3uB8ZkZXW6i"
      }
    },
    {
      "cell_type": "code",
      "source": [
        "student_data[5]=\"deepak\""
      ],
      "metadata": {
        "id": "CT6SLqWBXdGb"
      },
      "execution_count": null,
      "outputs": []
    },
    {
      "cell_type": "code",
      "source": [
        "student_data"
      ],
      "metadata": {
        "colab": {
          "base_uri": "https://localhost:8080/"
        },
        "id": "R_4IvRz8Xw6a",
        "outputId": "9cecdf49-4a90-482d-c4c7-d17804b1ec73"
      },
      "execution_count": null,
      "outputs": [
        {
          "output_type": "execute_result",
          "data": {
            "text/plain": [
              "{1: 'amit', 2: 'rajesh', 3: 'sanjay', 4: 'vijay', 5: 'deepak'}"
            ]
          },
          "metadata": {},
          "execution_count": 10
        }
      ]
    },
    {
      "cell_type": "code",
      "source": [],
      "metadata": {
        "id": "8bCAA3qyXzBA"
      },
      "execution_count": null,
      "outputs": []
    },
    {
      "cell_type": "markdown",
      "source": [
        "**Update**"
      ],
      "metadata": {
        "id": "v3YTl9c-X2zh"
      }
    },
    {
      "cell_type": "code",
      "source": [
        "student_data.update({6:\"nilesh\"})"
      ],
      "metadata": {
        "id": "Sb4nW3Y-X5yx"
      },
      "execution_count": null,
      "outputs": []
    },
    {
      "cell_type": "code",
      "source": [
        "student_data"
      ],
      "metadata": {
        "colab": {
          "base_uri": "https://localhost:8080/"
        },
        "id": "_GuDTSFBYHKL",
        "outputId": "a9d8b464-6906-4a61-8c67-bc8afb229bbc"
      },
      "execution_count": null,
      "outputs": [
        {
          "output_type": "execute_result",
          "data": {
            "text/plain": [
              "{1: 'amit', 2: 'rajesh', 3: 'sanjay', 4: 'vijay', 5: 'deepak', 6: 'nilesh'}"
            ]
          },
          "metadata": {},
          "execution_count": 12
        }
      ]
    },
    {
      "cell_type": "code",
      "source": [
        "student_data[6]=\"atul\""
      ],
      "metadata": {
        "id": "nMItppTHYJNs"
      },
      "execution_count": null,
      "outputs": []
    },
    {
      "cell_type": "code",
      "source": [
        "student_data"
      ],
      "metadata": {
        "colab": {
          "base_uri": "https://localhost:8080/"
        },
        "id": "Q35-aCpxYW27",
        "outputId": "48d6b8d9-da4b-4516-ce18-3161beba7e99"
      },
      "execution_count": null,
      "outputs": [
        {
          "output_type": "execute_result",
          "data": {
            "text/plain": [
              "{1: 'amit', 2: 'rajesh', 3: 'sanjay', 4: 'vijay', 5: 'deepak', 6: 'atul'}"
            ]
          },
          "metadata": {},
          "execution_count": 15
        }
      ]
    },
    {
      "cell_type": "code",
      "source": [],
      "metadata": {
        "id": "i3KN8rrBYcDf"
      },
      "execution_count": null,
      "outputs": []
    },
    {
      "cell_type": "markdown",
      "source": [
        "fuunction for dictonary\n",
        "\n",
        "*   len()\n",
        "\n",
        "*   max()\n",
        "*   min()\n",
        "\n",
        "\n",
        "*   any()\n",
        "all()\n",
        "\n",
        "2.   sorted()\n",
        "dict()\n",
        "\n",
        "\n",
        "\n",
        "\n",
        "\n",
        "\n"
      ],
      "metadata": {
        "id": "DpIvG94yYqa4"
      }
    },
    {
      "cell_type": "code",
      "source": [
        "len(student_data)"
      ],
      "metadata": {
        "colab": {
          "base_uri": "https://localhost:8080/"
        },
        "id": "pIok-2-PZXNg",
        "outputId": "20f689fc-9049-4734-d95f-159a3b60aa52"
      },
      "execution_count": null,
      "outputs": [
        {
          "output_type": "execute_result",
          "data": {
            "text/plain": [
              "6"
            ]
          },
          "metadata": {},
          "execution_count": 16
        }
      ]
    },
    {
      "cell_type": "code",
      "source": [
        "max(student_data) #BY default take key"
      ],
      "metadata": {
        "colab": {
          "base_uri": "https://localhost:8080/"
        },
        "id": "XSOBY-LmZbcV",
        "outputId": "1a982086-04a7-4ae8-d95a-553b23d0ef35"
      },
      "execution_count": null,
      "outputs": [
        {
          "output_type": "execute_result",
          "data": {
            "text/plain": [
              "6"
            ]
          },
          "metadata": {},
          "execution_count": 22
        }
      ]
    },
    {
      "cell_type": "code",
      "source": [
        "min(student_data)"
      ],
      "metadata": {
        "colab": {
          "base_uri": "https://localhost:8080/"
        },
        "id": "1SQJTYGAZeH3",
        "outputId": "565418d5-de48-4079-a1eb-d2a2864c8586"
      },
      "execution_count": null,
      "outputs": [
        {
          "output_type": "execute_result",
          "data": {
            "text/plain": [
              "1"
            ]
          },
          "metadata": {},
          "execution_count": 18
        }
      ]
    },
    {
      "cell_type": "code",
      "source": [
        "any(student_data)"
      ],
      "metadata": {
        "colab": {
          "base_uri": "https://localhost:8080/"
        },
        "id": "C_otte_sZhJT",
        "outputId": "bfab4554-301a-4404-f0f5-bc29c8b7d551"
      },
      "execution_count": null,
      "outputs": [
        {
          "output_type": "execute_result",
          "data": {
            "text/plain": [
              "True"
            ]
          },
          "metadata": {},
          "execution_count": 19
        }
      ]
    },
    {
      "cell_type": "code",
      "source": [
        "all(student_data)"
      ],
      "metadata": {
        "colab": {
          "base_uri": "https://localhost:8080/"
        },
        "id": "-RviddWyZmp9",
        "outputId": "06e86c53-7eb1-4a1e-b856-12de75fa9b8a"
      },
      "execution_count": null,
      "outputs": [
        {
          "output_type": "execute_result",
          "data": {
            "text/plain": [
              "True"
            ]
          },
          "metadata": {},
          "execution_count": 20
        }
      ]
    },
    {
      "cell_type": "code",
      "source": [
        "sorted(student_data)"
      ],
      "metadata": {
        "colab": {
          "base_uri": "https://localhost:8080/"
        },
        "id": "hZfBt3oDZqwt",
        "outputId": "2b4e63f2-dc87-456a-c936-60be9bec45bb"
      },
      "execution_count": null,
      "outputs": [
        {
          "output_type": "execute_result",
          "data": {
            "text/plain": [
              "[1, 2, 3, 4, 5, 6]"
            ]
          },
          "metadata": {},
          "execution_count": 21
        }
      ]
    },
    {
      "cell_type": "code",
      "source": [],
      "metadata": {
        "id": "bRngmB6wZu5F"
      },
      "execution_count": null,
      "outputs": []
    },
    {
      "cell_type": "markdown",
      "source": [
        "**methods in dict**\n",
        "\n",
        "\n",
        "1. clear()\n",
        "\n",
        "1.   copy()\n",
        "2.   setdefault()\n",
        "\n",
        "\n",
        "2.   get()\n",
        "\n",
        "1.   keys()\n",
        "2.   values()\n",
        "\n",
        "1.   items()\n",
        "2.   update()\n",
        "\n",
        "1.  pop()\n",
        "2.    popitem()\n",
        "\n",
        "\n",
        "\n",
        "\n",
        "\n",
        "\n",
        "\n"
      ],
      "metadata": {
        "id": "P2jLIY3zbLwi"
      }
    },
    {
      "cell_type": "code",
      "source": [
        "student_data.pop(6)"
      ],
      "metadata": {
        "colab": {
          "base_uri": "https://localhost:8080/",
          "height": 35
        },
        "id": "yFl8R_XNbzxf",
        "outputId": "ed44b486-4076-41a0-c3e5-99e13c9de2cb"
      },
      "execution_count": null,
      "outputs": [
        {
          "output_type": "execute_result",
          "data": {
            "text/plain": [
              "'atul'"
            ],
            "application/vnd.google.colaboratory.intrinsic+json": {
              "type": "string"
            }
          },
          "metadata": {},
          "execution_count": 23
        }
      ]
    },
    {
      "cell_type": "code",
      "source": [
        "student_data"
      ],
      "metadata": {
        "colab": {
          "base_uri": "https://localhost:8080/"
        },
        "id": "6QD5unSzcFT9",
        "outputId": "efd59350-6d70-49b0-915f-6702f4172162"
      },
      "execution_count": null,
      "outputs": [
        {
          "output_type": "execute_result",
          "data": {
            "text/plain": [
              "{1: 'amit', 2: 'rajesh', 3: 'sanjay', 4: 'vijay', 5: 'deepak'}"
            ]
          },
          "metadata": {},
          "execution_count": 24
        }
      ]
    },
    {
      "cell_type": "code",
      "source": [
        "student_data.pop(7,\"not found\")"
      ],
      "metadata": {
        "colab": {
          "base_uri": "https://localhost:8080/",
          "height": 35
        },
        "id": "AlW6Lvn7cHTw",
        "outputId": "b4b73ae0-e73b-4e37-af81-7548653fefa6"
      },
      "execution_count": null,
      "outputs": [
        {
          "output_type": "execute_result",
          "data": {
            "text/plain": [
              "'not found'"
            ],
            "application/vnd.google.colaboratory.intrinsic+json": {
              "type": "string"
            }
          },
          "metadata": {},
          "execution_count": 25
        }
      ]
    },
    {
      "cell_type": "code",
      "source": [
        "student_data.popitem()"
      ],
      "metadata": {
        "colab": {
          "base_uri": "https://localhost:8080/"
        },
        "id": "5ifMcq54ctBK",
        "outputId": "bdeb7be8-3524-4b4d-c1e6-1e382a3cc681"
      },
      "execution_count": null,
      "outputs": [
        {
          "output_type": "execute_result",
          "data": {
            "text/plain": [
              "(5, 'deepak')"
            ]
          },
          "metadata": {},
          "execution_count": 26
        }
      ]
    },
    {
      "cell_type": "code",
      "source": [
        "student_data"
      ],
      "metadata": {
        "colab": {
          "base_uri": "https://localhost:8080/"
        },
        "id": "s2bQlpbzcy2W",
        "outputId": "bd4bbabe-9df1-4cbf-9315-7eb8570de6e6"
      },
      "execution_count": null,
      "outputs": [
        {
          "output_type": "execute_result",
          "data": {
            "text/plain": [
              "{1: 'amit', 2: 'rajesh', 3: 'sanjay', 4: 'vijay'}"
            ]
          },
          "metadata": {},
          "execution_count": 27
        }
      ]
    },
    {
      "cell_type": "code",
      "source": [
        "k={1: 'amit', 2: 'rajesh', 3: 'sanjay', 4: 'vijay', 5: 'deepak', 6: 'atul'}\n"
      ],
      "metadata": {
        "id": "3vxkHXpSc2H_"
      },
      "execution_count": null,
      "outputs": []
    },
    {
      "cell_type": "code",
      "source": [
        "k.clear()"
      ],
      "metadata": {
        "id": "3vB0O4-VdLSD"
      },
      "execution_count": null,
      "outputs": []
    },
    {
      "cell_type": "code",
      "source": [
        "k"
      ],
      "metadata": {
        "colab": {
          "base_uri": "https://localhost:8080/"
        },
        "id": "QB9XSTBNdQRW",
        "outputId": "eadbfe18-e058-455c-9b6b-60125f357ce9"
      },
      "execution_count": null,
      "outputs": [
        {
          "output_type": "execute_result",
          "data": {
            "text/plain": [
              "{}"
            ]
          },
          "metadata": {},
          "execution_count": 30
        }
      ]
    },
    {
      "cell_type": "code",
      "source": [
        "orignal={1:\"one\",2:\"two\",3:\"three\"}"
      ],
      "metadata": {
        "id": "SRFyTt9kdRRM"
      },
      "execution_count": null,
      "outputs": []
    },
    {
      "cell_type": "code",
      "source": [
        "new=orignal.copy()"
      ],
      "metadata": {
        "id": "huIl-NxHdeJt"
      },
      "execution_count": null,
      "outputs": []
    },
    {
      "cell_type": "code",
      "source": [
        "new"
      ],
      "metadata": {
        "colab": {
          "base_uri": "https://localhost:8080/"
        },
        "id": "35a8-7Sadk0O",
        "outputId": "f2f41d50-1818-490d-cd81-20083db1fcd2"
      },
      "execution_count": null,
      "outputs": [
        {
          "output_type": "execute_result",
          "data": {
            "text/plain": [
              "{1: 'one', 2: 'two', 3: 'three'}"
            ]
          },
          "metadata": {},
          "execution_count": 33
        }
      ]
    },
    {
      "cell_type": "code",
      "source": [
        "fruits={\"red\":\"apple\",\"yellow\":\"banana\",\"green\":\"grapes\"}"
      ],
      "metadata": {
        "id": "gPYZLcctdmPC"
      },
      "execution_count": null,
      "outputs": []
    },
    {
      "cell_type": "code",
      "source": [
        "value=fruits.setdefault(\"yellow\")"
      ],
      "metadata": {
        "id": "QXEfxf4neIQi"
      },
      "execution_count": null,
      "outputs": []
    },
    {
      "cell_type": "code",
      "source": [
        "value"
      ],
      "metadata": {
        "colab": {
          "base_uri": "https://localhost:8080/",
          "height": 35
        },
        "id": "eW-9FhEOehn7",
        "outputId": "35701582-ee64-4467-986d-8492f5e370ce"
      },
      "execution_count": null,
      "outputs": [
        {
          "output_type": "execute_result",
          "data": {
            "text/plain": [
              "'banana'"
            ],
            "application/vnd.google.colaboratory.intrinsic+json": {
              "type": "string"
            }
          },
          "metadata": {},
          "execution_count": 36
        }
      ]
    },
    {
      "cell_type": "code",
      "source": [
        "value=fruits.setdefault(\"yellow\",\"opk\")"
      ],
      "metadata": {
        "id": "ioD3LmbJeixv"
      },
      "execution_count": null,
      "outputs": []
    },
    {
      "cell_type": "code",
      "source": [
        "value"
      ],
      "metadata": {
        "colab": {
          "base_uri": "https://localhost:8080/",
          "height": 35
        },
        "id": "r2Zhv58CeuHB",
        "outputId": "60aa4864-4b0b-401e-d915-ab70c86a4b33"
      },
      "execution_count": null,
      "outputs": [
        {
          "output_type": "execute_result",
          "data": {
            "text/plain": [
              "'banana'"
            ],
            "application/vnd.google.colaboratory.intrinsic+json": {
              "type": "string"
            }
          },
          "metadata": {},
          "execution_count": 38
        }
      ]
    },
    {
      "cell_type": "code",
      "source": [
        "value=fruits.setdefault(\"black\")"
      ],
      "metadata": {
        "id": "VQRP74jVevPh"
      },
      "execution_count": null,
      "outputs": []
    },
    {
      "cell_type": "code",
      "source": [
        "value"
      ],
      "metadata": {
        "id": "NVxboOnne0IJ"
      },
      "execution_count": null,
      "outputs": []
    },
    {
      "cell_type": "code",
      "source": [
        "fruits"
      ],
      "metadata": {
        "colab": {
          "base_uri": "https://localhost:8080/"
        },
        "id": "Rx0dec_-e1Rp",
        "outputId": "e7140731-f848-47c7-a49f-3d6762fdda7f"
      },
      "execution_count": null,
      "outputs": [
        {
          "output_type": "execute_result",
          "data": {
            "text/plain": [
              "{'red': 'apple', 'yellow': 'banana', 'green': 'grapes', 'black': None}"
            ]
          },
          "metadata": {},
          "execution_count": 41
        }
      ]
    },
    {
      "cell_type": "code",
      "source": [
        "value=fruits.setdefault(\"black\",\"abc\")"
      ],
      "metadata": {
        "id": "8MUEgZ6Pe4CU"
      },
      "execution_count": null,
      "outputs": []
    },
    {
      "cell_type": "code",
      "source": [
        "fruits"
      ],
      "metadata": {
        "colab": {
          "base_uri": "https://localhost:8080/"
        },
        "id": "m3DfWCPjfHWw",
        "outputId": "2573586c-d5db-4cde-f56c-e2beb8329fba"
      },
      "execution_count": null,
      "outputs": [
        {
          "output_type": "execute_result",
          "data": {
            "text/plain": [
              "{'red': 'apple', 'yellow': 'banana', 'green': 'grapes', 'black': None}"
            ]
          },
          "metadata": {},
          "execution_count": 43
        }
      ]
    },
    {
      "cell_type": "code",
      "source": [
        "fruits[\"black\"]=\"abc\""
      ],
      "metadata": {
        "id": "qrinYkDxfJZy"
      },
      "execution_count": null,
      "outputs": []
    },
    {
      "cell_type": "code",
      "source": [
        "fruits"
      ],
      "metadata": {
        "colab": {
          "base_uri": "https://localhost:8080/"
        },
        "id": "oxUUhQORfUlG",
        "outputId": "6601b435-f7c6-466a-9f29-51643b397280"
      },
      "execution_count": null,
      "outputs": [
        {
          "output_type": "execute_result",
          "data": {
            "text/plain": [
              "{'red': 'apple', 'yellow': 'banana', 'green': 'grapes', 'black': 'abc'}"
            ]
          },
          "metadata": {},
          "execution_count": 45
        }
      ]
    },
    {
      "cell_type": "code",
      "source": [
        "value=fruits.setdefault(\"white\",\"pineapple\")"
      ],
      "metadata": {
        "id": "5xLh_QM9fVx9"
      },
      "execution_count": null,
      "outputs": []
    },
    {
      "cell_type": "code",
      "source": [
        "value"
      ],
      "metadata": {
        "colab": {
          "base_uri": "https://localhost:8080/",
          "height": 35
        },
        "id": "046DlmVYfrzN",
        "outputId": "831a9094-b790-443f-dce2-36a48775130c"
      },
      "execution_count": null,
      "outputs": [
        {
          "output_type": "execute_result",
          "data": {
            "text/plain": [
              "'pineapple'"
            ],
            "application/vnd.google.colaboratory.intrinsic+json": {
              "type": "string"
            }
          },
          "metadata": {},
          "execution_count": 47
        }
      ]
    },
    {
      "cell_type": "code",
      "source": [
        "fruits"
      ],
      "metadata": {
        "colab": {
          "base_uri": "https://localhost:8080/"
        },
        "id": "fxH8gJRZfs6F",
        "outputId": "237d2390-98d2-4e0a-908a-9d158052f8df"
      },
      "execution_count": null,
      "outputs": [
        {
          "output_type": "execute_result",
          "data": {
            "text/plain": [
              "{'red': 'apple',\n",
              " 'yellow': 'banana',\n",
              " 'green': 'grapes',\n",
              " 'black': 'abc',\n",
              " 'white': 'pineapple'}"
            ]
          },
          "metadata": {},
          "execution_count": 48
        }
      ]
    },
    {
      "cell_type": "code",
      "source": [],
      "metadata": {
        "id": "MN-wCQ1efuZP"
      },
      "execution_count": null,
      "outputs": []
    }
  ]
}